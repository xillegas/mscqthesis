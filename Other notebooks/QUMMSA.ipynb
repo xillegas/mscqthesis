{
 "cells": [
  {
   "cell_type": "markdown",
   "id": "0a04608c",
   "metadata": {},
   "source": [
    "Summary (brief)\n",
    "\n",
    "Prepares a 3‑qubit uniform superposition.\n",
    "Implements a Grover-like step: an oracle that flips phase of state |01> (via H–CNOT–H) and a diffusion (inversion-about-mean) built with H/X and a 3‑qubit phase flip implemented as H‑Toffoli‑H (i.e., CCZ).\n",
    "Applies an extra single‑qubit RZ phase on qubit 0.\n",
    "Runs the circuit on a MindQuantum Simulator, obtains the statevector, samples measurement outcomes from the state probabilities, and prints counts.\n",
    "The last small snippet finds the minimum of a few random numbers."
   ]
  },
  {
   "cell_type": "code",
   "execution_count": 2,
   "id": "d2b19569",
   "metadata": {},
   "outputs": [
    {
     "name": "stdout",
     "output_type": "stream",
     "text": [
      "{'111': 51, '011': 49}\n",
      "final d0: 0.04215331937538802\n"
     ]
    }
   ],
   "source": [
    "from mindquantum.core.gates import X, H, Z, Measure, RZ\n",
    "from mindquantum.core.circuit import Circuit\n",
    "from mindquantum.simulator import Simulator\n",
    "import numpy as np\n",
    "from collections import Counter\n",
    "\n",
    "# Number of qubits\n",
    "n_qubits = 3\n",
    "\n",
    "# 1) Prepare uniform superposition |+++...+>\n",
    "circ = Circuit()\n",
    "for i in range(n_qubits):\n",
    "    circ += H.on(i)   # apply H to each qubit\n",
    "\n",
    "# 2) Oracle: flip phase of target marked state.\n",
    "# Here written as CZ(control=0, target=1) implemented via H-target, CNOT(control=0,target=1), H-target.\n",
    "oracle_circ = Circuit()\n",
    "oracle_circ += H.on(1)\n",
    "oracle_circ += X.on(1, [0])   # CNOT: X.on(target, controls)\n",
    "oracle_circ += H.on(1)\n",
    "\n",
    "# 3) Build Grover circuit = oracle + diffusion\n",
    "grover_circ = Circuit() + oracle_circ\n",
    "\n",
    "# 4) Diffusion (inversion about the mean)\n",
    "#    For each qubit: H, X (map |s> to |11..1>), then apply multi-qubit Z (phase flip on |11..1>),\n",
    "#    and undo with X, H. For 3 qubits we implement the multi-qubit Z as H on target + Toffoli + H.\n",
    "diffusion = Circuit()\n",
    "for i in range(n_qubits):\n",
    "    diffusion += H.on(i)\n",
    "    diffusion += X.on(i)\n",
    "\n",
    "# implement CCZ via H on the target qubit (qubit 2), then Toffoli (X with controls [0,1] and target 2), then H\n",
    "diffusion += H.on(2)\n",
    "diffusion += X.on(2, [0, 1])   # Toffoli: target=2, controls=[0,1]\n",
    "diffusion += H.on(2)\n",
    "\n",
    "# undo the X/H from before to complete the inversion-about-mean\n",
    "for i in range(n_qubits):\n",
    "    diffusion += X.on(i)\n",
    "    diffusion += H.on(i)\n",
    "\n",
    "grover_circ += diffusion\n",
    "\n",
    "# 5) Optional single-qubit phase rotation on qubit 0\n",
    "phi = np.pi / 4\n",
    "grover_circ += RZ(phi).on(0)\n",
    "\n",
    "# 6) Execute on Simulator\n",
    "sim = Simulator('mqvector_gpu', n_qubits)   # backend name may vary; ensure this backend exists\n",
    "sim.apply_circuit(circ + grover_circ)       # apply the full circuit to the simulator state\n",
    "\n",
    "# 7) Get the statevector from the simulator (try several common accessor names)\n",
    "try:\n",
    "    state = sim.get_qs()\n",
    "except AttributeError:\n",
    "    try:\n",
    "        state = sim.get_statevector()\n",
    "    except AttributeError:\n",
    "        try:\n",
    "            state = sim.get_state()\n",
    "        except AttributeError as e:\n",
    "            raise RuntimeError(\n",
    "                \"Cannot obtain statevector from Simulator. Paste full traceback if this occurs.\"\n",
    "            ) from e\n",
    "\n",
    "# 8) Sample measurement outcomes from statevector probabilities\n",
    "shots = 100\n",
    "probs = np.abs(state) ** 2                     # probability for each computational basis index\n",
    "indices = np.random.choice(len(probs), size=shots, p=probs)\n",
    "\n",
    "# Convert sample indices to bitstrings.\n",
    "# NOTE: bit order depends on how the simulator indexes basis states (check MQ docs if results look reversed).\n",
    "bitstrings = [format(i, f'0{n_qubits}b') for i in indices]\n",
    "result = dict(Counter(bitstrings))\n",
    "print(result)\n",
    "\n",
    "# 9) Small independent snippet: repeatedly draw random numbers and keep the smallest seen.\n",
    "d0 = np.random.rand()\n",
    "c = 5\n",
    "for _ in range(c):\n",
    "    d1 = np.random.rand()\n",
    "    if d1 < d0:\n",
    "        d0 = d1\n",
    "print('final d0:', d0)"
   ]
  },
  {
   "cell_type": "markdown",
   "id": "0ba02163",
   "metadata": {},
   "source": [
    "Notes / pitfalls\n",
    "\n",
    "Gate syntax: MindQuantum uses X.on(target, controls) (not X.on([control,target]) ). Your code uses the correct pattern.\n",
    "Backend names: 'mqvector_gpu' may not exist or be unsupported on your machine; use a backend available in your env (e.g., 'projectq' or MQ default). If apply_circuit or state accessors fail, paste the exact traceback.\n",
    "Bitstring ordering: when interpreting printed keys, simulator endianness matters (MSB vs LSB). If counts look reversed, swap bit order or check MQ docs.\n",
    "If you want, I can:\n",
    "\n",
    "Add explicit measurement-by-circuit (if your MQ version supports it), or\n",
    "Replace the Toffoli decomposition with a 2-qubit decomposition that avoids multi-controlled X if your MQ version lacks that support."
   ]
  }
 ],
 "metadata": {
  "kernelspec": {
   "display_name": "mindquantum",
   "language": "python",
   "name": "python3"
  },
  "language_info": {
   "codemirror_mode": {
    "name": "ipython",
    "version": 3
   },
   "file_extension": ".py",
   "mimetype": "text/x-python",
   "name": "python",
   "nbconvert_exporter": "python",
   "pygments_lexer": "ipython3",
   "version": "3.11.13"
  }
 },
 "nbformat": 4,
 "nbformat_minor": 5
}
