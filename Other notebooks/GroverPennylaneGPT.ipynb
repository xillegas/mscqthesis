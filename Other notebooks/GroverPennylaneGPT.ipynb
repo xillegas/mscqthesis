{
 "cells": [
  {
   "cell_type": "code",
   "execution_count": 1,
   "id": "873462f4",
   "metadata": {},
   "outputs": [
    {
     "name": "stdout",
     "output_type": "stream",
     "text": [
      "Probabilities: [0.23632812 0.23098755 0.01757812 0.0161438  0.01757812 0.0161438\n",
      " 0.01757812 0.0161438  0.01757812 0.0161438  0.01757812 0.0161438\n",
      " 0.01757812 0.0161438  0.01757812 0.0161438  0.01757812 0.0161438\n",
      " 0.01757812 0.0161438  0.01757812 0.0161438  0.01757812 0.0161438\n",
      " 0.01757812 0.0161438  0.01757812 0.0161438  0.01757812 0.0161438\n",
      " 0.03125    0.02932739]\n",
      "Most probable state: 0\n"
     ]
    },
    {
     "name": "stderr",
     "output_type": "stream",
     "text": [
      "c:\\Users\\xillegas\\.conda\\envs\\qiskit\\lib\\site-packages\\pennylane\\ops\\op_math\\controlled_ops.py:1046: UserWarning: The control_wires keyword will be removed soon. Use wires = (control_wires, target_wire) instead. See the documentation for more information.\n",
      "  warnings.warn(\n"
     ]
    }
   ],
   "source": [
    "import pennylane as qml\n",
    "from pennylane import numpy as np\n",
    "\n",
    "# Define the oracle for the marked element (e.g., |11111>)\n",
    "def oracle(n_qubits, marked_element):\n",
    "    def oracle_circuit():\n",
    "        for i, bit in enumerate(reversed(marked_element)):\n",
    "            if bit == '0':\n",
    "                qml.PauliX(i)\n",
    "        qml.MultiControlledX(control_wires=list(range(n_qubits-1)), wires=n_qubits-1)\n",
    "        for i, bit in enumerate(reversed(marked_element)):\n",
    "            if bit == '1':\n",
    "                qml.PauliX(i)\n",
    "    return oracle_circuit\n",
    "\n",
    "# Define the diffuser (inversion about the mean)\n",
    "def diffuser(n_qubits):\n",
    "    def diffuser_circuit():\n",
    "        for i in range(n_qubits):\n",
    "            qml.Hadamard(i)\n",
    "        for i in range(n_qubits):\n",
    "            qml.PauliX(i)\n",
    "        qml.MultiControlledX(control_wires=list(range(n_qubits-1)), wires=n_qubits-1)\n",
    "        for i in range(n_qubits):\n",
    "            qml.PauliX(i)\n",
    "        for i in range(n_qubits):\n",
    "            qml.Hadamard(i)\n",
    "    return diffuser_circuit\n",
    "\n",
    "# Grover's algorithm implementation\n",
    "def grover_search(n_qubits, marked_element, num_iterations):\n",
    "    dev = qml.device(\"default.qubit\", wires=n_qubits)\n",
    "\n",
    "    @qml.qnode(dev)\n",
    "    def circuit():\n",
    "        # Initialize in uniform superposition\n",
    "        for i in range(n_qubits):\n",
    "            qml.Hadamard(i)\n",
    "        # Grover iterations\n",
    "        for _ in range(num_iterations):\n",
    "            oracle(n_qubits, marked_element)()\n",
    "            diffuser(n_qubits)()\n",
    "        return qml.probs(wires=range(n_qubits))\n",
    "    \n",
    "    return circuit()\n",
    "\n",
    "# Example usage: search for |11111> in 5 qubits\n",
    "n_qubits = 5\n",
    "marked_element = '10000'\n",
    "num_iterations = 3  # For 5 qubits, floor(pi/4*sqrt(2**5)) ≈ 3\n",
    "\n",
    "probs = grover_search(n_qubits, marked_element, num_iterations)\n",
    "print(\"Probabilities:\", probs)\n",
    "print(\"Most probable state:\", np.argmax(probs))"
   ]
  }
 ],
 "metadata": {
  "kernelspec": {
   "display_name": "qiskit",
   "language": "python",
   "name": "python3"
  },
  "language_info": {
   "codemirror_mode": {
    "name": "ipython",
    "version": 3
   },
   "file_extension": ".py",
   "mimetype": "text/x-python",
   "name": "python",
   "nbconvert_exporter": "python",
   "pygments_lexer": "ipython3",
   "version": "3.10.4"
  }
 },
 "nbformat": 4,
 "nbformat_minor": 5
}
