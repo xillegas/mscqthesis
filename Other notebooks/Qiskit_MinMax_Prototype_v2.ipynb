{
 "cells": [
  {
   "cell_type": "markdown",
   "metadata": {},
   "source": [
    "# Prototipo Qiskit: Grover de Umbral y Mínimo Dürr–Høyer (v2)\n",
    "\n",
    "Objetivos:\n",
    "- Detectar bombas sobre un umbral por variable (Grover con oráculo de umbral).\n",
    "- Hallar la bomba más sana (mínimo, argmin) por variable con un bucle Dürr–Høyer robusto.\n",
    "\n",
    "Notas:\n",
    "- Variables normalizadas en [0, 1]; menor = más sano.\n",
    "- Oráculos de valores embebidos (sin QRAM) para fines didácticos.\n",
    "- Se usa un cálculo óptimo de iteraciones de Grover y varios intentos por ronda.\n",
    "- Fijamos semilla y aumentamos shots para resultados más estables."
   ]
  },
  {
   "cell_type": "code",
   "execution_count": 1,
   "id": "c779b7eb",
   "metadata": {},
   "outputs": [
    {
     "name": "stdout",
     "output_type": "stream",
     "text": [
      "Qiskit backend cargado: AerProvider\n"
     ]
    }
   ],
   "source": [
    "# Si lo necesitas: %pip install -U qiskit qiskit-aer\n",
    "from math import ceil, log2, pi, sqrt, asin, floor\n",
    "from collections import Counter\n",
    "import random\n",
    "\n",
    "from qiskit import QuantumCircuit, transpile\n",
    "try:\n",
    "    from qiskit_aer import Aer\n",
    "except Exception:\n",
    "    from qiskit import Aer\n",
    "\n",
    "# Semilla para reproducibilidad en este cuaderno\n",
    "random.seed(0)\n",
    "print(\"Qiskit backend cargado:\", Aer)"
   ]
  },
  {
   "cell_type": "code",
   "execution_count": 2,
   "id": "d63e3e09",
   "metadata": {},
   "outputs": [],
   "source": [
    "def num_qubits_for_n(n_items: int) -> int:\n",
    "    return max(1, ceil(log2(max(1, n_items))))\n",
    "\n",
    "def index_to_bits(i: int, n_qubits: int):\n",
    "    return [int(b) for b in format(i, f\"0{n_qubits}b\")]\n",
    "\n",
    "def bitstring_to_index(bs: str) -> int:\n",
    "    # invierte la cadena porque Qiskit devuelve los bits en orden opuesto\n",
    "    return int(bs[::-1], 2)"
   ]
  },
  {
   "cell_type": "code",
   "execution_count": 3,
   "id": "3cd2f82c",
   "metadata": {},
   "outputs": [],
   "source": [
    "def phase_oracle_gate(n_index: int, marked_indices):\n",
    "    \"\"\"\n",
    "    Devuelve un Gate que aplica un flip de fase a |i> para i en marked_indices usando un ancilla en |->.\n",
    "    El circuito espera n_index qubits de índice y 1 qubit ancilla al final.\n",
    "    \"\"\"\n",
    "    qc = QuantumCircuit(n_index + 1, name=\"Oracle\")\n",
    "    for idx in marked_indices:\n",
    "        bits = index_to_bits(idx, n_index)\n",
    "        for qb, bit in enumerate(bits):\n",
    "            if bit == 0:\n",
    "                qc.x(qb)\n",
    "        qc.mcx(list(range(n_index)), n_index)\n",
    "        for qb, bit in enumerate(bits):\n",
    "            if bit == 0:\n",
    "                qc.x(qb)\n",
    "    return qc.to_gate()\n",
    "\n",
    "def diffuser_gate(n_index: int):\n",
    "    qc = QuantumCircuit(n_index, name=\"Diffuser\")\n",
    "    qc.h(range(n_index))\n",
    "    qc.x(range(n_index))\n",
    "    if n_index == 1:\n",
    "        qc.z(0)\n",
    "    else:\n",
    "        qc.h(n_index - 1)\n",
    "        qc.mcx(list(range(n_index - 1)), n_index - 1)\n",
    "        qc.h(n_index - 1)\n",
    "    qc.x(range(n_index))\n",
    "    qc.h(range(n_index))\n",
    "    return qc.to_gate()\n",
    "\n",
    "def optimal_grover_iterations(N: int, M: int) -> int:\n",
    "    if M <= 0 or M > N:\n",
    "        return 1\n",
    "    theta = asin(sqrt(M / N))\n",
    "    k = floor(pi / (4 * theta) - 0.5)\n",
    "    return max(1, k)\n",
    "\n",
    "def run_grover_threshold(marked_indices, n_items: int, iterations: int = 1, shots: int = 4096):\n",
    "    n_index = num_qubits_for_n(n_items)\n",
    "    qc = QuantumCircuit(n_index + 1, n_index, name=\"GroverThreshold\")\n",
    "    qc.h(range(n_index))\n",
    "    qc.x(n_index)\n",
    "    qc.h(n_index)\n",
    "    oracle = phase_oracle_gate(n_index, marked_indices)\n",
    "    diffuser = diffuser_gate(n_index)\n",
    "    for _ in range(iterations):\n",
    "        qc.append(oracle, list(range(n_index + 1)))\n",
    "        qc.append(diffuser, list(range(n_index)))\n",
    "    qc.measure(list(range(n_index)), list(range(n_index)))\n",
    "    backend = Aer.get_backend(\"qasm_simulator\")\n",
    "    tqc = transpile(qc, backend)\n",
    "    result = backend.run(tqc, shots=shots).result()\n",
    "    counts = result.get_counts()\n",
    "    return counts, qc\n"
   ]
  },
  {
   "cell_type": "markdown",
   "id": "a1b21119",
   "metadata": {},
   "source": [
    "## Datos de ejemplo (sintético)\n",
    "- Valores bajos son equipos sanos.\n",
    "- Demostramos búsqueda de umbral (τ = 0.8) y mínimo.\n"
   ]
  },
  {
   "cell_type": "code",
   "execution_count": 4,
   "id": "41a4ac5b",
   "metadata": {},
   "outputs": [],
   "source": [
    "pump_ids = [f\"P{i:03d}\" for i in range(8)]\n",
    "time_of_use  = [0.21, 0.18, 0.11, 0.09, 0.85, 0.67, 0.44, 0.32]\n",
    "max_current = [0.10, 0.52, 0.33, 0.01, 0.72, 0.64, 0.28, 0.41]\n",
    "vibration    = [0.03, 0.14, 0.59, 0.20, 0.22, 0.47, 0.18, 0.35]\n",
    "N = len(pump_ids)\n",
    "tau = 0.8\n"
   ]
  },
  {
   "cell_type": "markdown",
   "id": "885d92e2",
   "metadata": {},
   "source": [
    "## Grover de umbral (candidatos a mantenimiento)\n"
   ]
  },
  {
   "cell_type": "code",
   "execution_count": 5,
   "id": "5ed17b6d",
   "metadata": {},
   "outputs": [
    {
     "name": "stdout",
     "output_type": "stream",
     "text": [
      "Índices marcados (v >= tau): []\n",
      "No hay bombas sobre el umbral.\n"
     ]
    }
   ],
   "source": [
    "values = max_current\n",
    "marked = [i for i, v in enumerate(values) if v >= tau]\n",
    "M = len(marked)\n",
    "print(\"Índices marcados (v >= tau):\", marked)\n",
    "if M == 0:\n",
    "    print(\"No hay bombas sobre el umbral.\")\n",
    "else:\n",
    "    k = optimal_grover_iterations(N, M)\n",
    "    counts, qc = run_grover_threshold(marked, N, iterations=k, shots=4096)\n",
    "    print(\"Iteraciones Grover:\", k)\n",
    "    print(\"Resultados principales:\")\n",
    "    for bitstring, c in Counter(counts).most_common(8):\n",
    "        idx = bitstring_to_index(bitstring)\n",
    "        print(bitstring, \"-> índice\", idx, pump_ids[idx], \"conteo\", c)\n"
   ]
  },
  {
   "cell_type": "markdown",
   "id": "976acb61",
   "metadata": {},
   "source": [
    "## Mínimo Dürr–Høyer robusto (bomba más sana)\n"
   ]
  },
  {
   "cell_type": "code",
   "execution_count": 6,
   "id": "f5331d39",
   "metadata": {},
   "outputs": [
    {
     "name": "stdout",
     "output_type": "stream",
     "text": [
      "Índice cuántico (argmin): 6 P006 valor= 0.44\n",
      "Índice clásico (argmin): 3 P003 valor= 0.09\n",
      "¿Coinciden? No\n",
      "Historia (índice, valor): [(6, 0.44), (4, 0.85), (4, 0.85), (6, 0.44), (4, 0.85)]\n"
     ]
    }
   ],
   "source": [
    "def dh_min_index(values, shots=4096, max_rounds=8, tries_per_round=3):\n",
    "    N = len(values)\n",
    "    current = random.randrange(N)\n",
    "    current_val = values[current]\n",
    "    history = [(current, current_val)]\n",
    "    for _ in range(max_rounds):\n",
    "        marked = [j for j, v in enumerate(values) if v < current_val]\n",
    "        if not marked:\n",
    "            break\n",
    "        M = len(marked)\n",
    "        improved = False\n",
    "        for _ in range(tries_per_round):\n",
    "            k = optimal_grover_iterations(N, M)\n",
    "            counts, _ = run_grover_threshold(marked, N, iterations=k, shots=shots)\n",
    "            candidates = [(bitstring_to_index(bs), c) for bs, c in counts.items()]\n",
    "            candidates.sort(key=lambda x: x[1], reverse=True)\n",
    "            cand_idx = candidates[0][0]\n",
    "            cand_val = values[cand_idx]\n",
    "            history.append((cand_idx, cand_val))\n",
    "            if cand_val < current_val:\n",
    "                current, current_val = cand_idx, cand_val\n",
    "                improved = True\n",
    "                break\n",
    "        if not improved:\n",
    "            k_max = optimal_grover_iterations(N, max(1, M))\n",
    "            k_rand = random.randint(0, max(1, k_max))\n",
    "            counts, _ = run_grover_threshold(marked, N, iterations=max(1, k_rand), shots=shots)\n",
    "            candidates = [(bitstring_to_index(bs), c) for bs, c in counts.items()]\n",
    "            candidates.sort(key=lambda x: x[1], reverse=True)\n",
    "            cand_idx = candidates[0][0]\n",
    "            cand_val = values[cand_idx]\n",
    "            history.append((cand_idx, cand_val))\n",
    "            if cand_val < current_val:\n",
    "                current, current_val = cand_idx, cand_val\n",
    "            else:\n",
    "                break\n",
    "    return current, history\n",
    "\n",
    "# Ejecutar prueba de mínimo sobre time_of_use\n",
    "values = time_of_use\n",
    "idx_q, hist = dh_min_index(values, shots=4096, max_rounds=6)\n",
    "idx_classico = min(range(N), key=lambda i: values[i])\n",
    "print(\"Índice cuántico (argmin):\", idx_q, pump_ids[idx_q], \"valor=\", values[idx_q])\n",
    "print(\"Índice clásico (argmin):\", idx_classico, pump_ids[idx_classico], \"valor=\", values[idx_classico])\n",
    "print(\"¿Coinciden?\", \"Sí\" if idx_q == idx_classico else \"No\")\n",
    "print(\"Historia (índice, valor):\", hist)\n"
   ]
  },
  {
   "cell_type": "code",
   "execution_count": 7,
   "id": "91daf417",
   "metadata": {},
   "outputs": [
    {
     "name": "stdout",
     "output_type": "stream",
     "text": [
      "Clásico (argmin): idx=3 (P003) valor=0.090\n",
      "Ensayos: 200 | Coinciden: 116 | No coinciden: 84 | Acierto: 58.0%\n"
     ]
    },
    {
     "data": {
      "image/png": "[encoded data removed]",
      "text/plain": [
       "<Figure size 500x300 with 1 Axes>"
      ]
     },
     "metadata": {},
     "output_type": "display_data"
    },
    {
     "data": {
      "image/png": "[encoded data removed]",
      "text/plain": [
       "<Figure size 600x300 with 1 Axes>"
      ]
     },
     "metadata": {},
     "output_type": "display_data"
    }
   ],
   "source": [
    "# Iteraciones para estimar tasa de aciertos del argmin cuántico\n",
    "import random\n",
    "import matplotlib.pyplot as plt\n",
    "from collections import Counter\n",
    "\n",
    "# Parámetros\n",
    "values = time_of_use  # cambia a max_current, vibration, etc. si quieres\n",
    "trials = 200\n",
    "shots = 4096\n",
    "max_rounds = 6\n",
    "tries_per_round = 3  # coherente con dh_min_index\n",
    "\n",
    "# Índice clásico de referencia\n",
    "N = len(values)\n",
    "idx_classico = min(range(N), key=lambda i: values[i])\n",
    "\n",
    "# Ejecutar múltiples veces\n",
    "hits = 0\n",
    "misses = 0\n",
    "q_indices = []\n",
    "\n",
    "# Opcional: fija semilla para reproducibilidad de este bloque\n",
    "random.seed(1)\n",
    "\n",
    "for _ in range(trials):\n",
    "    idx_q, _ = dh_min_index(values, shots=shots, max_rounds=max_rounds, tries_per_round=tries_per_round)\n",
    "    q_indices.append(idx_q)\n",
    "    if idx_q == idx_classico:\n",
    "        hits += 1\n",
    "    else:\n",
    "        misses += 1\n",
    "\n",
    "print(f\"Clásico (argmin): idx={idx_classico} ({pump_ids[idx_classico]}) valor={values[idx_classico]:.3f}\")\n",
    "print(f\"Ensayos: {trials} | Coinciden: {hits} | No coinciden: {misses} | Acierto: {100*hits/trials:.1f}%\")\n",
    "\n",
    "# Histograma de coincidencias vs no\n",
    "plt.figure(figsize=(5,3))\n",
    "plt.bar(['Coincide','No coincide'], [hits, misses], color=['tab:green','tab:red'])\n",
    "plt.title('Argmin cuántico vs clásico')\n",
    "plt.ylabel('Recuentos')\n",
    "for x, y in zip(['Coincide','No coincide'], [hits, misses]):\n",
    "    plt.text(x, y + max(1, trials*0.01), f\"{y}\", ha='center', va='bottom')\n",
    "plt.ylim(0, max(hits, misses)*1.15 if trials>0 else 1)\n",
    "plt.show()\n",
    "\n",
    "# (Opcional) Distribución de índices cuánticos devueltos\n",
    "plt.figure(figsize=(6,3))\n",
    "counts = Counter(q_indices)\n",
    "plt.bar([pump_ids[i] for i in range(N)], [counts.get(i,0) for i in range(N)], color='tab:blue')\n",
    "plt.title('Frecuencia de índices devueltos por dh_min_index')\n",
    "plt.ylabel('Recuentos')\n",
    "plt.xlabel('Bomba')\n",
    "plt.xticks(rotation=45)\n",
    "plt.tight_layout()\n",
    "plt.show()"
   ]
  }
 ],
 "metadata": {
  "kernelspec": {
   "display_name": "qisky",
   "language": "python",
   "name": "python3"
  },
  "language_info": {
   "codemirror_mode": {
    "name": "ipython",
    "version": 3
   },
   "file_extension": ".py",
   "mimetype": "text/x-python",
   "name": "python",
   "nbconvert_exporter": "python",
   "pygments_lexer": "ipython3",
   "version": "3.12.11"
  }
 },
 "nbformat": 4,
 "nbformat_minor": 5
}
