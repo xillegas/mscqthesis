{
 "cells": [
  {
   "cell_type": "markdown",
   "metadata": {},
   "source": [
    "# Grover Minimum: Algoritmo cuántico de búsqueda de mínimo de Dürr y Høyer implementado usando Qiskit\n",
    "El presente código es un Jupyter Notebook que implementa el algoritmo de Grover para buscar un valor mínimo en un arreglo no ordenado de números basándose en el trabajo de Durr y Hoyer, usando el paquete Qiskit de IBM. Es una adaptación actualizada del código original de Gurleen Pannu.\n",
    "\n",
    "1. La primera celda importa las librerías necesarias, incluyendo NumPy y Qiskit.\n",
    "2. La segunda celda define dos funciones: `find_min` y `grover_search`. La función `find_min` utiliza la función `grover_search` para encontrar el valor mínimo en un arreglo no ordenado. La función `grover_search` implementa el algoritmo de Grover, que es un algoritmo cuántico para buscar en un arreglo no ordenado.\n",
    "3. La tercera celda crea un arreglo no ordenado de 16 números y lo mezcla aleatoriamente. Luego llama a la función `find_min` con este arreglo y 64 iteraciones para encontrar el valor mínimo.\n",
    "\n",
    "El algoritmo de Grover es un algoritmo cuántico que puede buscar en un arreglo no ordenado en tiempo O(sqrt(N)), donde N es el tamaño del arreglo. Esto es mucho más rápido que los algoritmos clásicos para buscar en un arreglo no ordenado, que tienen una complejidad temporal de O(N).\n",
    "\n",
    "En este código, la función `grover_search` utiliza la implementación del algoritmo de Grover de Qiskit para encontrar el índice del valor mínimo en el arreglo. La función primero crea un circuito oráculo que marca los índices de los elementos en el arreglo que son menores o iguales a un umbral dado. Luego aplica el operador de Grover a este circuito oráculo, lo que amplifica la probabilidad de encontrar el valor mínimo. Finalmente, mide la salida del circuito cuántico y devuelve el índice del valor mínimo.\n",
    "\n",
    "## Versiones usadas en este cuaderno\n",
    " - Python 3.12.1\n",
    " - qiskit 2.1.0\n",
    " - qiskit-aer 0.17.1\n",
    " \n",
    "## Fuentes\n",
    "https://github.com/Gurleenp/Quantum-Algorithms?utm_source=chatgpt.com"
   ]
  },
  {
   "cell_type": "code",
   "execution_count": 1,
   "metadata": {},
   "outputs": [],
   "source": [
    "# Importamos las librerías necesarias\n",
    "import numpy as np  # Para operaciones numéricas y manejo de arreglos\n",
    "from qiskit import QuantumCircuit  # Para crear circuitos cuánticos\n",
    "from qiskit_aer import AerSimulator  # Simulador cuántico de Qiskit Aer\n",
    "from qiskit.circuit.library import grover_operator  # Operador de Grover (nota: debería ser GroverOperator en versiones recientes)\n",
    "import random  # Para operaciones aleatorias\n",
    "import matplotlib.pyplot as plt"
   ]
  },
  {
   "cell_type": "code",
   "execution_count": 2,
   "metadata": {},
   "outputs": [],
   "source": [
    "# numbers = unsorted array of numbers\n",
    "def find_min(numbers, iterations):\n",
    "    n_items = len(numbers)  # Número de elementos en el arreglo\n",
    "    threshold = numbers[random.randint(0, n_items-1)]  # Elegimos un valor umbral aleatorio del arreglo\n",
    "    candidate_indices = [i for i in range(n_items) if numbers[i] <= threshold]  # Indices de elementos menores o iguales al umbral\n",
    "    for _ in range(iterations):  # Iteramos la cantidad de veces indicada\n",
    "        new_threshold = numbers[grover_search(candidate_indices, n_items)]  # Buscamos un nuevo valor menor usando Grover\n",
    "        if new_threshold < threshold:  # Si encontramos un valor menor, actualizamos el umbral\n",
    "            threshold = new_threshold\n",
    "            candidate_indices = [idx for idx in candidate_indices if numbers[idx] <= threshold]  # Actualizamos los candidatos\n",
    "    return threshold  # Retornamos el valor mínimo encontrado\n",
    "\n",
    "def grover_search(candidate_indices, n_items):\n",
    "    n_qubits = int(np.ceil(np.log2(n_items)))  # Calculamos el número de qubits necesarios\n",
    "    oracle = np.identity(2**n_qubits)  # Creamos una matriz identidad para el oráculo\n",
    "    for idx in candidate_indices:\n",
    "        oracle[idx, idx] = -1  # Marcamos los índices candidatos con -1 (fase)\n",
    "    oracle_circuit = QuantumCircuit(n_qubits)  # Creamos el circuito oráculo\n",
    "    oracle_circuit.unitary(oracle, range(n_qubits))  # Insertamos la matriz oráculo como una compuerta unitaria\n",
    "    grover_op = grover_operator(oracle_circuit, insert_barriers=True)  # Creamos el operador de Grover\n",
    "    grover_circuit = QuantumCircuit(n_qubits, n_qubits)  # Creamos el circuito de Grover\n",
    "    grover_circuit.h(range(n_qubits))  # Inicializamos en superposición\n",
    "    n_grover_iterations = int(np.sqrt(n_items))  # Número de iteraciones de Grover\n",
    "    for _ in range(n_grover_iterations):\n",
    "        grover_circuit = grover_circuit.compose(grover_op)  # Aplicamos el operador de Grover\n",
    "    grover_circuit.measure(range(n_qubits), range(n_qubits))  # Medimos los qubits\n",
    "    simulator = AerSimulator()  # Instanciamos el simulador cuántico\n",
    "    job = simulator.run(grover_circuit)  # Ejecutamos el circuito en el simulador\n",
    "    result = job.result()  # Obtenemos los resultados\n",
    "    counts = result.get_counts()  # Obtenemos los conteos de medición\n",
    "    measured = max(counts, key=counts.get)  # Seleccionamos el resultado más frecuente\n",
    "    return int(measured, 2)  # Convertimos el resultado binario a entero"
   ]
  },
  {
   "cell_type": "code",
   "execution_count": 4,
   "metadata": {},
   "outputs": [
    {
     "name": "stdout",
     "output_type": "stream",
     "text": [
      "[29, 33, 24, 32, 20, 31, 21, 26, 35, 23, 30, 28, 34, 25, 27, 22]\n"
     ]
    },
    {
     "data": {
      "text/plain": [
       "25"
      ]
     },
     "execution_count": 4,
     "metadata": {},
     "output_type": "execute_result"
    }
   ],
   "source": [
    "# Creamos un arreglo de números del 0 al 15\n",
    "desordenados =  [20, 21, 22,23,24,25,26,27,28,29,30,31,32,33,34,35]\n",
    "# desordenados = list(range(16))\n",
    "desordenados.reverse()  # Invertimos el arreglo\n",
    "# Eliminamos el cero para evitar el caso trivial\n",
    "# desordenados.remove(0)\n",
    "# Agregamos el número 19 para asegurar que el arreglo no esté vacío\n",
    "# desordenados.append(19)\n",
    "# Mezclamos aleatoriamente el arreglo\n",
    "random.shuffle(desordenados)\n",
    "print(desordenados)  # Mostramos el arreglo desordenado\n",
    "# Buscamos el valor mínimo usando el algoritmo de Grover\n",
    "find_min(desordenados, 64)"
   ]
  },
  {
   "cell_type": "markdown",
   "metadata": {},
   "source": [
    "## Resumen adicional\n",
    "\n",
    "Este cuaderno implementa el algoritmo de Grover para encontrar el valor mínimo en un arreglo no ordenado. El proceso consiste en:\n",
    "\n",
    "- Inicializar un umbral aleatorio y seleccionar los candidatos menores o iguales a ese umbral.\n",
    "- Usar el algoritmo de Grover para buscar un índice de un valor menor dentro de los candidatos.\n",
    "- Si se encuentra un valor menor, se actualiza el umbral y se repite el proceso.\n",
    "- Finalmente, se retorna el valor mínimo encontrado tras varias iteraciones.\n",
    "\n",
    "El uso de Grover permite reducir el número de búsquedas necesarias respecto a un algoritmo clásico, aprovechando la computación cuántica para acelerar la búsqueda en arreglos no ordenados."
   ]
  },
  {
   "cell_type": "code",
   "execution_count": 5,
   "metadata": {},
   "outputs": [
    {
     "data": {
      "image/png": "[encoded data removed]",
      "text/plain": [
       "<Figure size 640x480 with 1 Axes>"
      ]
     },
     "metadata": {},
     "output_type": "display_data"
    }
   ],
   "source": [
    "# Ejecutar el método 100 veces y recolectar los mínimos encontrados\n",
    "def repeated_min_search(runs=100):\n",
    "    min_values = []\n",
    "    for _ in range(runs):\n",
    "        arr = desordenados.copy()\n",
    "        random.shuffle(arr)\n",
    "        min_values.append(find_min(arr, 64))\n",
    "    return min_values\n",
    "\n",
    "min_results = repeated_min_search(1000)\n",
    "plt.hist(min_results, bins=range(min(min_results), max(min_results)+2), align='left', rwidth=0.8)\n",
    "plt.xlabel('Valor mínimo encontrado')\n",
    "plt.ylabel('Frecuencia')\n",
    "plt.title('Histograma de valores mínimos encontrados en 1000 ejecuciones')\n",
    "plt.show()"
   ]
  }
 ],
 "metadata": {
  "kernelspec": {
   "display_name": "quantum25",
   "language": "python",
   "name": "python3"
  },
  "language_info": {
   "codemirror_mode": {
    "name": "ipython",
    "version": 3
   },
   "file_extension": ".py",
   "mimetype": "text/x-python",
   "name": "python",
   "nbconvert_exporter": "python",
   "pygments_lexer": "ipython3",
   "version": "3.12.11"
  }
 },
 "nbformat": 4,
 "nbformat_minor": 4
}
