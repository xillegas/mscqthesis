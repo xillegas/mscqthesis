{
 "cells": [
  {
   "cell_type": "markdown",
   "metadata": {},
   "source": [
    "# Algoritmo de Grover para Encontrar el Valor Mínimo en un Arreglo No Ordenado\n",
    "\n",
    "Este código es un Jupyter Notebook que implementa el algoritmo de Grover para buscar en un arreglo no ordenado de números.\n",
    "\n",
    "1. La primera celda importa las librerías necesarias, incluyendo NumPy y Qiskit.\n",
    "2. La segunda celda define dos funciones: `find_min` y `grover_search`. La función `find_min` utiliza la función `grover_search` para encontrar el valor mínimo en un arreglo no ordenado. La función `grover_search` implementa el algoritmo de Grover, que es un algoritmo cuántico para buscar en un arreglo no ordenado.\n",
    "3. La tercera celda crea un arreglo no ordenado de 16 números y lo mezcla aleatoriamente. Luego llama a la función `find_min` con este arreglo y 64 iteraciones para encontrar el valor mínimo.\n",
    "\n",
    "El algoritmo de Grover es un algoritmo cuántico que puede buscar en un arreglo no ordenado en tiempo O(sqrt(N)), donde N es el tamaño del arreglo. Esto es mucho más rápido que los algoritmos clásicos para buscar en un arreglo no ordenado, que tienen una complejidad temporal de O(N).\n",
    "\n",
    "En este código, la función `grover_search` utiliza la implementación del algoritmo de Grover de Qiskit para encontrar el índice del valor mínimo en el arreglo. La función primero crea un circuito oráculo que marca los índices de los elementos en el arreglo que son menores o iguales a un umbral dado. Luego aplica el operador de Grover a este circuito oráculo, lo que amplifica la probabilidad de encontrar el valor mínimo. Finalmente, mide la salida del circuito cuántico y devuelve el índice del valor mínimo.\n",
    "\n",
    "En resumen, este código demuestra cómo implementar el algoritmo de Grover usando Qiskit y Python.\n",
    "\n",
    "## Versiones usadas en este cuaderno\n",
    " - Python 3.12.1\n",
    " - qiskit 2.1.0\n",
    " - qiskit-aer 0.17.1"
   ]
  },
  {
   "cell_type": "code",
   "execution_count": 1,
   "metadata": {},
   "outputs": [],
   "source": [
    "import numpy as np\n",
    "from qiskit import QuantumCircuit\n",
    "from qiskit_aer import AerSimulator\n",
    "from qiskit.circuit.library import grover_operator \n",
    "\n",
    "import random"
   ]
  },
  {
   "cell_type": "code",
   "execution_count": 2,
   "metadata": {},
   "outputs": [],
   "source": [
    "# numbers = unsorted array of numbers\n",
    "def find_min(numbers, iterations):\n",
    "    n_items = len(numbers)\n",
    "    threshold = numbers[random.randint(0, n_items-1)] # Choosing a random threshold value\n",
    "    candidate_indices = [i for i in range(n_items) if numbers[i] <= threshold] # Marking elements of numbers that are <= threshold\n",
    "    for _ in range(iterations):\n",
    "        new_threshold = numbers[grover_search(candidate_indices, n_items)] # Grover search to find element smaller than current threshold\n",
    "        if new_threshold < threshold:\n",
    "            threshold = new_threshold\n",
    "            candidate_indices = [idx for idx in candidate_indices if numbers[idx] <= threshold]\n",
    "    return threshold\n",
    "\n",
    "def grover_search(candidate_indices, n_items):\n",
    "    n_qubits = int(np.ceil(np.log2(n_items)))\n",
    "    oracle = np.identity(2**n_qubits)\n",
    "    for idx in candidate_indices:\n",
    "        oracle[idx, idx] = -1 # Building oracle\n",
    "    oracle_circuit = QuantumCircuit(n_qubits)\n",
    "    oracle_circuit.unitary(oracle, range(n_qubits))\n",
    "    grover_op = grover_operator(oracle_circuit, insert_barriers=True)\n",
    "    grover_circuit = QuantumCircuit(n_qubits, n_qubits)\n",
    "    grover_circuit.h(range(n_qubits)) # Initializing equal superposition\n",
    "    n_grover_iterations = int(np.sqrt(n_items))\n",
    "    for _ in range(n_grover_iterations):\n",
    "        grover_circuit = grover_circuit.compose(grover_op)\n",
    "    grover_circuit.measure(range(n_qubits), range(n_qubits))\n",
    "    simulator = AerSimulator()\n",
    "    job = simulator.run(grover_circuit)\n",
    "    result = job.result()\n",
    "    counts = result.get_counts()\n",
    "    measured = max(counts, key=counts.get)\n",
    "    return int(measured, 2)"
   ]
  },
  {
   "cell_type": "code",
   "execution_count": 13,
   "metadata": {},
   "outputs": [
    {
     "name": "stdout",
     "output_type": "stream",
     "text": [
      "[11, 10, 10, 7, 8, 13, 4, 12, 5, 3, 14, 15, 9, 6, 2, 1]\n"
     ]
    },
    {
     "data": {
      "text/plain": [
       "12"
      ]
     },
     "execution_count": 13,
     "metadata": {},
     "output_type": "execute_result"
    }
   ],
   "source": [
    "\n",
    "unsorted_numbers = list(range(16))\n",
    "unsorted_numbers.reverse()\n",
    "unsorted_numbers.remove(0)  # Remove zero to avoid trivial case\n",
    "unsorted_numbers.append(10)  # Append a number to ensure the list is not empty\n",
    "random.shuffle(unsorted_numbers)  # Shuffle the list to create an unsorted array\n",
    "print(unsorted_numbers)\n",
    "find_min(unsorted_numbers, 64)"
   ]
  }
 ],
 "metadata": {
  "kernelspec": {
   "display_name": "quantum",
   "language": "python",
   "name": "python3"
  },
  "language_info": {
   "codemirror_mode": {
    "name": "ipython",
    "version": 3
   },
   "file_extension": ".py",
   "mimetype": "text/x-python",
   "name": "python",
   "nbconvert_exporter": "python",
   "pygments_lexer": "ipython3",
   "version": "3.12.1"
  }
 },
 "nbformat": 4,
 "nbformat_minor": 4
}
