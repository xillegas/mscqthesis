{
 "cells": [
  {
   "cell_type": "markdown",
   "id": "08df0296",
   "metadata": {},
   "source": [
    "## Algoritmo QUMMSA by Gemini\n",
    "Este cuaderno presenta el algoritmo QUMMSA (Quantum Maximum or Minimum Searching Algorithm) desarrollado por Gemini.\n",
    "\n",
    "---\n",
    "**NOTA:** Este algoritmo puede contener errores y no debe considerarse práctico hasta terminar su desarrollo, eliminar esta nota cuando esté funcional."
   ]
  },
  {
   "cell_type": "code",
   "execution_count": 1,
   "id": "ca70651c",
   "metadata": {},
   "outputs": [
    {
     "name": "stdout",
     "output_type": "stream",
     "text": [
      "Vector de estado después del oráculo:\n",
      "Statevector([ 0.5+0.j,  0.5+0.j, -0.5+0.j,  0.5+0.j],\n",
      "            dims=(2, 2))\n",
      "\n",
      "Amplitud del estado |10> (índice 2):\n",
      "(-0.5+0j)\n"
     ]
    }
   ],
   "source": [
    "from qiskit import QuantumCircuit\n",
    "from qiskit_aer import Aer\n",
    "import numpy as np\n",
    "\n",
    "# Crear un circuito de 2 qubits\n",
    "qc = QuantumCircuit(2)\n",
    "\n",
    "# --- Paso 1: Inicialización con Hadamard ---\n",
    "qc.h([0, 1])\n",
    "\n",
    "# --- Paso 2: El Oráculo de Grover para |10> ---\n",
    "# El estado |10> en la convención de Qiskit\n",
    "# (qubit 1 = 1, qubit 0 = 0)\n",
    "# Para marcarlo, aplicamos X al qubit 0 para que |10> se convierta en |11>\n",
    "qc.x(0)\n",
    "qc.cz(0, 1) # Aplica Control-Z sobre el estado |11>\n",
    "qc.x(0) # Vuelve a aplicar X para deshacer el cambio\n",
    "\n",
    "# --- Paso 3: Simulación para verificación ---\n",
    "backend = Aer.get_backend('statevector_simulator')\n",
    "job = backend.run(qc)\n",
    "result = job.result()\n",
    "statevector = result.get_statevector()\n",
    "\n",
    "print(\"Vector de estado después del oráculo:\")\n",
    "print(statevector)\n",
    "print(\"\\nAmplitud del estado |10> (índice 2):\")\n",
    "print(statevector[2])"
   ]
  }
 ],
 "metadata": {
  "kernelspec": {
   "display_name": "qisky",
   "language": "python",
   "name": "python3"
  },
  "language_info": {
   "codemirror_mode": {
    "name": "ipython",
    "version": 3
   },
   "file_extension": ".py",
   "mimetype": "text/x-python",
   "name": "python",
   "nbconvert_exporter": "python",
   "pygments_lexer": "ipython3",
   "version": "3.12.11"
  }
 },
 "nbformat": 4,
 "nbformat_minor": 5
}
