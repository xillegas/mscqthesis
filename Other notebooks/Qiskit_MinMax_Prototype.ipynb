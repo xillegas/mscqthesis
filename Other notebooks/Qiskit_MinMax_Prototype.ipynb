{
 "cells": [
  {
   "cell_type": "markdown",
   "id": "cd85b695",
   "metadata": {},
   "source": [
    "# Qiskit Prototype: Threshold Grover y Dürr–Høyer para mínimo\n",
    "\n",
    "Objetivos:\n",
    "- Encontrar bombas sobre el umbral por variable (Grover threshold oracle).\n",
    "- Encontrar la bomba más sana (mínimo, argmin) por variable usando Dürr–Høyer.\n",
    "\n",
    "Notas:\n",
    "- Las variables están normalizadas en [0, 1]; valores bajos son mejor salud.\n",
    "- El prototipo usa oráculos embebidos para marcar índices (sin QRAM).\n",
    "- Para N pequeño (8–32), los resultados son rápidos y didácticos."
   ]
  },
  {
   "cell_type": "code",
   "execution_count": 1,
   "id": "b0520eda",
   "metadata": {},
   "outputs": [
    {
     "name": "stdout",
     "output_type": "stream",
     "text": [
      "Qiskit backend cargado: AerProvider\n"
     ]
    }
   ],
   "source": [
    "# Si lo necesitas, instala Qiskit y Aer:\n",
    "# %pip install -U qiskit qiskit-aer\n",
    "\n",
    "from math import ceil, log2, pi, sqrt, asin, floor\n",
    "from collections import Counter\n",
    "import random\n",
    "\n",
    "from qiskit import QuantumCircuit\n",
    "from qiskit import transpile\n",
    "try:\n",
    "    from qiskit_aer import Aer\n",
    "except Exception:\n",
    "    from qiskit import Aer\n",
    "\n",
    "print(\"Qiskit backend cargado:\", Aer)"
   ]
  },
  {
   "cell_type": "code",
   "execution_count": 2,
   "id": "976ee2fb",
   "metadata": {},
   "outputs": [],
   "source": [
    "def num_qubits_for_n(n_items: int) -> int:\n",
    "    return max(1, ceil(log2(max(1, n_items))))\n",
    "\n",
    "def index_to_bits(i: int, n_qubits: int):\n",
    "    return [int(b) for b in format(i, f\"0{n_qubits}b\")]"
   ]
  },
  {
   "cell_type": "code",
   "execution_count": 3,
   "id": "267e7aaa",
   "metadata": {},
   "outputs": [],
   "source": [
    "def phase_oracle_gate(n_index: int, marked_indices):\n",
    "    \"\"\"\n",
    "    Devuelve un Gate que cambia la fase de |i> para i en marked_indices usando un ancilla en |->.\n",
    "    El circuito espera n_index qubits de índice y 1 qubit ancilla al final.\n",
    "    \"\"\"\n",
    "    qc = QuantumCircuit(n_index + 1, name=\"Oracle\")\n",
    "    for idx in marked_indices:\n",
    "        bits = index_to_bits(idx, n_index)\n",
    "        for qb, bit in enumerate(bits):\n",
    "            if bit == 0:\n",
    "                qc.x(qb)\n",
    "        qc.mcx(list(range(n_index)), n_index)\n",
    "        for qb, bit in enumerate(bits):\n",
    "            if bit == 0:\n",
    "                qc.x(qb)\n",
    "    return qc.to_gate()"
   ]
  },
  {
   "cell_type": "code",
   "execution_count": 4,
   "id": "7adc72bb",
   "metadata": {},
   "outputs": [],
   "source": [
    "def diffuser_gate(n_index: int):\n",
    "    qc = QuantumCircuit(n_index, name=\"Diffuser\")\n",
    "    qc.h(range(n_index))\n",
    "    qc.x(range(n_index))\n",
    "    if n_index == 1:\n",
    "        qc.z(0)\n",
    "    else:\n",
    "        qc.h(n_index - 1)\n",
    "        qc.mcx(list(range(n_index - 1)), n_index - 1)\n",
    "        qc.h(n_index - 1)\n",
    "    qc.x(range(n_index))\n",
    "    qc.h(range(n_index))\n",
    "    return qc.to_gate()"
   ]
  },
  {
   "cell_type": "code",
   "execution_count": 5,
   "id": "66b6dd2b",
   "metadata": {},
   "outputs": [],
   "source": [
    "def optimal_grover_iterations(N: int, M: int) -> int:\n",
    "    if M <= 0 or M > N:\n",
    "        return 1\n",
    "    theta = asin(sqrt(M / N))\n",
    "    k = floor(pi / (4 * theta) - 0.5)\n",
    "    return max(1, k)"
   ]
  },
  {
   "cell_type": "code",
   "execution_count": 6,
   "id": "07762807",
   "metadata": {},
   "outputs": [],
   "source": [
    "def run_grover_threshold(marked_indices, n_items: int, iterations: int = 1, shots: int = 1024):\n",
    "    n_index = num_qubits_for_n(n_items)\n",
    "    qc = QuantumCircuit(n_index + 1, n_index, name=\"GroverThreshold\")\n",
    "    qc.h(range(n_index))\n",
    "    qc.x(n_index)\n",
    "    qc.h(n_index)\n",
    "    oracle = phase_oracle_gate(n_index, marked_indices)\n",
    "    diffuser = diffuser_gate(n_index)\n",
    "    for _ in range(iterations):\n",
    "        qc.append(oracle, list(range(n_index + 1)))\n",
    "        qc.append(diffuser, list(range(n_index)))\n",
    "    qc.measure(list(range(n_index)), list(range(n_index)))\n",
    "    backend = Aer.get_backend(\"qasm_simulator\")\n",
    "    tqc = transpile(qc, backend)\n",
    "    result = backend.run(tqc, shots=shots).result()\n",
    "    counts = result.get_counts()\n",
    "    return counts, qc"
   ]
  },
  {
   "cell_type": "markdown",
   "id": "a8a22c17",
   "metadata": {},
   "source": [
    "## Datos de ejemplo (sintético)\n",
    "- Valores bajos son equipos sanos.\n",
    "- Demostramos búsqueda de umbral (τ = 0.8) y mínimo."
   ]
  },
  {
   "cell_type": "code",
   "execution_count": 7,
   "id": "72a641f7",
   "metadata": {},
   "outputs": [],
   "source": [
    "pump_ids = [f\"P{i:03d}\" for i in range(8)]\n",
    "time_of_use  = [0.10, 0.52, 0.33, 0.01, 0.72, 0.64, 0.28, 0.41]\n",
    "max_current  = [0.21, 0.18, 0.11, 0.09, 0.85, 0.67, 0.44, 0.32]\n",
    "vibration    = [0.03, 0.14, 0.59, 0.20, 0.22, 0.47, 0.18, 0.35]\n",
    "N = len(pump_ids)\n",
    "tau = 0.8"
   ]
  },
  {
   "cell_type": "markdown",
   "id": "3ad406de",
   "metadata": {},
   "source": [
    "## Grover de umbral (candidatos a mantenimiento)"
   ]
  },
  {
   "cell_type": "code",
   "execution_count": 8,
   "id": "f253585b",
   "metadata": {},
   "outputs": [
    {
     "name": "stdout",
     "output_type": "stream",
     "text": [
      "Índices marcados (v >= tau): [4]\n",
      "Iteraciones Grover: 1\n",
      "Resultados principales:\n",
      "001 -> índice 1 P001 conteo 1570\n",
      "100 -> índice 4 P004 conteo 84\n",
      "101 -> índice 5 P005 conteo 75\n",
      "010 -> índice 2 P002 conteo 74\n",
      "011 -> índice 3 P003 conteo 66\n",
      "000 -> índice 0 P000 conteo 64\n",
      "111 -> índice 7 P007 conteo 59\n",
      "110 -> índice 6 P006 conteo 56\n"
     ]
    }
   ],
   "source": [
    "values = max_current\n",
    "marked = [i for i, v in enumerate(values) if v >= tau]\n",
    "M = len(marked)\n",
    "print(\"Índices marcados (v >= tau):\", marked)\n",
    "if M == 0:\n",
    "    print(\"No hay bombas sobre el umbral.\")\n",
    "else:\n",
    "    k = optimal_grover_iterations(N, M)\n",
    "    counts, qc = run_grover_threshold(marked, N, iterations=k, shots=2048)\n",
    "    print(\"Iteraciones Grover:\", k)\n",
    "    print(\"Resultados principales:\")\n",
    "    for bitstring, c in Counter(counts).most_common(8):\n",
    "        idx = int(bitstring, 2)\n",
    "        print(bitstring, \"-> índice\", idx, pump_ids[idx], \"conteo\", c)"
   ]
  },
  {
   "cell_type": "markdown",
   "id": "fec57705",
   "metadata": {},
   "source": [
    "## Mínimo Dürr–Høyer robusto (bomba más sana)"
   ]
  },
  {
   "cell_type": "code",
   "execution_count": 17,
   "id": "30666ce9",
   "metadata": {},
   "outputs": [
    {
     "name": "stdout",
     "output_type": "stream",
     "text": [
      "Índice cuántico (argmin): 0 P000 valor= 0.1\n",
      "Índice clásico (argmin): 3 P003 valor= 0.01\n",
      "Historia (índice, valor): [(6, 0.28), (6, 0.28), (0, 0.1), (6, 0.28), (6, 0.28), (6, 0.28), (6, 0.28)]\n"
     ]
    }
   ],
   "source": [
    "def dh_min_index(values, shots=2048, max_rounds=8, tries_per_round=3):\n",
    "    N = len(values)\n",
    "    current = random.randrange(N)\n",
    "    current_val = values[current]\n",
    "    history = [(current, current_val)]\n",
    "    for _ in range(max_rounds):\n",
    "        marked = [j for j, v in enumerate(values) if v < current_val]\n",
    "        if not marked:\n",
    "            break\n",
    "        M = len(marked)\n",
    "        improved = False\n",
    "        for _ in range(tries_per_round):\n",
    "            k = optimal_grover_iterations(N, M)\n",
    "            counts, _ = run_grover_threshold(marked, N, iterations=k, shots=shots)\n",
    "            candidates = [(int(bs, 2), c) for bs, c in counts.items()]\n",
    "            candidates.sort(key=lambda x: x[1], reverse=True)\n",
    "            cand_idx = candidates[0][0]\n",
    "            cand_val = values[cand_idx]\n",
    "            history.append((cand_idx, cand_val))\n",
    "            if cand_val < current_val:\n",
    "                current, current_val = cand_idx, cand_val\n",
    "                improved = True\n",
    "                break\n",
    "        if not improved:\n",
    "            k_max = optimal_grover_iterations(N, max(1, M))\n",
    "            k_rand = random.randint(0, max(1, k_max))\n",
    "            counts, _ = run_grover_threshold(marked, N, iterations=max(1, k_rand), shots=shots)\n",
    "            candidates = [(int(bs, 2), c) for bs, c in counts.items()]\n",
    "            candidates.sort(key=lambda x: x[1], reverse=True)\n",
    "            cand_idx = candidates[0][0]\n",
    "            cand_val = values[cand_idx]\n",
    "            history.append((cand_idx, cand_val))\n",
    "            if cand_val < current_val:\n",
    "                current, current_val = cand_idx, cand_val\n",
    "            else:\n",
    "                break\n",
    "    return current, history\n",
    "random.seed(0)\n",
    "values = time_of_use\n",
    "idx_q, hist = dh_min_index(values, shots=2048, max_rounds=6)\n",
    "idx_classico = min(range(N), key=lambda i: values[i])\n",
    "print(\"Índice cuántico (argmin):\", idx_q, pump_ids[idx_q], \"valor=\", values[idx_q])\n",
    "print(\"Índice clásico (argmin):\", idx_classico, pump_ids[idx_classico], \"valor=\", values[idx_classico])\n",
    "print(\"Historia (índice, valor):\", hist)"
   ]
  }
 ],
 "metadata": {
  "kernelspec": {
   "display_name": "qisky",
   "language": "python",
   "name": "python3"
  },
  "language_info": {
   "codemirror_mode": {
    "name": "ipython",
    "version": 3
   },
   "file_extension": ".py",
   "mimetype": "text/x-python",
   "name": "python",
   "nbconvert_exporter": "python",
   "pygments_lexer": "ipython3",
   "version": "3.12.11"
  }
 },
 "nbformat": 4,
 "nbformat_minor": 5
}
