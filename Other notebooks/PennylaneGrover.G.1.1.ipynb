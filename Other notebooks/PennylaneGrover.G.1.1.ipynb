{
 "cells": [
  {
   "cell_type": "code",
   "execution_count": 1,
   "id": "86ffcfdf",
   "metadata": {},
   "outputs": [],
   "source": [
    "import matplotlib.pyplot as plt\n",
    "import pennylane as qml\n",
    "import numpy as np"
   ]
  },
  {
   "cell_type": "markdown",
   "id": "07ffa818",
   "metadata": {},
   "source": [
    "## G.1.1 Oracle action in superposition"
   ]
  },
  {
   "cell_type": "code",
   "execution_count": null,
   "id": "9f0c298e",
   "metadata": {},
   "outputs": [],
   "source": [
    "n_bits = 4\n",
    "dev = qml.device(\"default.qubit\", wires=n_bits)\n",
    "\n",
    "\n",
    "def oracle_matrix(combo):\n",
    "    \"\"\"Return the oracle matrix for a secret combination.\n",
    "\n",
    "    Args:\n",
    "        combo (list[int]): A list of bits representing a secret combination.\n",
    "\n",
    "    Returns:\n",
    "        array[float]: The matrix representation of the oracle.\n",
    "    \"\"\"\n",
    "    index = np.ravel_multi_index(combo, [2] * len(combo))  # Index of solution\n",
    "    my_array = np.identity(2 ** len(combo))  # Create the identity matrix\n",
    "    my_array[index, index] = -1\n",
    "    return my_array\n",
    "\n",
    "\n",
    "@qml.qnode(dev)\n",
    "def oracle_amp(combo):\n",
    "    \"\"\"Prepare the uniform superposition and apply the oracle.\n",
    "\n",
    "    Args:\n",
    "        combo (list[int]): A list of bits representing the secret combination.\n",
    "\n",
    "    Returns:\n",
    "        array[complex]: The quantum state (amplitudes) after applying the oracle.\n",
    "    \"\"\"\n",
    "    ##################\n",
    "    # YOUR CODE HERE #\n",
    "    ##################\n",
    "    # Prepare uniform superposition\n",
    "    for i in range(n_bits):\n",
    "        qml.Hadamard(wires=i)\n",
    "    # Apply the oracle as a matrix\n",
    "    qml.QubitUnitary(oracle_matrix(combo), wires=range(n_bits))\n",
    "    \n",
    "    return qml.state()"
   ]
  },
  {
   "cell_type": "markdown",
   "id": "7cf5144e",
   "metadata": {},
   "source": [
    "`qml.QubitUnitary` es una función de PennyLane que te permite aplicar una operación cuántica arbitraria (una matriz unitaria) a uno o varios qubits de tu circuito.\n",
    "\n",
    "**Explicación detallada:**\n",
    "\n",
    "- **¿Qué es una matriz unitaria?**  \n",
    "  En computación cuántica, las operaciones sobre los qubits se representan mediante matrices unitarias. Una matriz unitaria es una matriz cuadrada compleja que cumple que su inversa es igual a su conjugada transpuesta. Esto garantiza que la evolución cuántica sea reversible y conserve la probabilidad total.\n",
    "\n",
    "- **¿Cómo se usa `qml.QubitUnitary`?**  \n",
    "  Esta función toma dos argumentos principales:\n",
    "  1. **La matriz unitaria** que quieres aplicar (por ejemplo, una matriz de 2x2 para un qubit, 4x4 para dos qubits, etc.).\n",
    "  2. **Los wires (qubits)** sobre los que quieres aplicar esa matriz.\n",
    "\n",
    "  Ejemplo:\n",
    "  ```python\n",
    "  qml.QubitUnitary(np.array([[0, 1], [1, 0]]), wires=0)  # Aplica la compuerta X al qubit 0\n",
    "  ```\n",
    "\n",
    "- **En tu código:**  \n",
    "  ```python\n",
    "  qml.QubitUnitary(oracle_matrix(combo), wires=range(n_bits))\n",
    "  ```\n",
    "  Aquí, `oracle_matrix(combo)` genera una matriz unitaria que representa el oráculo de Grover para una combinación secreta. Esa matriz se aplica a todos los qubits (del 0 al n_bits-1) usando `wires=range(n_bits)`. Así, el circuito cuántico evoluciona según la acción de ese oráculo.\n",
    "\n",
    "**Resumen:**  \n",
    "`qml.QubitUnitary` te permite insertar cualquier operación cuántica personalizada (definida por una matriz unitaria) en tu circuito, actuando sobre los qubits que tú elijas. Es muy útil para simular oráculos o compuertas personalizadas."
   ]
  },
  {
   "cell_type": "markdown",
   "id": "8aa0fbf1",
   "metadata": {},
   "source": [
    "Claro. La línea:\n",
    "\n"
   ]
  },
  {
   "cell_type": "code",
   "execution_count": null,
   "id": "155e9349",
   "metadata": {},
   "outputs": [],
   "source": [
    "index = np.ravel_multi_index(combo, [2] * len(combo))  # Index of solution"
   ]
  },
  {
   "cell_type": "markdown",
   "id": "17848e06",
   "metadata": {},
   "source": [
    "\n",
    "\n",
    "**Explicación paso a paso:**\n",
    "\n",
    "- `combo` es una lista de bits, por ejemplo `[1, 0, 1, 1]`, que representa la combinación secreta que quieres marcar en el oráculo.\n",
    "- `[2] * len(combo)` crea una lista con tantos 2 como bits haya, por ejemplo `[2, 2, 2, 2]` si hay 4 bits. Esto indica que cada bit puede tomar dos valores (0 o 1).\n",
    "- `np.ravel_multi_index(combo, [2] * len(combo))` convierte la lista de bits (`combo`) en un solo número entero, que es el índice correspondiente en un vector de amplitudes de tamaño \\(2^{n}\\).\n",
    "\n",
    "**¿Por qué se hace esto?**  \n",
    "En un sistema de \\(n\\) qubits, el estado cuántico se representa como un vector de \\(2^n\\) amplitudes. Cada combinación de bits corresponde a una posición (índice) en ese vector. Esta función te da el índice de la combinación secreta para poder marcarlo en la matriz del oráculo.\n",
    "\n",
    "**Ejemplo:**  \n",
    "Si `combo = [1, 0, 1, 1]`, entonces el índice será 13, porque en binario `1011` es igual a 11 en decimal (pero depende del orden de los bits, si el bit más significativo está a la izquierda o derecha).\n",
    "\n",
    "**Resumen:**  \n",
    "Esta línea convierte la combinación de bits secreta en el índice entero que ocupa en el vector de estados, para poder modificar la amplitud correspondiente en la matriz del oráculo."
   ]
  }
 ],
 "metadata": {
  "kernelspec": {
   "display_name": "penny",
   "language": "python",
   "name": "python3"
  },
  "language_info": {
   "codemirror_mode": {
    "name": "ipython",
    "version": 3
   },
   "file_extension": ".py",
   "mimetype": "text/x-python",
   "name": "python",
   "nbconvert_exporter": "python",
   "pygments_lexer": "ipython3",
   "version": "3.10.17"
  }
 },
 "nbformat": 4,
 "nbformat_minor": 5
}
