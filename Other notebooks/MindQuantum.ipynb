{
 "cells": [
  {
   "cell_type": "code",
   "execution_count": 20,
   "id": "564973a7",
   "metadata": {},
   "outputs": [],
   "source": [
    "# pylint: disable=W0104\n",
    "from mindquantum import Circuit, UN, H, Z\n",
    "from mindquantum.simulator import Simulator, SUPPORTED_SIMULATOR\n"
   ]
  },
  {
   "cell_type": "code",
   "execution_count": 21,
   "id": "d70c31cc",
   "metadata": {},
   "outputs": [
    {
     "data": {
      "text/plain": [
       "{'mqvector': <module 'mindquantum._mq_vector' from '/home/xillegas/miniconda3/envs/mindquantum/lib/python3.11/site-packages/mindquantum/_mq_vector.cpython-311-x86_64-linux-gnu.so'>,\n",
       " 'mqmatrix': <module 'mindquantum._mq_matrix' from '/home/xillegas/miniconda3/envs/mindquantum/lib/python3.11/site-packages/mindquantum/_mq_matrix.cpython-311-x86_64-linux-gnu.so'>,\n",
       " 'stabilizer': <module 'mindquantum._mq_stabilizer' from '/home/xillegas/miniconda3/envs/mindquantum/lib/python3.11/site-packages/mindquantum/_mq_stabilizer.cpython-311-x86_64-linux-gnu.so'>,\n",
       " 'mqvector_gpu': <module 'mindquantum._mq_vector_gpu' from '/home/xillegas/miniconda3/envs/mindquantum/lib/python3.11/site-packages/mindquantum/_mq_vector_gpu.cpython-311-x86_64-linux-gnu.so'>}"
      ]
     },
     "execution_count": 21,
     "metadata": {},
     "output_type": "execute_result"
    }
   ],
   "source": [
    "SUPPORTED_SIMULATOR.base_module"
   ]
  },
  {
   "cell_type": "code",
   "execution_count": 22,
   "id": "dba84933",
   "metadata": {},
   "outputs": [
    {
     "data": {
      "text/html": [
       "<pre style=\"white-space:pre;overflow-x:auto;line-height:normal;font-family:Menlo,'DejaVu Sans Mono',consolas,'Courier New',monospace\"></pre>\n"
      ],
      "text/plain": []
     },
     "metadata": {},
     "output_type": "display_data"
    },
    {
     "data": {
      "text/html": [
       "<pre style=\"white-space: pre;\">      ┏━━━┓   \n",
       "q0: <span style=\"color: #d2d4d9; text-decoration-color: #d2d4d9\">──</span>┨ <span style=\"font-weight: bold\">H</span> ┠<span style=\"color: #d2d4d9; text-decoration-color: #d2d4d9\">───</span>\n",
       "      ┗━━━┛   \n",
       "      ┏━━━┓   \n",
       "q1: <span style=\"color: #d2d4d9; text-decoration-color: #d2d4d9\">──</span>┨ <span style=\"font-weight: bold\">H</span> ┠<span style=\"color: #d2d4d9; text-decoration-color: #d2d4d9\">───</span>\n",
       "      ┗━━━┛   \n",
       "      ┏━━━┓   \n",
       "q2: <span style=\"color: #d2d4d9; text-decoration-color: #d2d4d9\">──</span>┨ <span style=\"font-weight: bold\">H</span> ┠<span style=\"color: #d2d4d9; text-decoration-color: #d2d4d9\">───</span>\n",
       "      ┗━━━┛   \n",
       "</pre>\n"
      ],
      "text/plain": [
       "      ┏━━━┓   \n",
       "q0: ──┨ H ┠───\n",
       "      ┗━━━┛   \n",
       "      ┏━━━┓   \n",
       "q1: ──┨ H ┠───\n",
       "      ┗━━━┛   \n",
       "      ┏━━━┓   \n",
       "q2: ──┨ H ┠───\n",
       "      ┗━━━┛   "
      ]
     },
     "execution_count": 22,
     "metadata": {},
     "output_type": "execute_result"
    }
   ],
   "source": [
    "\n",
    "n_qubits = 3                                 # Set the number of qubits to 3\n",
    "sim = Simulator('mqvector_gpu', n_qubits)        # Use the projectq simulator, named sim\n",
    "\n",
    "circuit = Circuit()                          # Initialize the quantum circuit, named circuit\n",
    "circuit += UN(H, n_qubits)                   # H-gate operations are performed on each qubit\n",
    "\n",
    "sim.apply_circuit(circuit)                   # Run the built quantum circuit circuit by the simulator sim\n",
    "\n",
    "circuit                                      # Print the quantum circuit circuit at this time\n"
   ]
  },
  {
   "cell_type": "code",
   "execution_count": 23,
   "id": "c47004b8",
   "metadata": {},
   "outputs": [],
   "source": [
    "def bitphaseflip_operator(phase_inversion_qubit, n_qubits):   # Define a function that flips the phase of a qubit\n",
    "    s = [1 for i in range(1 << n_qubits)]\n",
    "    for i in phase_inversion_qubit:\n",
    "        s[i] = -1\n",
    "    if s[0] == -1:\n",
    "        for i in range(len(s)):\n",
    "            s[i] = -1 * s[i]\n",
    "    circuit = Circuit()\n",
    "    length = len(s)\n",
    "    cz = []\n",
    "    for i in range(length):\n",
    "        if s[i] == -1:\n",
    "            cz.append([])\n",
    "            current = i\n",
    "            t = 0\n",
    "            while current != 0:\n",
    "                if (current & 1) == 1:\n",
    "                    cz[-1].append(t)\n",
    "                t += 1\n",
    "                current = current >> 1\n",
    "            for j in range(i + 1, length):\n",
    "                if i & j == i:\n",
    "                    s[j] = -1 * s[j]\n",
    "    for i in cz:\n",
    "        if i:\n",
    "            if len(i) > 1:\n",
    "                circuit += Z.on(i[-1], i[:-1])\n",
    "            else:\n",
    "                circuit += Z.on(i[0])\n",
    "\n",
    "    return circuit\n"
   ]
  },
  {
   "cell_type": "code",
   "execution_count": 24,
   "id": "db053923",
   "metadata": {},
   "outputs": [
    {
     "name": "stdout",
     "output_type": "stream",
     "text": [
      "√2/4¦000⟩\n",
      "√2/4¦001⟩\n",
      "√2/4¦010⟩\n",
      "√2/4¦011⟩\n",
      "√2/4¦100⟩\n",
      "√2/4¦101⟩\n",
      "√2/4¦110⟩\n",
      "√2/4¦111⟩\n"
     ]
    }
   ],
   "source": [
    "print(sim.get_qs(True))                      # Print the final state after running the quantum circuit circuit in the simulator sim\n"
   ]
  },
  {
   "cell_type": "code",
   "execution_count": 25,
   "id": "17b1b24e",
   "metadata": {},
   "outputs": [
    {
     "data": {
      "text/html": [
       "<pre style=\"white-space:pre;overflow-x:auto;line-height:normal;font-family:Menlo,'DejaVu Sans Mono',consolas,'Courier New',monospace\"></pre>\n"
      ],
      "text/plain": []
     },
     "metadata": {},
     "output_type": "display_data"
    },
    {
     "data": {
      "text/html": [
       "<pre style=\"white-space: pre;\">      ┏━━━┓                           \n",
       "q0: <span style=\"color: #d2d4d9; text-decoration-color: #d2d4d9\">──</span>┨ <span style=\"font-weight: bold\">H</span> ┠<span style=\"color: #d2d4d9; text-decoration-color: #d2d4d9\">─────────</span>■<span style=\"color: #d2d4d9; text-decoration-color: #d2d4d9\">───────────</span>■<span style=\"color: #d2d4d9; text-decoration-color: #d2d4d9\">─────</span>\n",
       "      ┗━━━┛         ┃           ┃     \n",
       "      ┏━━━┓         ┃           ┃     \n",
       "q1: <span style=\"color: #d2d4d9; text-decoration-color: #d2d4d9\">──</span>┨ <span style=\"font-weight: bold\">H</span> ┠<span style=\"color: #d2d4d9; text-decoration-color: #d2d4d9\">─────────</span>╂<span style=\"color: #d2d4d9; text-decoration-color: #d2d4d9\">─────</span>■<span style=\"color: #d2d4d9; text-decoration-color: #d2d4d9\">─────</span>■<span style=\"color: #d2d4d9; text-decoration-color: #d2d4d9\">─────</span>\n",
       "      ┗━━━┛         ┃     ┃     ┃     \n",
       "      ┏━━━┓ ┏━━━┓ ┏━┻━┓ ┏━┻━┓ ┏━┻━┓   \n",
       "q2: <span style=\"color: #d2d4d9; text-decoration-color: #d2d4d9\">──</span>┨ <span style=\"font-weight: bold\">H</span> ┠<span style=\"color: #d2d4d9; text-decoration-color: #d2d4d9\">─</span>┨ <span style=\"font-weight: bold\">Z</span> ┠<span style=\"color: #d2d4d9; text-decoration-color: #d2d4d9\">─</span>┨ <span style=\"font-weight: bold\">Z</span> ┠<span style=\"color: #d2d4d9; text-decoration-color: #d2d4d9\">─</span>┨ <span style=\"font-weight: bold\">Z</span> ┠<span style=\"color: #d2d4d9; text-decoration-color: #d2d4d9\">─</span>┨ <span style=\"font-weight: bold\">Z</span> ┠<span style=\"color: #d2d4d9; text-decoration-color: #d2d4d9\">───</span>\n",
       "      ┗━━━┛ ┗━━━┛ ┗━━━┛ ┗━━━┛ ┗━━━┛   \n",
       "</pre>\n"
      ],
      "text/plain": [
       "      ┏━━━┓                           \n",
       "q0: ──┨ H ┠─────────■───────────■─────\n",
       "      ┗━━━┛         ┃           ┃     \n",
       "      ┏━━━┓         ┃           ┃     \n",
       "q1: ──┨ H ┠─────────╂─────■─────■─────\n",
       "      ┗━━━┛         ┃     ┃     ┃     \n",
       "      ┏━━━┓ ┏━━━┓ ┏━┻━┓ ┏━┻━┓ ┏━┻━┓   \n",
       "q2: ──┨ H ┠─┨ Z ┠─┨ Z ┠─┨ Z ┠─┨ Z ┠───\n",
       "      ┗━━━┛ ┗━━━┛ ┗━━━┛ ┗━━━┛ ┗━━━┛   "
      ]
     },
     "execution_count": 25,
     "metadata": {},
     "output_type": "execute_result"
    }
   ],
   "source": [
    "# pylint: disable=W0104\n",
    "sim.reset()                                                      # Reset the quantum state maintained by the simulator sim so that the initialized quantum state is |000>\n",
    "\n",
    "phase_inversion_qubit = [4]                                      # Invert the phase of the |4> state\n",
    "operator = bitphaseflip_operator(phase_inversion_qubit, n_qubits)# Call our defined bitphaseflip_operator() function\n",
    "\n",
    "circuit += operator                                              # Add the quantum gate required to flip the phase of the |4> state in the quantum circuit circuit\n",
    "\n",
    "sim.apply_circuit(circuit)                                       # Run the built quantum circuit circuit again by the simulator sim\n",
    "\n",
    "circuit                                                          # Print the quantum circuit circuit at this time\n"
   ]
  },
  {
   "cell_type": "code",
   "execution_count": 26,
   "id": "8851ec9e",
   "metadata": {},
   "outputs": [
    {
     "name": "stdout",
     "output_type": "stream",
     "text": [
      "√2/4¦000⟩\n",
      "√2/4¦001⟩\n",
      "√2/4¦010⟩\n",
      "√2/4¦011⟩\n",
      "-√2/4¦100⟩\n",
      "√2/4¦101⟩\n",
      "√2/4¦110⟩\n",
      "√2/4¦111⟩\n"
     ]
    }
   ],
   "source": [
    "print(sim.get_qs(True))                                          # Print the final state after running the quantum circuit circuit in the simulator sim\n"
   ]
  },
  {
   "cell_type": "code",
   "execution_count": 27,
   "id": "239e75fb",
   "metadata": {},
   "outputs": [
    {
     "name": "stdout",
     "output_type": "stream",
     "text": [
      "4\n"
     ]
    }
   ],
   "source": [
    "print(int('100', 2))\n"
   ]
  },
  {
   "cell_type": "code",
   "execution_count": 28,
   "id": "c9086009",
   "metadata": {},
   "outputs": [
    {
     "data": {
      "text/html": [
       "<pre style=\"white-space:pre;overflow-x:auto;line-height:normal;font-family:Menlo,'DejaVu Sans Mono',consolas,'Courier New',monospace\"></pre>\n"
      ],
      "text/plain": []
     },
     "metadata": {},
     "output_type": "display_data"
    },
    {
     "data": {
      "text/html": [
       "<pre style=\"white-space: pre;\">      ┏━━━┓ ┏━━━┓                           \n",
       "q0: <span style=\"color: #d2d4d9; text-decoration-color: #d2d4d9\">──</span>┨ <span style=\"font-weight: bold\">H</span> ┠<span style=\"color: #d2d4d9; text-decoration-color: #d2d4d9\">─</span>┨ <span style=\"font-weight: bold\">Z</span> ┠<span style=\"color: #d2d4d9; text-decoration-color: #d2d4d9\">───</span>■<span style=\"color: #d2d4d9; text-decoration-color: #d2d4d9\">─────</span>■<span style=\"color: #d2d4d9; text-decoration-color: #d2d4d9\">───────────</span>■<span style=\"color: #d2d4d9; text-decoration-color: #d2d4d9\">─────</span>\n",
       "      ┗━━━┛ ┗━━━┛   ┃     ┃           ┃     \n",
       "      ┏━━━┓ ┏━━━┓ ┏━┻━┓   ┃           ┃     \n",
       "q1: <span style=\"color: #d2d4d9; text-decoration-color: #d2d4d9\">──</span>┨ <span style=\"font-weight: bold\">H</span> ┠<span style=\"color: #d2d4d9; text-decoration-color: #d2d4d9\">─</span>┨ <span style=\"font-weight: bold\">Z</span> ┠<span style=\"color: #d2d4d9; text-decoration-color: #d2d4d9\">─</span>┨ <span style=\"font-weight: bold\">Z</span> ┠<span style=\"color: #d2d4d9; text-decoration-color: #d2d4d9\">───</span>╂<span style=\"color: #d2d4d9; text-decoration-color: #d2d4d9\">─────</span>■<span style=\"color: #d2d4d9; text-decoration-color: #d2d4d9\">─────</span>■<span style=\"color: #d2d4d9; text-decoration-color: #d2d4d9\">─────</span>\n",
       "      ┗━━━┛ ┗━━━┛ ┗━━━┛   ┃     ┃     ┃     \n",
       "      ┏━━━┓ ┏━━━┓       ┏━┻━┓ ┏━┻━┓ ┏━┻━┓   \n",
       "q2: <span style=\"color: #d2d4d9; text-decoration-color: #d2d4d9\">──</span>┨ <span style=\"font-weight: bold\">H</span> ┠<span style=\"color: #d2d4d9; text-decoration-color: #d2d4d9\">─</span>┨ <span style=\"font-weight: bold\">Z</span> ┠<span style=\"color: #d2d4d9; text-decoration-color: #d2d4d9\">───────</span>┨ <span style=\"font-weight: bold\">Z</span> ┠<span style=\"color: #d2d4d9; text-decoration-color: #d2d4d9\">─</span>┨ <span style=\"font-weight: bold\">Z</span> ┠<span style=\"color: #d2d4d9; text-decoration-color: #d2d4d9\">─</span>┨ <span style=\"font-weight: bold\">Z</span> ┠<span style=\"color: #d2d4d9; text-decoration-color: #d2d4d9\">───</span>\n",
       "      ┗━━━┛ ┗━━━┛       ┗━━━┛ ┗━━━┛ ┗━━━┛   \n",
       "</pre>\n"
      ],
      "text/plain": [
       "      ┏━━━┓ ┏━━━┓                           \n",
       "q0: ──┨ H ┠─┨ Z ┠───■─────■───────────■─────\n",
       "      ┗━━━┛ ┗━━━┛   ┃     ┃           ┃     \n",
       "      ┏━━━┓ ┏━━━┓ ┏━┻━┓   ┃           ┃     \n",
       "q1: ──┨ H ┠─┨ Z ┠─┨ Z ┠───╂─────■─────■─────\n",
       "      ┗━━━┛ ┗━━━┛ ┗━━━┛   ┃     ┃     ┃     \n",
       "      ┏━━━┓ ┏━━━┓       ┏━┻━┓ ┏━┻━┓ ┏━┻━┓   \n",
       "q2: ──┨ H ┠─┨ Z ┠───────┨ Z ┠─┨ Z ┠─┨ Z ┠───\n",
       "      ┗━━━┛ ┗━━━┛       ┗━━━┛ ┗━━━┛ ┗━━━┛   "
      ]
     },
     "execution_count": 28,
     "metadata": {},
     "output_type": "execute_result"
    }
   ],
   "source": [
    "# pylint: disable=W0104\n",
    "n_qubits = 3                                                     # Set the number of qubits to 3\n",
    "sim1 = Simulator('mqvector_gpu', n_qubits)                           # Use the projectq simulator, named sim1\n",
    "\n",
    "operator1 = bitphaseflip_operator([i for i in range(1, pow(2, n_qubits))], n_qubits) # Call our defined bitphaseflip_operator() function to flip the phase of each state except |0> state, named operator1\n",
    "\n",
    "circuit1 = Circuit()                                             # Initialize the quantum circuit, named circuit1\n",
    "circuit1 += UN(H, n_qubits)                                      # H-gate operations are performed on each qubit\n",
    "circuit1 += operator1                                            # Add the quantum gates required to flip the phase of each state except the |0> state in the quantum circuit circuit1\n",
    "\n",
    "sim1.apply_circuit(circuit1)                                     # Run the built quantum circuit circuit1 by the simulator sim1\n",
    "\n",
    "circuit1                                                         # Print the quantum circuit circuit1 at this time\n"
   ]
  },
  {
   "cell_type": "code",
   "execution_count": 29,
   "id": "f2b23096",
   "metadata": {},
   "outputs": [
    {
     "name": "stdout",
     "output_type": "stream",
     "text": [
      "√2/4¦000⟩\n",
      "-√2/4¦001⟩\n",
      "-√2/4¦010⟩\n",
      "-√2/4¦011⟩\n",
      "-√2/4¦100⟩\n",
      "-√2/4¦101⟩\n",
      "-√2/4¦110⟩\n",
      "-√2/4¦111⟩\n"
     ]
    }
   ],
   "source": [
    "print(sim1.get_qs(True))                                         # Print the final state after running the quantum circuit circuit1 in the simulator sim1\n"
   ]
  },
  {
   "cell_type": "code",
   "execution_count": 30,
   "id": "4a00553f",
   "metadata": {},
   "outputs": [],
   "source": [
    "def G(phase_inversion_qubit, n_qubits):           # Define the G operator in Grover search algorithm\n",
    "    operator = bitphaseflip_operator(phase_inversion_qubit, n_qubits)\n",
    "    operator += UN(H, n_qubits)\n",
    "    operator += bitphaseflip_operator([i for i in range(1, pow(2, n_qubits))], n_qubits)\n",
    "    operator += UN(H, n_qubits)\n",
    "    return operator"
   ]
  },
  {
   "cell_type": "code",
   "execution_count": 31,
   "id": "370ac9e6",
   "metadata": {},
   "outputs": [
    {
     "data": {
      "text/html": [
       "<pre style=\"white-space:pre;overflow-x:auto;line-height:normal;font-family:Menlo,'DejaVu Sans Mono',consolas,'Courier New',monospace\"></pre>\n"
      ],
      "text/plain": []
     },
     "metadata": {},
     "output_type": "display_data"
    },
    {
     "data": {
      "text/html": [
       "<pre style=\"white-space: pre;\">      ┏━━━┓                         ┏━━━┓ ┏━━━┓                         ┏━━━┓         \n",
       "q0: <span style=\"color: #d2d4d9; text-decoration-color: #d2d4d9\">──</span>┨ <span style=\"font-weight: bold\">H</span> ┠<span style=\"color: #d2d4d9; text-decoration-color: #d2d4d9\">─────────</span>■<span style=\"color: #d2d4d9; text-decoration-color: #d2d4d9\">───────────</span>■<span style=\"color: #d2d4d9; text-decoration-color: #d2d4d9\">───</span>┨ <span style=\"font-weight: bold\">H</span> ┠<span style=\"color: #d2d4d9; text-decoration-color: #d2d4d9\">─</span>┨ <span style=\"font-weight: bold\">Z</span> ┠<span style=\"color: #d2d4d9; text-decoration-color: #d2d4d9\">───</span>■<span style=\"color: #d2d4d9; text-decoration-color: #d2d4d9\">─────</span>■<span style=\"color: #d2d4d9; text-decoration-color: #d2d4d9\">───────────</span>■<span style=\"color: #d2d4d9; text-decoration-color: #d2d4d9\">───</span>┨ <span style=\"font-weight: bold\">H</span> ┠<span style=\"color: #d2d4d9; text-decoration-color: #d2d4d9\">───────</span><span style=\"color: #800000; text-decoration-color: #800000; font-weight: bold\">↯</span><span style=\"color: #d2d4d9; text-decoration-color: #d2d4d9\">─</span>\n",
       "      ┗━━━┛         ┃           ┃   ┗━━━┛ ┗━━━┛   ┃     ┃           ┃   ┗━━━┛         \n",
       "      ┏━━━┓ ┏━━━┓ ┏━┻━┓         ┃   ┏━━━┓ ┏━━━┓ ┏━┻━┓   ┃           ┃   ┏━━━┓ ┏━━━┓   \n",
       "q1: <span style=\"color: #d2d4d9; text-decoration-color: #d2d4d9\">──</span>┨ <span style=\"font-weight: bold\">H</span> ┠<span style=\"color: #d2d4d9; text-decoration-color: #d2d4d9\">─</span>┨ <span style=\"font-weight: bold\">Z</span> ┠<span style=\"color: #d2d4d9; text-decoration-color: #d2d4d9\">─</span>┨ <span style=\"font-weight: bold\">Z</span> ┠<span style=\"color: #d2d4d9; text-decoration-color: #d2d4d9\">───</span>■<span style=\"color: #d2d4d9; text-decoration-color: #d2d4d9\">─────</span>■<span style=\"color: #d2d4d9; text-decoration-color: #d2d4d9\">───</span>┨ <span style=\"font-weight: bold\">H</span> ┠<span style=\"color: #d2d4d9; text-decoration-color: #d2d4d9\">─</span>┨ <span style=\"font-weight: bold\">Z</span> ┠<span style=\"color: #d2d4d9; text-decoration-color: #d2d4d9\">─</span>┨ <span style=\"font-weight: bold\">Z</span> ┠<span style=\"color: #d2d4d9; text-decoration-color: #d2d4d9\">───</span>╂<span style=\"color: #d2d4d9; text-decoration-color: #d2d4d9\">─────</span>■<span style=\"color: #d2d4d9; text-decoration-color: #d2d4d9\">─────</span>■<span style=\"color: #d2d4d9; text-decoration-color: #d2d4d9\">───</span>┨ <span style=\"font-weight: bold\">H</span> ┠<span style=\"color: #d2d4d9; text-decoration-color: #d2d4d9\">─</span>┨ <span style=\"font-weight: bold\">Z</span> ┠<span style=\"color: #d2d4d9; text-decoration-color: #d2d4d9\">─</span><span style=\"color: #800000; text-decoration-color: #800000; font-weight: bold\">↯</span><span style=\"color: #d2d4d9; text-decoration-color: #d2d4d9\">─</span>\n",
       "      ┗━━━┛ ┗━━━┛ ┗━━━┛   ┃     ┃   ┗━━━┛ ┗━━━┛ ┗━━━┛   ┃     ┃     ┃   ┗━━━┛ ┗━━━┛   \n",
       "      ┏━━━┓             ┏━┻━┓ ┏━┻━┓ ┏━━━┓ ┏━━━┓       ┏━┻━┓ ┏━┻━┓ ┏━┻━┓ ┏━━━┓         \n",
       "q2: <span style=\"color: #d2d4d9; text-decoration-color: #d2d4d9\">──</span>┨ <span style=\"font-weight: bold\">H</span> ┠<span style=\"color: #d2d4d9; text-decoration-color: #d2d4d9\">─────────────</span>┨ <span style=\"font-weight: bold\">Z</span> ┠<span style=\"color: #d2d4d9; text-decoration-color: #d2d4d9\">─</span>┨ <span style=\"font-weight: bold\">Z</span> ┠<span style=\"color: #d2d4d9; text-decoration-color: #d2d4d9\">─</span>┨ <span style=\"font-weight: bold\">H</span> ┠<span style=\"color: #d2d4d9; text-decoration-color: #d2d4d9\">─</span>┨ <span style=\"font-weight: bold\">Z</span> ┠<span style=\"color: #d2d4d9; text-decoration-color: #d2d4d9\">───────</span>┨ <span style=\"font-weight: bold\">Z</span> ┠<span style=\"color: #d2d4d9; text-decoration-color: #d2d4d9\">─</span>┨ <span style=\"font-weight: bold\">Z</span> ┠<span style=\"color: #d2d4d9; text-decoration-color: #d2d4d9\">─</span>┨ <span style=\"font-weight: bold\">Z</span> ┠<span style=\"color: #d2d4d9; text-decoration-color: #d2d4d9\">─</span>┨ <span style=\"font-weight: bold\">H</span> ┠<span style=\"color: #d2d4d9; text-decoration-color: #d2d4d9\">───────</span><span style=\"color: #800000; text-decoration-color: #800000; font-weight: bold\">↯</span><span style=\"color: #d2d4d9; text-decoration-color: #d2d4d9\">─</span>\n",
       "      ┗━━━┛             ┗━━━┛ ┗━━━┛ ┗━━━┛ ┗━━━┛       ┗━━━┛ ┗━━━┛ ┗━━━┛ ┗━━━┛         \n",
       "                                                                                      \n",
       "                        ┏━━━┓ ┏━━━┓                         ┏━━━┓                     \n",
       "q0: <span style=\"color: #d2d4d9; text-decoration-color: #d2d4d9\">────</span>■<span style=\"color: #d2d4d9; text-decoration-color: #d2d4d9\">───────────</span>■<span style=\"color: #d2d4d9; text-decoration-color: #d2d4d9\">───</span>┨ <span style=\"font-weight: bold\">H</span> ┠<span style=\"color: #d2d4d9; text-decoration-color: #d2d4d9\">─</span>┨ <span style=\"font-weight: bold\">Z</span> ┠<span style=\"color: #d2d4d9; text-decoration-color: #d2d4d9\">───</span>■<span style=\"color: #d2d4d9; text-decoration-color: #d2d4d9\">─────</span>■<span style=\"color: #d2d4d9; text-decoration-color: #d2d4d9\">───────────</span>■<span style=\"color: #d2d4d9; text-decoration-color: #d2d4d9\">───</span>┨ <span style=\"font-weight: bold\">H</span> ┠<span style=\"color: #d2d4d9; text-decoration-color: #d2d4d9\">───</span>                  \n",
       "        ┃           ┃   ┗━━━┛ ┗━━━┛   ┃     ┃           ┃   ┗━━━┛                     \n",
       "      ┏━┻━┓         ┃   ┏━━━┓ ┏━━━┓ ┏━┻━┓   ┃           ┃   ┏━━━┓                     \n",
       "q1: <span style=\"color: #d2d4d9; text-decoration-color: #d2d4d9\">──</span>┨ <span style=\"font-weight: bold\">Z</span> ┠<span style=\"color: #d2d4d9; text-decoration-color: #d2d4d9\">───</span>■<span style=\"color: #d2d4d9; text-decoration-color: #d2d4d9\">─────</span>■<span style=\"color: #d2d4d9; text-decoration-color: #d2d4d9\">───</span>┨ <span style=\"font-weight: bold\">H</span> ┠<span style=\"color: #d2d4d9; text-decoration-color: #d2d4d9\">─</span>┨ <span style=\"font-weight: bold\">Z</span> ┠<span style=\"color: #d2d4d9; text-decoration-color: #d2d4d9\">─</span>┨ <span style=\"font-weight: bold\">Z</span> ┠<span style=\"color: #d2d4d9; text-decoration-color: #d2d4d9\">───</span>╂<span style=\"color: #d2d4d9; text-decoration-color: #d2d4d9\">─────</span>■<span style=\"color: #d2d4d9; text-decoration-color: #d2d4d9\">─────</span>■<span style=\"color: #d2d4d9; text-decoration-color: #d2d4d9\">───</span>┨ <span style=\"font-weight: bold\">H</span> ┠<span style=\"color: #d2d4d9; text-decoration-color: #d2d4d9\">───</span>                  \n",
       "      ┗━━━┛   ┃     ┃   ┗━━━┛ ┗━━━┛ ┗━━━┛   ┃     ┃     ┃   ┗━━━┛                     \n",
       "            ┏━┻━┓ ┏━┻━┓ ┏━━━┓ ┏━━━┓       ┏━┻━┓ ┏━┻━┓ ┏━┻━┓ ┏━━━┓                     \n",
       "q2: <span style=\"color: #d2d4d9; text-decoration-color: #d2d4d9\">────────</span>┨ <span style=\"font-weight: bold\">Z</span> ┠<span style=\"color: #d2d4d9; text-decoration-color: #d2d4d9\">─</span>┨ <span style=\"font-weight: bold\">Z</span> ┠<span style=\"color: #d2d4d9; text-decoration-color: #d2d4d9\">─</span>┨ <span style=\"font-weight: bold\">H</span> ┠<span style=\"color: #d2d4d9; text-decoration-color: #d2d4d9\">─</span>┨ <span style=\"font-weight: bold\">Z</span> ┠<span style=\"color: #d2d4d9; text-decoration-color: #d2d4d9\">───────</span>┨ <span style=\"font-weight: bold\">Z</span> ┠<span style=\"color: #d2d4d9; text-decoration-color: #d2d4d9\">─</span>┨ <span style=\"font-weight: bold\">Z</span> ┠<span style=\"color: #d2d4d9; text-decoration-color: #d2d4d9\">─</span>┨ <span style=\"font-weight: bold\">Z</span> ┠<span style=\"color: #d2d4d9; text-decoration-color: #d2d4d9\">─</span>┨ <span style=\"font-weight: bold\">H</span> ┠<span style=\"color: #d2d4d9; text-decoration-color: #d2d4d9\">───</span>                  \n",
       "            ┗━━━┛ ┗━━━┛ ┗━━━┛ ┗━━━┛       ┗━━━┛ ┗━━━┛ ┗━━━┛ ┗━━━┛                     \n",
       "</pre>\n"
      ],
      "text/plain": [
       "      ┏━━━┓                         ┏━━━┓ ┏━━━┓                         ┏━━━┓         \n",
       "q0: ──┨ H ┠─────────■───────────■───┨ H ┠─┨ Z ┠───■─────■───────────■───┨ H ┠───────[red bold]↯[/]─\n",
       "      ┗━━━┛         ┃           ┃   ┗━━━┛ ┗━━━┛   ┃     ┃           ┃   ┗━━━┛         \n",
       "      ┏━━━┓ ┏━━━┓ ┏━┻━┓         ┃   ┏━━━┓ ┏━━━┓ ┏━┻━┓   ┃           ┃   ┏━━━┓ ┏━━━┓   \n",
       "q1: ──┨ H ┠─┨ Z ┠─┨ Z ┠───■─────■───┨ H ┠─┨ Z ┠─┨ Z ┠───╂─────■─────■───┨ H ┠─┨ Z ┠─[red bold]↯[/]─\n",
       "      ┗━━━┛ ┗━━━┛ ┗━━━┛   ┃     ┃   ┗━━━┛ ┗━━━┛ ┗━━━┛   ┃     ┃     ┃   ┗━━━┛ ┗━━━┛   \n",
       "      ┏━━━┓             ┏━┻━┓ ┏━┻━┓ ┏━━━┓ ┏━━━┓       ┏━┻━┓ ┏━┻━┓ ┏━┻━┓ ┏━━━┓         \n",
       "q2: ──┨ H ┠─────────────┨ Z ┠─┨ Z ┠─┨ H ┠─┨ Z ┠───────┨ Z ┠─┨ Z ┠─┨ Z ┠─┨ H ┠───────[red bold]↯[/]─\n",
       "      ┗━━━┛             ┗━━━┛ ┗━━━┛ ┗━━━┛ ┗━━━┛       ┗━━━┛ ┗━━━┛ ┗━━━┛ ┗━━━┛         \n",
       "                                                                                      \n",
       "                        ┏━━━┓ ┏━━━┓                         ┏━━━┓                     \n",
       "q0: ────■───────────■───┨ H ┠─┨ Z ┠───■─────■───────────■───┨ H ┠───                  \n",
       "        ┃           ┃   ┗━━━┛ ┗━━━┛   ┃     ┃           ┃   ┗━━━┛                     \n",
       "      ┏━┻━┓         ┃   ┏━━━┓ ┏━━━┓ ┏━┻━┓   ┃           ┃   ┏━━━┓                     \n",
       "q1: ──┨ Z ┠───■─────■───┨ H ┠─┨ Z ┠─┨ Z ┠───╂─────■─────■───┨ H ┠───                  \n",
       "      ┗━━━┛   ┃     ┃   ┗━━━┛ ┗━━━┛ ┗━━━┛   ┃     ┃     ┃   ┗━━━┛                     \n",
       "            ┏━┻━┓ ┏━┻━┓ ┏━━━┓ ┏━━━┓       ┏━┻━┓ ┏━┻━┓ ┏━┻━┓ ┏━━━┓                     \n",
       "q2: ────────┨ Z ┠─┨ Z ┠─┨ H ┠─┨ Z ┠───────┨ Z ┠─┨ Z ┠─┨ Z ┠─┨ H ┠───                  \n",
       "            ┗━━━┛ ┗━━━┛ ┗━━━┛ ┗━━━┛       ┗━━━┛ ┗━━━┛ ┗━━━┛ ┗━━━┛                     "
      ]
     },
     "execution_count": 31,
     "metadata": {},
     "output_type": "execute_result"
    }
   ],
   "source": [
    "# pylint: disable=W0104\n",
    "from numpy import pi, sqrt\n",
    "\n",
    "n_qubits = 3                                      # Set the number of qubits to 3\n",
    "phase_inversion_qubit = [2]                       # Set the target state that needs to flip the phase, and flip the phase of the |2> state here\n",
    "\n",
    "N = 2 ** (n_qubits)                               # Calculate the total number of elements in the database\n",
    "M = len(phase_inversion_qubit)                    # Calculate the total number of target states\n",
    "\n",
    "r = int(pi / 4 * sqrt(N / M))                     # Set the number of iterations of the G operator to r\n",
    "\n",
    "sim2 = Simulator('mqvector_gpu', n_qubits)            # Use the projectq simulator, named sim2\n",
    "\n",
    "circuit2 = Circuit()                              # Initialize the quantum circuit, named circuit2\n",
    "circuit2 += UN(H, n_qubits)                       # H-gate operations are performed on each qubit\n",
    "\n",
    "for i in range(r):                                # Execute the G operator r times in a loop\n",
    "    circuit2 += G(phase_inversion_qubit, n_qubits)\n",
    "\n",
    "sim2.apply_circuit(circuit2)                      # Run the built quantum circuit circuit2 by the simulator sim2\n",
    "\n",
    "circuit2                                          # Print the quantum circuit circuit2 at this time\n"
   ]
  },
  {
   "cell_type": "code",
   "execution_count": 32,
   "id": "261b974b",
   "metadata": {},
   "outputs": [
    {
     "name": "stdout",
     "output_type": "stream",
     "text": [
      "-√2/16¦000⟩\n",
      "-√2/16¦001⟩\n",
      "0.97227182¦010⟩\n",
      "-√2/16¦011⟩\n",
      "-√2/16¦100⟩\n",
      "-√2/16¦101⟩\n",
      "-√2/16¦110⟩\n",
      "-√2/16¦111⟩\n"
     ]
    }
   ],
   "source": [
    "print(sim2.get_qs(True))                          # Print the final state after running the quantum circuit circuit2 in the simulator sim2\n"
   ]
  },
  {
   "cell_type": "code",
   "execution_count": 33,
   "id": "ed42911f",
   "metadata": {},
   "outputs": [
    {
     "data": {
      "text/html": [
       "<pre style=\"white-space:pre;overflow-x:auto;line-height:normal;font-family:Menlo,'DejaVu Sans Mono',consolas,'Courier New',monospace\"></pre>\n"
      ],
      "text/plain": []
     },
     "metadata": {},
     "output_type": "display_data"
    },
    {
     "data": {
      "text/html": [
       "<pre style=\"white-space: pre;\"><span style=\"color: #808000; text-decoration-color: #808000\">shots: </span><span style=\"color: #008080; text-decoration-color: #008080; font-weight: bold\">1000</span>\n",
       "<span style=\"color: #808000; text-decoration-color: #808000\">Keys: q2 q1 q0│</span><span style=\"color: #008080; text-decoration-color: #008080; font-weight: bold\">0.00</span><span style=\"color: #808000; text-decoration-color: #808000\">     </span><span style=\"color: #008080; text-decoration-color: #008080; font-weight: bold\">0.2</span><span style=\"color: #808000; text-decoration-color: #808000\">         </span><span style=\"color: #008080; text-decoration-color: #008080; font-weight: bold\">0.4</span><span style=\"color: #808000; text-decoration-color: #808000\">         </span><span style=\"color: #008080; text-decoration-color: #008080; font-weight: bold\">0.6</span><span style=\"color: #808000; text-decoration-color: #808000\">         </span><span style=\"color: #008080; text-decoration-color: #008080; font-weight: bold\">0.8</span><span style=\"color: #808000; text-decoration-color: #808000\">         </span><span style=\"color: #008080; text-decoration-color: #008080; font-weight: bold\">1.0</span>\n",
       "<span style=\"color: #808000; text-decoration-color: #808000\">──────────────┼───────────┴───────────┴───────────┴───────────┴───────────┴</span>\n",
       "<span style=\"color: #808000; text-decoration-color: #808000\">           </span><span style=\"color: #008080; text-decoration-color: #008080; font-weight: bold\">000</span><span style=\"color: #808000; text-decoration-color: #808000\">│▒</span>\n",
       "<span style=\"color: #808000; text-decoration-color: #808000\">              │</span>\n",
       "<span style=\"color: #808000; text-decoration-color: #808000\">           </span><span style=\"color: #008080; text-decoration-color: #008080; font-weight: bold\">001</span><span style=\"color: #808000; text-decoration-color: #808000\">│▒</span>\n",
       "<span style=\"color: #808000; text-decoration-color: #808000\">              │</span>\n",
       "<span style=\"color: #808000; text-decoration-color: #808000\">           </span><span style=\"color: #008080; text-decoration-color: #008080; font-weight: bold\">010</span><span style=\"color: #808000; text-decoration-color: #808000\">│▓▓▓▓▓▓▓▓▓▓▓▓▓▓▓▓▓▓▓▓▓▓▓▓▓▓▓▓▓▓▓▓▓▓▓▓▓▓▓▓▓▓▓▓▓▓▓▓▓▓▓▓▓▓▓▓▓</span>\n",
       "<span style=\"color: #808000; text-decoration-color: #808000\">              │</span>\n",
       "<span style=\"color: #808000; text-decoration-color: #808000\">           </span><span style=\"color: #008080; text-decoration-color: #008080; font-weight: bold\">011</span><span style=\"color: #808000; text-decoration-color: #808000\">│▒</span>\n",
       "<span style=\"color: #808000; text-decoration-color: #808000\">              │</span>\n",
       "<span style=\"color: #808000; text-decoration-color: #808000\">           </span><span style=\"color: #008080; text-decoration-color: #008080; font-weight: bold\">100</span><span style=\"color: #808000; text-decoration-color: #808000\">│▒</span>\n",
       "<span style=\"color: #808000; text-decoration-color: #808000\">              │</span>\n",
       "<span style=\"color: #808000; text-decoration-color: #808000\">           </span><span style=\"color: #008080; text-decoration-color: #008080; font-weight: bold\">101</span><span style=\"color: #808000; text-decoration-color: #808000\">│▒</span>\n",
       "<span style=\"color: #808000; text-decoration-color: #808000\">              │</span>\n",
       "<span style=\"color: #808000; text-decoration-color: #808000\">           </span><span style=\"color: #008080; text-decoration-color: #008080; font-weight: bold\">110</span><span style=\"color: #808000; text-decoration-color: #808000\">│▒</span>\n",
       "<span style=\"color: #808000; text-decoration-color: #808000\">              │</span>\n",
       "<span style=\"color: #808000; text-decoration-color: #808000\">           </span><span style=\"color: #008080; text-decoration-color: #008080; font-weight: bold\">111</span><span style=\"color: #808000; text-decoration-color: #808000\">│▒</span>\n",
       "<span style=\"color: #808000; text-decoration-color: #808000\">              │</span>\n",
       "<span style=\"color: #808000; text-decoration-color: #808000; font-weight: bold\">{</span><span style=\"color: #008000; text-decoration-color: #008000\">'000'</span><span style=\"color: #808000; text-decoration-color: #808000\">: </span><span style=\"color: #008080; text-decoration-color: #008080; font-weight: bold\">14</span><span style=\"color: #808000; text-decoration-color: #808000\">, </span><span style=\"color: #008000; text-decoration-color: #008000\">'001'</span><span style=\"color: #808000; text-decoration-color: #808000\">: </span><span style=\"color: #008080; text-decoration-color: #008080; font-weight: bold\">8</span><span style=\"color: #808000; text-decoration-color: #808000\">, </span><span style=\"color: #008000; text-decoration-color: #008000\">'010'</span><span style=\"color: #808000; text-decoration-color: #808000\">: </span><span style=\"color: #008080; text-decoration-color: #008080; font-weight: bold\">934</span><span style=\"color: #808000; text-decoration-color: #808000\">, </span><span style=\"color: #008000; text-decoration-color: #008000\">'011'</span><span style=\"color: #808000; text-decoration-color: #808000\">: </span><span style=\"color: #008080; text-decoration-color: #008080; font-weight: bold\">7</span><span style=\"color: #808000; text-decoration-color: #808000\">, </span><span style=\"color: #008000; text-decoration-color: #008000\">'100'</span><span style=\"color: #808000; text-decoration-color: #808000\">: </span><span style=\"color: #008080; text-decoration-color: #008080; font-weight: bold\">11</span><span style=\"color: #808000; text-decoration-color: #808000\">, </span><span style=\"color: #008000; text-decoration-color: #008000\">'101'</span><span style=\"color: #808000; text-decoration-color: #808000\">: </span><span style=\"color: #008080; text-decoration-color: #008080; font-weight: bold\">8</span><span style=\"color: #808000; text-decoration-color: #808000\">, </span><span style=\"color: #008000; text-decoration-color: #008000\">'110'</span><span style=\"color: #808000; text-decoration-color: #808000\">: </span><span style=\"color: #008080; text-decoration-color: #008080; font-weight: bold\">9</span><span style=\"color: #808000; text-decoration-color: #808000\">, </span><span style=\"color: #008000; text-decoration-color: #008000\">'111'</span><span style=\"color: #808000; text-decoration-color: #808000\">: </span><span style=\"color: #008080; text-decoration-color: #008080; font-weight: bold\">9</span><span style=\"color: #808000; text-decoration-color: #808000; font-weight: bold\">}</span>\n",
       "</pre>\n"
      ],
      "text/plain": [
       "shots: 1000\n",
       "Keys: q2 q1 q0│0.00     0.2         0.4         0.6         0.8         1.0\n",
       "──────────────┼───────────┴───────────┴───────────┴───────────┴───────────┴\n",
       "           000│▒\n",
       "              │\n",
       "           001│▒\n",
       "              │\n",
       "           010│▓▓▓▓▓▓▓▓▓▓▓▓▓▓▓▓▓▓▓▓▓▓▓▓▓▓▓▓▓▓▓▓▓▓▓▓▓▓▓▓▓▓▓▓▓▓▓▓▓▓▓▓▓▓▓▓▓\n",
       "              │\n",
       "           011│▒\n",
       "              │\n",
       "           100│▒\n",
       "              │\n",
       "           101│▒\n",
       "              │\n",
       "           110│▒\n",
       "              │\n",
       "           111│▒\n",
       "              │\n",
       "{'000': 14, '001': 8, '010': 934, '011': 7, '100': 11, '101': 8, '110': 9, '111': 9}"
      ]
     },
     "execution_count": 33,
     "metadata": {},
     "output_type": "execute_result"
    }
   ],
   "source": [
    "# pylint: disable=W0104\n",
    "from mindquantum import Measure\n",
    "\n",
    "sim2.reset()                                      # Reset the quantum state maintained by the simulator sim2, so that the initialized quantum state is |000>\n",
    "\n",
    "circuit2 += UN(Measure(), circuit2.n_qubits)      # Add a measurement gate to each qubit in the quantum circuit circuit2\n",
    "\n",
    "result = sim2.sampling(circuit2, shots=1000)      # Sampling the quantum circuit circuit2 1000 times by the simulator sim2\n",
    "result                                            # print sampling results\n"
   ]
  },
  {
   "cell_type": "code",
   "execution_count": 34,
   "id": "c1693ae8",
   "metadata": {},
   "outputs": [
    {
     "name": "stdout",
     "output_type": "stream",
     "text": [
      "2\n"
     ]
    }
   ],
   "source": [
    "print(int('010', 2))\n",
    "  "
   ]
  },
  {
   "cell_type": "markdown",
   "id": "e20d6a6e",
   "metadata": {},
   "source": [
    "## Ejemplo 2\n"
   ]
  },
  {
   "cell_type": "code",
   "execution_count": 36,
   "id": "fd35dfdf",
   "metadata": {},
   "outputs": [
    {
     "data": {
      "text/html": [
       "<pre style=\"white-space:pre;overflow-x:auto;line-height:normal;font-family:Menlo,'DejaVu Sans Mono',consolas,'Courier New',monospace\"></pre>\n"
      ],
      "text/plain": []
     },
     "metadata": {},
     "output_type": "display_data"
    },
    {
     "data": {
      "text/html": [
       "<pre style=\"white-space: pre;\">      ┏━━━┓                                                 ┏━━━┓ ┏━━━┓               \n",
       "q0: <span style=\"color: #d2d4d9; text-decoration-color: #d2d4d9\">──</span>┨ <span style=\"font-weight: bold\">H</span> ┠<span style=\"color: #d2d4d9; text-decoration-color: #d2d4d9\">───</span>■<span style=\"color: #d2d4d9; text-decoration-color: #d2d4d9\">─────</span>■<span style=\"color: #d2d4d9; text-decoration-color: #d2d4d9\">─────</span>■<span style=\"color: #d2d4d9; text-decoration-color: #d2d4d9\">─────</span>■<span style=\"color: #d2d4d9; text-decoration-color: #d2d4d9\">─────</span>■<span style=\"color: #d2d4d9; text-decoration-color: #d2d4d9\">─────</span>■<span style=\"color: #d2d4d9; text-decoration-color: #d2d4d9\">─────</span>■<span style=\"color: #d2d4d9; text-decoration-color: #d2d4d9\">─────</span>■<span style=\"color: #d2d4d9; text-decoration-color: #d2d4d9\">───</span>┨ <span style=\"font-weight: bold\">H</span> ┠<span style=\"color: #d2d4d9; text-decoration-color: #d2d4d9\">─</span>┨ <span style=\"font-weight: bold\">Z</span> ┠<span style=\"color: #d2d4d9; text-decoration-color: #d2d4d9\">───</span>■<span style=\"color: #d2d4d9; text-decoration-color: #d2d4d9\">─────</span>■<span style=\"color: #d2d4d9; text-decoration-color: #d2d4d9\">───</span><span style=\"color: #800000; text-decoration-color: #800000; font-weight: bold\">↯</span><span style=\"color: #d2d4d9; text-decoration-color: #d2d4d9\">─</span>\n",
       "      ┗━━━┛   ┃     ┃     ┃     ┃     ┃     ┃     ┃     ┃   ┗━━━┛ ┗━━━┛   ┃     ┃     \n",
       "      ┏━━━┓   ┃     ┃     ┃     ┃     ┃     ┃     ┃     ┃   ┏━━━┓ ┏━━━┓ ┏━┻━┓   ┃     \n",
       "q1: <span style=\"color: #d2d4d9; text-decoration-color: #d2d4d9\">──</span>┨ <span style=\"font-weight: bold\">H</span> ┠<span style=\"color: #d2d4d9; text-decoration-color: #d2d4d9\">───</span>╂<span style=\"color: #d2d4d9; text-decoration-color: #d2d4d9\">─────</span>■<span style=\"color: #d2d4d9; text-decoration-color: #d2d4d9\">─────</span>■<span style=\"color: #d2d4d9; text-decoration-color: #d2d4d9\">─────</span>╂<span style=\"color: #d2d4d9; text-decoration-color: #d2d4d9\">─────</span>╂<span style=\"color: #d2d4d9; text-decoration-color: #d2d4d9\">─────</span>■<span style=\"color: #d2d4d9; text-decoration-color: #d2d4d9\">─────</span>■<span style=\"color: #d2d4d9; text-decoration-color: #d2d4d9\">─────</span>╂<span style=\"color: #d2d4d9; text-decoration-color: #d2d4d9\">───</span>┨ <span style=\"font-weight: bold\">H</span> ┠<span style=\"color: #d2d4d9; text-decoration-color: #d2d4d9\">─</span>┨ <span style=\"font-weight: bold\">Z</span> ┠<span style=\"color: #d2d4d9; text-decoration-color: #d2d4d9\">─</span>┨ <span style=\"font-weight: bold\">Z</span> ┠<span style=\"color: #d2d4d9; text-decoration-color: #d2d4d9\">───</span>╂<span style=\"color: #d2d4d9; text-decoration-color: #d2d4d9\">───</span><span style=\"color: #800000; text-decoration-color: #800000; font-weight: bold\">↯</span><span style=\"color: #d2d4d9; text-decoration-color: #d2d4d9\">─</span>\n",
       "      ┗━━━┛   ┃     ┃     ┃     ┃     ┃     ┃     ┃     ┃   ┗━━━┛ ┗━━━┛ ┗━━━┛   ┃     \n",
       "      ┏━━━┓ ┏━┻━┓ ┏━┻━┓   ┃     ┃     ┃     ┃     ┃     ┃   ┏━━━┓ ┏━━━┓       ┏━┻━┓   \n",
       "q2: <span style=\"color: #d2d4d9; text-decoration-color: #d2d4d9\">──</span>┨ <span style=\"font-weight: bold\">H</span> ┠<span style=\"color: #d2d4d9; text-decoration-color: #d2d4d9\">─</span>┨ <span style=\"font-weight: bold\">Z</span> ┠<span style=\"color: #d2d4d9; text-decoration-color: #d2d4d9\">─</span>┨ <span style=\"font-weight: bold\">Z</span> ┠<span style=\"color: #d2d4d9; text-decoration-color: #d2d4d9\">───</span>╂<span style=\"color: #d2d4d9; text-decoration-color: #d2d4d9\">─────</span>■<span style=\"color: #d2d4d9; text-decoration-color: #d2d4d9\">─────</span>■<span style=\"color: #d2d4d9; text-decoration-color: #d2d4d9\">─────</span>■<span style=\"color: #d2d4d9; text-decoration-color: #d2d4d9\">─────</span>╂<span style=\"color: #d2d4d9; text-decoration-color: #d2d4d9\">─────</span>■<span style=\"color: #d2d4d9; text-decoration-color: #d2d4d9\">───</span>┨ <span style=\"font-weight: bold\">H</span> ┠<span style=\"color: #d2d4d9; text-decoration-color: #d2d4d9\">─</span>┨ <span style=\"font-weight: bold\">Z</span> ┠<span style=\"color: #d2d4d9; text-decoration-color: #d2d4d9\">───────</span>┨ <span style=\"font-weight: bold\">Z</span> ┠<span style=\"color: #d2d4d9; text-decoration-color: #d2d4d9\">─</span><span style=\"color: #800000; text-decoration-color: #800000; font-weight: bold\">↯</span><span style=\"color: #d2d4d9; text-decoration-color: #d2d4d9\">─</span>\n",
       "      ┗━━━┛ ┗━━━┛ ┗━━━┛   ┃     ┃     ┃     ┃     ┃     ┃   ┗━━━┛ ┗━━━┛       ┗━━━┛   \n",
       "      ┏━━━┓             ┏━┻━┓ ┏━┻━┓   ┃     ┃     ┃     ┃   ┏━━━┓                     \n",
       "q3: <span style=\"color: #d2d4d9; text-decoration-color: #d2d4d9\">──</span>┨ <span style=\"font-weight: bold\">H</span> ┠<span style=\"color: #d2d4d9; text-decoration-color: #d2d4d9\">─────────────</span>┨ <span style=\"font-weight: bold\">Z</span> ┠<span style=\"color: #d2d4d9; text-decoration-color: #d2d4d9\">─</span>┨ <span style=\"font-weight: bold\">Z</span> ┠<span style=\"color: #d2d4d9; text-decoration-color: #d2d4d9\">───</span>╂<span style=\"color: #d2d4d9; text-decoration-color: #d2d4d9\">─────</span>╂<span style=\"color: #d2d4d9; text-decoration-color: #d2d4d9\">─────</span>■<span style=\"color: #d2d4d9; text-decoration-color: #d2d4d9\">─────</span>■<span style=\"color: #d2d4d9; text-decoration-color: #d2d4d9\">───</span>┨ <span style=\"font-weight: bold\">H</span> ┠<span style=\"color: #d2d4d9; text-decoration-color: #d2d4d9\">───────────────────</span><span style=\"color: #800000; text-decoration-color: #800000; font-weight: bold\">↯</span><span style=\"color: #d2d4d9; text-decoration-color: #d2d4d9\">─</span>\n",
       "      ┗━━━┛             ┗━━━┛ ┗━━━┛   ┃     ┃     ┃     ┃   ┗━━━┛                     \n",
       "      ┏━━━┓                         ┏━┻━┓ ┏━┻━┓ ┏━┻━┓ ┏━┻━┓ ┏━━━┓                     \n",
       "q4: <span style=\"color: #d2d4d9; text-decoration-color: #d2d4d9\">──</span>┨ <span style=\"font-weight: bold\">H</span> ┠<span style=\"color: #d2d4d9; text-decoration-color: #d2d4d9\">─────────────────────────</span>┨ <span style=\"font-weight: bold\">Z</span> ┠<span style=\"color: #d2d4d9; text-decoration-color: #d2d4d9\">─</span>┨ <span style=\"font-weight: bold\">Z</span> ┠<span style=\"color: #d2d4d9; text-decoration-color: #d2d4d9\">─</span>┨ <span style=\"font-weight: bold\">Z</span> ┠<span style=\"color: #d2d4d9; text-decoration-color: #d2d4d9\">─</span>┨ <span style=\"font-weight: bold\">Z</span> ┠<span style=\"color: #d2d4d9; text-decoration-color: #d2d4d9\">─</span>┨ <span style=\"font-weight: bold\">H</span> ┠<span style=\"color: #d2d4d9; text-decoration-color: #d2d4d9\">───────────────────</span><span style=\"color: #800000; text-decoration-color: #800000; font-weight: bold\">↯</span><span style=\"color: #d2d4d9; text-decoration-color: #d2d4d9\">─</span>\n",
       "      ┗━━━┛                         ┗━━━┛ ┗━━━┛ ┗━━━┛ ┗━━━┛ ┗━━━┛                     \n",
       "                                                                                      \n",
       "q0: <span style=\"color: #d2d4d9; text-decoration-color: #d2d4d9\">──────────</span>■<span style=\"color: #d2d4d9; text-decoration-color: #d2d4d9\">─────</span>■<span style=\"color: #d2d4d9; text-decoration-color: #d2d4d9\">───────────</span>■<span style=\"color: #d2d4d9; text-decoration-color: #d2d4d9\">───────────</span>■<span style=\"color: #d2d4d9; text-decoration-color: #d2d4d9\">───────────</span>■<span style=\"color: #d2d4d9; text-decoration-color: #d2d4d9\">─────</span>■<span style=\"color: #d2d4d9; text-decoration-color: #d2d4d9\">───────────</span>■<span style=\"color: #d2d4d9; text-decoration-color: #d2d4d9\">─────────</span><span style=\"color: #800000; text-decoration-color: #800000; font-weight: bold\">↯</span><span style=\"color: #d2d4d9; text-decoration-color: #d2d4d9\">─</span>\n",
       "              ┃     ┃           ┃           ┃           ┃     ┃           ┃           \n",
       "              ┃     ┃           ┃           ┃           ┃     ┃           ┃           \n",
       "q1: <span style=\"color: #d2d4d9; text-decoration-color: #d2d4d9\">────</span>■<span style=\"color: #d2d4d9; text-decoration-color: #d2d4d9\">─────</span>■<span style=\"color: #d2d4d9; text-decoration-color: #d2d4d9\">─────</span>╂<span style=\"color: #d2d4d9; text-decoration-color: #d2d4d9\">─────</span>■<span style=\"color: #d2d4d9; text-decoration-color: #d2d4d9\">─────</span>■<span style=\"color: #d2d4d9; text-decoration-color: #d2d4d9\">───────────</span>╂<span style=\"color: #d2d4d9; text-decoration-color: #d2d4d9\">─────</span>■<span style=\"color: #d2d4d9; text-decoration-color: #d2d4d9\">─────</span>■<span style=\"color: #d2d4d9; text-decoration-color: #d2d4d9\">─────</span>╂<span style=\"color: #d2d4d9; text-decoration-color: #d2d4d9\">─────</span>■<span style=\"color: #d2d4d9; text-decoration-color: #d2d4d9\">─────</span>■<span style=\"color: #d2d4d9; text-decoration-color: #d2d4d9\">─────────</span><span style=\"color: #800000; text-decoration-color: #800000; font-weight: bold\">↯</span><span style=\"color: #d2d4d9; text-decoration-color: #d2d4d9\">─</span>\n",
       "        ┃     ┃     ┃     ┃     ┃           ┃     ┃     ┃     ┃     ┃     ┃           \n",
       "      ┏━┻━┓ ┏━┻━┓   ┃     ┃     ┃           ┃     ┃     ┃     ┃     ┃     ┃           \n",
       "q2: <span style=\"color: #d2d4d9; text-decoration-color: #d2d4d9\">──</span>┨ <span style=\"font-weight: bold\">Z</span> ┠<span style=\"color: #d2d4d9; text-decoration-color: #d2d4d9\">─</span>┨ <span style=\"font-weight: bold\">Z</span> ┠<span style=\"color: #d2d4d9; text-decoration-color: #d2d4d9\">───</span>╂<span style=\"color: #d2d4d9; text-decoration-color: #d2d4d9\">─────</span>╂<span style=\"color: #d2d4d9; text-decoration-color: #d2d4d9\">─────</span>╂<span style=\"color: #d2d4d9; text-decoration-color: #d2d4d9\">─────</span>■<span style=\"color: #d2d4d9; text-decoration-color: #d2d4d9\">─────</span>■<span style=\"color: #d2d4d9; text-decoration-color: #d2d4d9\">─────</span>■<span style=\"color: #d2d4d9; text-decoration-color: #d2d4d9\">─────</span>■<span style=\"color: #d2d4d9; text-decoration-color: #d2d4d9\">─────</span>╂<span style=\"color: #d2d4d9; text-decoration-color: #d2d4d9\">─────</span>╂<span style=\"color: #d2d4d9; text-decoration-color: #d2d4d9\">─────</span>╂<span style=\"color: #d2d4d9; text-decoration-color: #d2d4d9\">─────</span>■<span style=\"color: #d2d4d9; text-decoration-color: #d2d4d9\">───</span><span style=\"color: #800000; text-decoration-color: #800000; font-weight: bold\">↯</span><span style=\"color: #d2d4d9; text-decoration-color: #d2d4d9\">─</span>\n",
       "      ┗━━━┛ ┗━━━┛   ┃     ┃     ┃     ┃     ┃     ┃     ┃     ┃     ┃     ┃     ┃     \n",
       "      ┏━━━┓       ┏━┻━┓ ┏━┻━┓ ┏━┻━┓ ┏━┻━┓ ┏━┻━┓ ┏━┻━┓ ┏━┻━┓   ┃     ┃     ┃     ┃     \n",
       "q3: <span style=\"color: #d2d4d9; text-decoration-color: #d2d4d9\">──</span>┨ <span style=\"font-weight: bold\">Z</span> ┠<span style=\"color: #d2d4d9; text-decoration-color: #d2d4d9\">───────</span>┨ <span style=\"font-weight: bold\">Z</span> ┠<span style=\"color: #d2d4d9; text-decoration-color: #d2d4d9\">─</span>┨ <span style=\"font-weight: bold\">Z</span> ┠<span style=\"color: #d2d4d9; text-decoration-color: #d2d4d9\">─</span>┨ <span style=\"font-weight: bold\">Z</span> ┠<span style=\"color: #d2d4d9; text-decoration-color: #d2d4d9\">─</span>┨ <span style=\"font-weight: bold\">Z</span> ┠<span style=\"color: #d2d4d9; text-decoration-color: #d2d4d9\">─</span>┨ <span style=\"font-weight: bold\">Z</span> ┠<span style=\"color: #d2d4d9; text-decoration-color: #d2d4d9\">─</span>┨ <span style=\"font-weight: bold\">Z</span> ┠<span style=\"color: #d2d4d9; text-decoration-color: #d2d4d9\">─</span>┨ <span style=\"font-weight: bold\">Z</span> ┠<span style=\"color: #d2d4d9; text-decoration-color: #d2d4d9\">───</span>╂<span style=\"color: #d2d4d9; text-decoration-color: #d2d4d9\">─────</span>╂<span style=\"color: #d2d4d9; text-decoration-color: #d2d4d9\">─────</span>╂<span style=\"color: #d2d4d9; text-decoration-color: #d2d4d9\">─────</span>╂<span style=\"color: #d2d4d9; text-decoration-color: #d2d4d9\">───</span><span style=\"color: #800000; text-decoration-color: #800000; font-weight: bold\">↯</span><span style=\"color: #d2d4d9; text-decoration-color: #d2d4d9\">─</span>\n",
       "      ┗━━━┛       ┗━━━┛ ┗━━━┛ ┗━━━┛ ┗━━━┛ ┗━━━┛ ┗━━━┛ ┗━━━┛   ┃     ┃     ┃     ┃     \n",
       "      ┏━━━┓                                                 ┏━┻━┓ ┏━┻━┓ ┏━┻━┓ ┏━┻━┓   \n",
       "q4: <span style=\"color: #d2d4d9; text-decoration-color: #d2d4d9\">──</span>┨ <span style=\"font-weight: bold\">Z</span> ┠<span style=\"color: #d2d4d9; text-decoration-color: #d2d4d9\">─────────────────────────────────────────────────</span>┨ <span style=\"font-weight: bold\">Z</span> ┠<span style=\"color: #d2d4d9; text-decoration-color: #d2d4d9\">─</span>┨ <span style=\"font-weight: bold\">Z</span> ┠<span style=\"color: #d2d4d9; text-decoration-color: #d2d4d9\">─</span>┨ <span style=\"font-weight: bold\">Z</span> ┠<span style=\"color: #d2d4d9; text-decoration-color: #d2d4d9\">─</span>┨ <span style=\"font-weight: bold\">Z</span> ┠<span style=\"color: #d2d4d9; text-decoration-color: #d2d4d9\">─</span><span style=\"color: #800000; text-decoration-color: #800000; font-weight: bold\">↯</span><span style=\"color: #d2d4d9; text-decoration-color: #d2d4d9\">─</span>\n",
       "      ┗━━━┛                                                 ┗━━━┛ ┗━━━┛ ┗━━━┛ ┗━━━┛   \n",
       "                                                                                      \n",
       "                                                                        ┏━━━┓         \n",
       "q0: <span style=\"color: #d2d4d9; text-decoration-color: #d2d4d9\">────</span>■<span style=\"color: #d2d4d9; text-decoration-color: #d2d4d9\">───────────</span>■<span style=\"color: #d2d4d9; text-decoration-color: #d2d4d9\">───────────</span>■<span style=\"color: #d2d4d9; text-decoration-color: #d2d4d9\">───────────</span>■<span style=\"color: #d2d4d9; text-decoration-color: #d2d4d9\">───────────</span>■<span style=\"color: #d2d4d9; text-decoration-color: #d2d4d9\">───────────</span>■<span style=\"color: #d2d4d9; text-decoration-color: #d2d4d9\">───</span>┨ <span style=\"font-weight: bold\">H</span> ┠<span style=\"color: #d2d4d9; text-decoration-color: #d2d4d9\">───</span>■<span style=\"color: #d2d4d9; text-decoration-color: #d2d4d9\">───</span><span style=\"color: #800000; text-decoration-color: #800000; font-weight: bold\">↯</span><span style=\"color: #d2d4d9; text-decoration-color: #d2d4d9\">─</span>\n",
       "        ┃           ┃           ┃           ┃           ┃           ┃   ┗━━━┛   ┃     \n",
       "        ┃           ┃           ┃           ┃           ┃           ┃   ┏━━━┓   ┃     \n",
       "q1: <span style=\"color: #d2d4d9; text-decoration-color: #d2d4d9\">────</span>╂<span style=\"color: #d2d4d9; text-decoration-color: #d2d4d9\">─────</span>■<span style=\"color: #d2d4d9; text-decoration-color: #d2d4d9\">─────</span>■<span style=\"color: #d2d4d9; text-decoration-color: #d2d4d9\">───────────</span>╂<span style=\"color: #d2d4d9; text-decoration-color: #d2d4d9\">─────</span>■<span style=\"color: #d2d4d9; text-decoration-color: #d2d4d9\">─────</span>■<span style=\"color: #d2d4d9; text-decoration-color: #d2d4d9\">───────────</span>╂<span style=\"color: #d2d4d9; text-decoration-color: #d2d4d9\">─────</span>■<span style=\"color: #d2d4d9; text-decoration-color: #d2d4d9\">─────</span>■<span style=\"color: #d2d4d9; text-decoration-color: #d2d4d9\">───</span>┨ <span style=\"font-weight: bold\">H</span> ┠<span style=\"color: #d2d4d9; text-decoration-color: #d2d4d9\">───</span>╂<span style=\"color: #d2d4d9; text-decoration-color: #d2d4d9\">───</span><span style=\"color: #800000; text-decoration-color: #800000; font-weight: bold\">↯</span><span style=\"color: #d2d4d9; text-decoration-color: #d2d4d9\">─</span>\n",
       "        ┃     ┃     ┃           ┃     ┃     ┃           ┃     ┃     ┃   ┗━━━┛   ┃     \n",
       "        ┃     ┃     ┃           ┃     ┃     ┃           ┃     ┃     ┃   ┏━━━┓ ┏━┻━┓   \n",
       "q2: <span style=\"color: #d2d4d9; text-decoration-color: #d2d4d9\">────</span>■<span style=\"color: #d2d4d9; text-decoration-color: #d2d4d9\">─────</span>■<span style=\"color: #d2d4d9; text-decoration-color: #d2d4d9\">─────</span>■<span style=\"color: #d2d4d9; text-decoration-color: #d2d4d9\">───────────</span>╂<span style=\"color: #d2d4d9; text-decoration-color: #d2d4d9\">─────</span>╂<span style=\"color: #d2d4d9; text-decoration-color: #d2d4d9\">─────</span>╂<span style=\"color: #d2d4d9; text-decoration-color: #d2d4d9\">─────</span>■<span style=\"color: #d2d4d9; text-decoration-color: #d2d4d9\">─────</span>■<span style=\"color: #d2d4d9; text-decoration-color: #d2d4d9\">─────</span>■<span style=\"color: #d2d4d9; text-decoration-color: #d2d4d9\">─────</span>■<span style=\"color: #d2d4d9; text-decoration-color: #d2d4d9\">───</span>┨ <span style=\"font-weight: bold\">H</span> ┠<span style=\"color: #d2d4d9; text-decoration-color: #d2d4d9\">─</span>┨ <span style=\"font-weight: bold\">Z</span> ┠<span style=\"color: #d2d4d9; text-decoration-color: #d2d4d9\">─</span><span style=\"color: #800000; text-decoration-color: #800000; font-weight: bold\">↯</span><span style=\"color: #d2d4d9; text-decoration-color: #d2d4d9\">─</span>\n",
       "        ┃     ┃     ┃           ┃     ┃     ┃     ┃     ┃     ┃     ┃   ┗━━━┛ ┗━━━┛   \n",
       "        ┃     ┃     ┃           ┃     ┃     ┃     ┃     ┃     ┃     ┃   ┏━━━┓         \n",
       "q3: <span style=\"color: #d2d4d9; text-decoration-color: #d2d4d9\">────</span>╂<span style=\"color: #d2d4d9; text-decoration-color: #d2d4d9\">─────</span>╂<span style=\"color: #d2d4d9; text-decoration-color: #d2d4d9\">─────</span>╂<span style=\"color: #d2d4d9; text-decoration-color: #d2d4d9\">─────</span>■<span style=\"color: #d2d4d9; text-decoration-color: #d2d4d9\">─────</span>■<span style=\"color: #d2d4d9; text-decoration-color: #d2d4d9\">─────</span>■<span style=\"color: #d2d4d9; text-decoration-color: #d2d4d9\">─────</span>■<span style=\"color: #d2d4d9; text-decoration-color: #d2d4d9\">─────</span>■<span style=\"color: #d2d4d9; text-decoration-color: #d2d4d9\">─────</span>■<span style=\"color: #d2d4d9; text-decoration-color: #d2d4d9\">─────</span>■<span style=\"color: #d2d4d9; text-decoration-color: #d2d4d9\">─────</span>■<span style=\"color: #d2d4d9; text-decoration-color: #d2d4d9\">───</span>┨ <span style=\"font-weight: bold\">H</span> ┠<span style=\"color: #d2d4d9; text-decoration-color: #d2d4d9\">───────</span><span style=\"color: #800000; text-decoration-color: #800000; font-weight: bold\">↯</span><span style=\"color: #d2d4d9; text-decoration-color: #d2d4d9\">─</span>\n",
       "        ┃     ┃     ┃     ┃     ┃     ┃     ┃     ┃     ┃     ┃     ┃   ┗━━━┛         \n",
       "      ┏━┻━┓ ┏━┻━┓ ┏━┻━┓ ┏━┻━┓ ┏━┻━┓ ┏━┻━┓ ┏━┻━┓ ┏━┻━┓ ┏━┻━┓ ┏━┻━┓ ┏━┻━┓ ┏━━━┓         \n",
       "q4: <span style=\"color: #d2d4d9; text-decoration-color: #d2d4d9\">──</span>┨ <span style=\"font-weight: bold\">Z</span> ┠<span style=\"color: #d2d4d9; text-decoration-color: #d2d4d9\">─</span>┨ <span style=\"font-weight: bold\">Z</span> ┠<span style=\"color: #d2d4d9; text-decoration-color: #d2d4d9\">─</span>┨ <span style=\"font-weight: bold\">Z</span> ┠<span style=\"color: #d2d4d9; text-decoration-color: #d2d4d9\">─</span>┨ <span style=\"font-weight: bold\">Z</span> ┠<span style=\"color: #d2d4d9; text-decoration-color: #d2d4d9\">─</span>┨ <span style=\"font-weight: bold\">Z</span> ┠<span style=\"color: #d2d4d9; text-decoration-color: #d2d4d9\">─</span>┨ <span style=\"font-weight: bold\">Z</span> ┠<span style=\"color: #d2d4d9; text-decoration-color: #d2d4d9\">─</span>┨ <span style=\"font-weight: bold\">Z</span> ┠<span style=\"color: #d2d4d9; text-decoration-color: #d2d4d9\">─</span>┨ <span style=\"font-weight: bold\">Z</span> ┠<span style=\"color: #d2d4d9; text-decoration-color: #d2d4d9\">─</span>┨ <span style=\"font-weight: bold\">Z</span> ┠<span style=\"color: #d2d4d9; text-decoration-color: #d2d4d9\">─</span>┨ <span style=\"font-weight: bold\">Z</span> ┠<span style=\"color: #d2d4d9; text-decoration-color: #d2d4d9\">─</span>┨ <span style=\"font-weight: bold\">Z</span> ┠<span style=\"color: #d2d4d9; text-decoration-color: #d2d4d9\">─</span>┨ <span style=\"font-weight: bold\">H</span> ┠<span style=\"color: #d2d4d9; text-decoration-color: #d2d4d9\">───────</span><span style=\"color: #800000; text-decoration-color: #800000; font-weight: bold\">↯</span><span style=\"color: #d2d4d9; text-decoration-color: #d2d4d9\">─</span>\n",
       "      ┗━━━┛ ┗━━━┛ ┗━━━┛ ┗━━━┛ ┗━━━┛ ┗━━━┛ ┗━━━┛ ┗━━━┛ ┗━━━┛ ┗━━━┛ ┗━━━┛ ┗━━━┛         \n",
       "                                                                                      \n",
       "                                                ┏━━━┓ ┏━━━┓                           \n",
       "q0: <span style=\"color: #d2d4d9; text-decoration-color: #d2d4d9\">────</span>■<span style=\"color: #d2d4d9; text-decoration-color: #d2d4d9\">─────</span>■<span style=\"color: #d2d4d9; text-decoration-color: #d2d4d9\">─────</span>■<span style=\"color: #d2d4d9; text-decoration-color: #d2d4d9\">─────</span>■<span style=\"color: #d2d4d9; text-decoration-color: #d2d4d9\">─────</span>■<span style=\"color: #d2d4d9; text-decoration-color: #d2d4d9\">─────</span>■<span style=\"color: #d2d4d9; text-decoration-color: #d2d4d9\">─────</span>■<span style=\"color: #d2d4d9; text-decoration-color: #d2d4d9\">───</span>┨ <span style=\"font-weight: bold\">H</span> ┠<span style=\"color: #d2d4d9; text-decoration-color: #d2d4d9\">─</span>┨ <span style=\"font-weight: bold\">Z</span> ┠<span style=\"color: #d2d4d9; text-decoration-color: #d2d4d9\">───</span>■<span style=\"color: #d2d4d9; text-decoration-color: #d2d4d9\">─────</span>■<span style=\"color: #d2d4d9; text-decoration-color: #d2d4d9\">───────────</span>■<span style=\"color: #d2d4d9; text-decoration-color: #d2d4d9\">───</span><span style=\"color: #800000; text-decoration-color: #800000; font-weight: bold\">↯</span><span style=\"color: #d2d4d9; text-decoration-color: #d2d4d9\">─</span>\n",
       "        ┃     ┃     ┃     ┃     ┃     ┃     ┃   ┗━━━┛ ┗━━━┛   ┃     ┃           ┃     \n",
       "        ┃     ┃     ┃     ┃     ┃     ┃     ┃   ┏━━━┓ ┏━━━┓ ┏━┻━┓   ┃           ┃     \n",
       "q1: <span style=\"color: #d2d4d9; text-decoration-color: #d2d4d9\">────</span>■<span style=\"color: #d2d4d9; text-decoration-color: #d2d4d9\">─────</span>■<span style=\"color: #d2d4d9; text-decoration-color: #d2d4d9\">─────</span>╂<span style=\"color: #d2d4d9; text-decoration-color: #d2d4d9\">─────</span>╂<span style=\"color: #d2d4d9; text-decoration-color: #d2d4d9\">─────</span>■<span style=\"color: #d2d4d9; text-decoration-color: #d2d4d9\">─────</span>■<span style=\"color: #d2d4d9; text-decoration-color: #d2d4d9\">─────</span>╂<span style=\"color: #d2d4d9; text-decoration-color: #d2d4d9\">───</span>┨ <span style=\"font-weight: bold\">H</span> ┠<span style=\"color: #d2d4d9; text-decoration-color: #d2d4d9\">─</span>┨ <span style=\"font-weight: bold\">Z</span> ┠<span style=\"color: #d2d4d9; text-decoration-color: #d2d4d9\">─</span>┨ <span style=\"font-weight: bold\">Z</span> ┠<span style=\"color: #d2d4d9; text-decoration-color: #d2d4d9\">───</span>╂<span style=\"color: #d2d4d9; text-decoration-color: #d2d4d9\">─────</span>■<span style=\"color: #d2d4d9; text-decoration-color: #d2d4d9\">─────</span>■<span style=\"color: #d2d4d9; text-decoration-color: #d2d4d9\">───</span><span style=\"color: #800000; text-decoration-color: #800000; font-weight: bold\">↯</span><span style=\"color: #d2d4d9; text-decoration-color: #d2d4d9\">─</span>\n",
       "        ┃     ┃     ┃     ┃     ┃     ┃     ┃   ┗━━━┛ ┗━━━┛ ┗━━━┛   ┃     ┃     ┃     \n",
       "      ┏━┻━┓   ┃     ┃     ┃     ┃     ┃     ┃   ┏━━━┓ ┏━━━┓       ┏━┻━┓ ┏━┻━┓ ┏━┻━┓   \n",
       "q2: <span style=\"color: #d2d4d9; text-decoration-color: #d2d4d9\">──</span>┨ <span style=\"font-weight: bold\">Z</span> ┠<span style=\"color: #d2d4d9; text-decoration-color: #d2d4d9\">───</span>╂<span style=\"color: #d2d4d9; text-decoration-color: #d2d4d9\">─────</span>■<span style=\"color: #d2d4d9; text-decoration-color: #d2d4d9\">─────</span>■<span style=\"color: #d2d4d9; text-decoration-color: #d2d4d9\">─────</span>■<span style=\"color: #d2d4d9; text-decoration-color: #d2d4d9\">─────</span>╂<span style=\"color: #d2d4d9; text-decoration-color: #d2d4d9\">─────</span>■<span style=\"color: #d2d4d9; text-decoration-color: #d2d4d9\">───</span>┨ <span style=\"font-weight: bold\">H</span> ┠<span style=\"color: #d2d4d9; text-decoration-color: #d2d4d9\">─</span>┨ <span style=\"font-weight: bold\">Z</span> ┠<span style=\"color: #d2d4d9; text-decoration-color: #d2d4d9\">───────</span>┨ <span style=\"font-weight: bold\">Z</span> ┠<span style=\"color: #d2d4d9; text-decoration-color: #d2d4d9\">─</span>┨ <span style=\"font-weight: bold\">Z</span> ┠<span style=\"color: #d2d4d9; text-decoration-color: #d2d4d9\">─</span>┨ <span style=\"font-weight: bold\">Z</span> ┠<span style=\"color: #d2d4d9; text-decoration-color: #d2d4d9\">─</span><span style=\"color: #800000; text-decoration-color: #800000; font-weight: bold\">↯</span><span style=\"color: #d2d4d9; text-decoration-color: #d2d4d9\">─</span>\n",
       "      ┗━━━┛   ┃     ┃     ┃     ┃     ┃     ┃   ┗━━━┛ ┗━━━┛       ┗━━━┛ ┗━━━┛ ┗━━━┛   \n",
       "            ┏━┻━┓ ┏━┻━┓   ┃     ┃     ┃     ┃   ┏━━━┓ ┏━━━┓                           \n",
       "q3: <span style=\"color: #d2d4d9; text-decoration-color: #d2d4d9\">────────</span>┨ <span style=\"font-weight: bold\">Z</span> ┠<span style=\"color: #d2d4d9; text-decoration-color: #d2d4d9\">─</span>┨ <span style=\"font-weight: bold\">Z</span> ┠<span style=\"color: #d2d4d9; text-decoration-color: #d2d4d9\">───</span>╂<span style=\"color: #d2d4d9; text-decoration-color: #d2d4d9\">─────</span>╂<span style=\"color: #d2d4d9; text-decoration-color: #d2d4d9\">─────</span>■<span style=\"color: #d2d4d9; text-decoration-color: #d2d4d9\">─────</span>■<span style=\"color: #d2d4d9; text-decoration-color: #d2d4d9\">───</span>┨ <span style=\"font-weight: bold\">H</span> ┠<span style=\"color: #d2d4d9; text-decoration-color: #d2d4d9\">─</span>┨ <span style=\"font-weight: bold\">Z</span> ┠<span style=\"color: #d2d4d9; text-decoration-color: #d2d4d9\">─────────────────────────</span><span style=\"color: #800000; text-decoration-color: #800000; font-weight: bold\">↯</span><span style=\"color: #d2d4d9; text-decoration-color: #d2d4d9\">─</span>\n",
       "            ┗━━━┛ ┗━━━┛   ┃     ┃     ┃     ┃   ┗━━━┛ ┗━━━┛                           \n",
       "                        ┏━┻━┓ ┏━┻━┓ ┏━┻━┓ ┏━┻━┓ ┏━━━┓                                 \n",
       "q4: <span style=\"color: #d2d4d9; text-decoration-color: #d2d4d9\">────────────────────</span>┨ <span style=\"font-weight: bold\">Z</span> ┠<span style=\"color: #d2d4d9; text-decoration-color: #d2d4d9\">─</span>┨ <span style=\"font-weight: bold\">Z</span> ┠<span style=\"color: #d2d4d9; text-decoration-color: #d2d4d9\">─</span>┨ <span style=\"font-weight: bold\">Z</span> ┠<span style=\"color: #d2d4d9; text-decoration-color: #d2d4d9\">─</span>┨ <span style=\"font-weight: bold\">Z</span> ┠<span style=\"color: #d2d4d9; text-decoration-color: #d2d4d9\">─</span>┨ <span style=\"font-weight: bold\">H</span> ┠<span style=\"color: #d2d4d9; text-decoration-color: #d2d4d9\">───────────────────────────────</span><span style=\"color: #800000; text-decoration-color: #800000; font-weight: bold\">↯</span><span style=\"color: #d2d4d9; text-decoration-color: #d2d4d9\">─</span>\n",
       "                        ┗━━━┛ ┗━━━┛ ┗━━━┛ ┗━━━┛ ┗━━━┛                                 \n",
       "                                                                                      \n",
       "q0: <span style=\"color: #d2d4d9; text-decoration-color: #d2d4d9\">────</span>■<span style=\"color: #d2d4d9; text-decoration-color: #d2d4d9\">───────────</span>■<span style=\"color: #d2d4d9; text-decoration-color: #d2d4d9\">───────────</span>■<span style=\"color: #d2d4d9; text-decoration-color: #d2d4d9\">───────────</span>■<span style=\"color: #d2d4d9; text-decoration-color: #d2d4d9\">─────</span>■<span style=\"color: #d2d4d9; text-decoration-color: #d2d4d9\">───────────</span>■<span style=\"color: #d2d4d9; text-decoration-color: #d2d4d9\">───────────</span>■<span style=\"color: #d2d4d9; text-decoration-color: #d2d4d9\">─────────</span><span style=\"color: #800000; text-decoration-color: #800000; font-weight: bold\">↯</span><span style=\"color: #d2d4d9; text-decoration-color: #d2d4d9\">─</span>\n",
       "        ┃           ┃           ┃           ┃     ┃           ┃           ┃           \n",
       "        ┃           ┃           ┃           ┃     ┃           ┃           ┃           \n",
       "q1: <span style=\"color: #d2d4d9; text-decoration-color: #d2d4d9\">────</span>╂<span style=\"color: #d2d4d9; text-decoration-color: #d2d4d9\">─────</span>■<span style=\"color: #d2d4d9; text-decoration-color: #d2d4d9\">─────</span>■<span style=\"color: #d2d4d9; text-decoration-color: #d2d4d9\">───────────</span>╂<span style=\"color: #d2d4d9; text-decoration-color: #d2d4d9\">─────</span>■<span style=\"color: #d2d4d9; text-decoration-color: #d2d4d9\">─────</span>■<span style=\"color: #d2d4d9; text-decoration-color: #d2d4d9\">─────</span>╂<span style=\"color: #d2d4d9; text-decoration-color: #d2d4d9\">─────</span>■<span style=\"color: #d2d4d9; text-decoration-color: #d2d4d9\">─────</span>■<span style=\"color: #d2d4d9; text-decoration-color: #d2d4d9\">───────────</span>╂<span style=\"color: #d2d4d9; text-decoration-color: #d2d4d9\">─────</span>■<span style=\"color: #d2d4d9; text-decoration-color: #d2d4d9\">───</span><span style=\"color: #800000; text-decoration-color: #800000; font-weight: bold\">↯</span><span style=\"color: #d2d4d9; text-decoration-color: #d2d4d9\">─</span>\n",
       "        ┃     ┃     ┃           ┃     ┃     ┃     ┃     ┃     ┃           ┃     ┃     \n",
       "        ┃     ┃     ┃           ┃     ┃     ┃     ┃     ┃     ┃           ┃     ┃     \n",
       "q2: <span style=\"color: #d2d4d9; text-decoration-color: #d2d4d9\">────</span>╂<span style=\"color: #d2d4d9; text-decoration-color: #d2d4d9\">─────</span>╂<span style=\"color: #d2d4d9; text-decoration-color: #d2d4d9\">─────</span>╂<span style=\"color: #d2d4d9; text-decoration-color: #d2d4d9\">─────</span>■<span style=\"color: #d2d4d9; text-decoration-color: #d2d4d9\">─────</span>■<span style=\"color: #d2d4d9; text-decoration-color: #d2d4d9\">─────</span>■<span style=\"color: #d2d4d9; text-decoration-color: #d2d4d9\">─────</span>■<span style=\"color: #d2d4d9; text-decoration-color: #d2d4d9\">─────</span>╂<span style=\"color: #d2d4d9; text-decoration-color: #d2d4d9\">─────</span>╂<span style=\"color: #d2d4d9; text-decoration-color: #d2d4d9\">─────</span>╂<span style=\"color: #d2d4d9; text-decoration-color: #d2d4d9\">─────</span>■<span style=\"color: #d2d4d9; text-decoration-color: #d2d4d9\">─────</span>■<span style=\"color: #d2d4d9; text-decoration-color: #d2d4d9\">─────</span>■<span style=\"color: #d2d4d9; text-decoration-color: #d2d4d9\">───</span><span style=\"color: #800000; text-decoration-color: #800000; font-weight: bold\">↯</span><span style=\"color: #d2d4d9; text-decoration-color: #d2d4d9\">─</span>\n",
       "        ┃     ┃     ┃     ┃     ┃     ┃     ┃     ┃     ┃     ┃     ┃     ┃     ┃     \n",
       "      ┏━┻━┓ ┏━┻━┓ ┏━┻━┓ ┏━┻━┓ ┏━┻━┓ ┏━┻━┓ ┏━┻━┓   ┃     ┃     ┃     ┃     ┃     ┃     \n",
       "q3: <span style=\"color: #d2d4d9; text-decoration-color: #d2d4d9\">──</span>┨ <span style=\"font-weight: bold\">Z</span> ┠<span style=\"color: #d2d4d9; text-decoration-color: #d2d4d9\">─</span>┨ <span style=\"font-weight: bold\">Z</span> ┠<span style=\"color: #d2d4d9; text-decoration-color: #d2d4d9\">─</span>┨ <span style=\"font-weight: bold\">Z</span> ┠<span style=\"color: #d2d4d9; text-decoration-color: #d2d4d9\">─</span>┨ <span style=\"font-weight: bold\">Z</span> ┠<span style=\"color: #d2d4d9; text-decoration-color: #d2d4d9\">─</span>┨ <span style=\"font-weight: bold\">Z</span> ┠<span style=\"color: #d2d4d9; text-decoration-color: #d2d4d9\">─</span>┨ <span style=\"font-weight: bold\">Z</span> ┠<span style=\"color: #d2d4d9; text-decoration-color: #d2d4d9\">─</span>┨ <span style=\"font-weight: bold\">Z</span> ┠<span style=\"color: #d2d4d9; text-decoration-color: #d2d4d9\">───</span>╂<span style=\"color: #d2d4d9; text-decoration-color: #d2d4d9\">─────</span>╂<span style=\"color: #d2d4d9; text-decoration-color: #d2d4d9\">─────</span>╂<span style=\"color: #d2d4d9; text-decoration-color: #d2d4d9\">─────</span>╂<span style=\"color: #d2d4d9; text-decoration-color: #d2d4d9\">─────</span>╂<span style=\"color: #d2d4d9; text-decoration-color: #d2d4d9\">─────</span>╂<span style=\"color: #d2d4d9; text-decoration-color: #d2d4d9\">───</span><span style=\"color: #800000; text-decoration-color: #800000; font-weight: bold\">↯</span><span style=\"color: #d2d4d9; text-decoration-color: #d2d4d9\">─</span>\n",
       "      ┗━━━┛ ┗━━━┛ ┗━━━┛ ┗━━━┛ ┗━━━┛ ┗━━━┛ ┗━━━┛   ┃     ┃     ┃     ┃     ┃     ┃     \n",
       "      ┏━━━┓                                     ┏━┻━┓ ┏━┻━┓ ┏━┻━┓ ┏━┻━┓ ┏━┻━┓ ┏━┻━┓   \n",
       "q4: <span style=\"color: #d2d4d9; text-decoration-color: #d2d4d9\">──</span>┨ <span style=\"font-weight: bold\">Z</span> ┠<span style=\"color: #d2d4d9; text-decoration-color: #d2d4d9\">─────────────────────────────────────</span>┨ <span style=\"font-weight: bold\">Z</span> ┠<span style=\"color: #d2d4d9; text-decoration-color: #d2d4d9\">─</span>┨ <span style=\"font-weight: bold\">Z</span> ┠<span style=\"color: #d2d4d9; text-decoration-color: #d2d4d9\">─</span>┨ <span style=\"font-weight: bold\">Z</span> ┠<span style=\"color: #d2d4d9; text-decoration-color: #d2d4d9\">─</span>┨ <span style=\"font-weight: bold\">Z</span> ┠<span style=\"color: #d2d4d9; text-decoration-color: #d2d4d9\">─</span>┨ <span style=\"font-weight: bold\">Z</span> ┠<span style=\"color: #d2d4d9; text-decoration-color: #d2d4d9\">─</span>┨ <span style=\"font-weight: bold\">Z</span> ┠<span style=\"color: #d2d4d9; text-decoration-color: #d2d4d9\">─</span><span style=\"color: #800000; text-decoration-color: #800000; font-weight: bold\">↯</span><span style=\"color: #d2d4d9; text-decoration-color: #d2d4d9\">─</span>\n",
       "      ┗━━━┛                                     ┗━━━┛ ┗━━━┛ ┗━━━┛ ┗━━━┛ ┗━━━┛ ┗━━━┛   \n",
       "                                                                                      \n",
       "                                                            ┏━━━┓                     \n",
       "q0: <span style=\"color: #d2d4d9; text-decoration-color: #d2d4d9\">────</span>■<span style=\"color: #d2d4d9; text-decoration-color: #d2d4d9\">───────────</span>■<span style=\"color: #d2d4d9; text-decoration-color: #d2d4d9\">───────────</span>■<span style=\"color: #d2d4d9; text-decoration-color: #d2d4d9\">───────────</span>■<span style=\"color: #d2d4d9; text-decoration-color: #d2d4d9\">───────────</span>■<span style=\"color: #d2d4d9; text-decoration-color: #d2d4d9\">───</span>┨ <span style=\"font-weight: bold\">H</span> ┠<span style=\"color: #d2d4d9; text-decoration-color: #d2d4d9\">───</span>■<span style=\"color: #d2d4d9; text-decoration-color: #d2d4d9\">─────</span>■<span style=\"color: #d2d4d9; text-decoration-color: #d2d4d9\">─────</span>■<span style=\"color: #d2d4d9; text-decoration-color: #d2d4d9\">───</span><span style=\"color: #800000; text-decoration-color: #800000; font-weight: bold\">↯</span><span style=\"color: #d2d4d9; text-decoration-color: #d2d4d9\">─</span>\n",
       "        ┃           ┃           ┃           ┃           ┃   ┗━━━┛   ┃     ┃     ┃     \n",
       "        ┃           ┃           ┃           ┃           ┃   ┏━━━┓   ┃     ┃     ┃     \n",
       "q1: <span style=\"color: #d2d4d9; text-decoration-color: #d2d4d9\">────</span>■<span style=\"color: #d2d4d9; text-decoration-color: #d2d4d9\">───────────</span>╂<span style=\"color: #d2d4d9; text-decoration-color: #d2d4d9\">─────</span>■<span style=\"color: #d2d4d9; text-decoration-color: #d2d4d9\">─────</span>■<span style=\"color: #d2d4d9; text-decoration-color: #d2d4d9\">───────────</span>╂<span style=\"color: #d2d4d9; text-decoration-color: #d2d4d9\">─────</span>■<span style=\"color: #d2d4d9; text-decoration-color: #d2d4d9\">─────</span>■<span style=\"color: #d2d4d9; text-decoration-color: #d2d4d9\">───</span>┨ <span style=\"font-weight: bold\">H</span> ┠<span style=\"color: #d2d4d9; text-decoration-color: #d2d4d9\">───</span>╂<span style=\"color: #d2d4d9; text-decoration-color: #d2d4d9\">─────</span>■<span style=\"color: #d2d4d9; text-decoration-color: #d2d4d9\">─────</span>■<span style=\"color: #d2d4d9; text-decoration-color: #d2d4d9\">───</span><span style=\"color: #800000; text-decoration-color: #800000; font-weight: bold\">↯</span><span style=\"color: #d2d4d9; text-decoration-color: #d2d4d9\">─</span>\n",
       "        ┃           ┃     ┃     ┃           ┃     ┃     ┃   ┗━━━┛   ┃     ┃     ┃     \n",
       "        ┃           ┃     ┃     ┃           ┃     ┃     ┃   ┏━━━┓ ┏━┻━┓ ┏━┻━┓   ┃     \n",
       "q2: <span style=\"color: #d2d4d9; text-decoration-color: #d2d4d9\">────</span>■<span style=\"color: #d2d4d9; text-decoration-color: #d2d4d9\">───────────</span>╂<span style=\"color: #d2d4d9; text-decoration-color: #d2d4d9\">─────</span>╂<span style=\"color: #d2d4d9; text-decoration-color: #d2d4d9\">─────</span>╂<span style=\"color: #d2d4d9; text-decoration-color: #d2d4d9\">─────</span>■<span style=\"color: #d2d4d9; text-decoration-color: #d2d4d9\">─────</span>■<span style=\"color: #d2d4d9; text-decoration-color: #d2d4d9\">─────</span>■<span style=\"color: #d2d4d9; text-decoration-color: #d2d4d9\">─────</span>■<span style=\"color: #d2d4d9; text-decoration-color: #d2d4d9\">───</span>┨ <span style=\"font-weight: bold\">H</span> ┠<span style=\"color: #d2d4d9; text-decoration-color: #d2d4d9\">─</span>┨ <span style=\"font-weight: bold\">Z</span> ┠<span style=\"color: #d2d4d9; text-decoration-color: #d2d4d9\">─</span>┨ <span style=\"font-weight: bold\">Z</span> ┠<span style=\"color: #d2d4d9; text-decoration-color: #d2d4d9\">───</span>╂<span style=\"color: #d2d4d9; text-decoration-color: #d2d4d9\">───</span><span style=\"color: #800000; text-decoration-color: #800000; font-weight: bold\">↯</span><span style=\"color: #d2d4d9; text-decoration-color: #d2d4d9\">─</span>\n",
       "        ┃           ┃     ┃     ┃     ┃     ┃     ┃     ┃   ┗━━━┛ ┗━━━┛ ┗━━━┛   ┃     \n",
       "        ┃           ┃     ┃     ┃     ┃     ┃     ┃     ┃   ┏━━━┓             ┏━┻━┓   \n",
       "q3: <span style=\"color: #d2d4d9; text-decoration-color: #d2d4d9\">────</span>╂<span style=\"color: #d2d4d9; text-decoration-color: #d2d4d9\">─────</span>■<span style=\"color: #d2d4d9; text-decoration-color: #d2d4d9\">─────</span>■<span style=\"color: #d2d4d9; text-decoration-color: #d2d4d9\">─────</span>■<span style=\"color: #d2d4d9; text-decoration-color: #d2d4d9\">─────</span>■<span style=\"color: #d2d4d9; text-decoration-color: #d2d4d9\">─────</span>■<span style=\"color: #d2d4d9; text-decoration-color: #d2d4d9\">─────</span>■<span style=\"color: #d2d4d9; text-decoration-color: #d2d4d9\">─────</span>■<span style=\"color: #d2d4d9; text-decoration-color: #d2d4d9\">─────</span>■<span style=\"color: #d2d4d9; text-decoration-color: #d2d4d9\">───</span>┨ <span style=\"font-weight: bold\">H</span> ┠<span style=\"color: #d2d4d9; text-decoration-color: #d2d4d9\">─────────────</span>┨ <span style=\"font-weight: bold\">Z</span> ┠<span style=\"color: #d2d4d9; text-decoration-color: #d2d4d9\">─</span><span style=\"color: #800000; text-decoration-color: #800000; font-weight: bold\">↯</span><span style=\"color: #d2d4d9; text-decoration-color: #d2d4d9\">─</span>\n",
       "        ┃     ┃     ┃     ┃     ┃     ┃     ┃     ┃     ┃   ┗━━━┛             ┗━━━┛   \n",
       "      ┏━┻━┓ ┏━┻━┓ ┏━┻━┓ ┏━┻━┓ ┏━┻━┓ ┏━┻━┓ ┏━┻━┓ ┏━┻━┓ ┏━┻━┓ ┏━━━┓                     \n",
       "q4: <span style=\"color: #d2d4d9; text-decoration-color: #d2d4d9\">──</span>┨ <span style=\"font-weight: bold\">Z</span> ┠<span style=\"color: #d2d4d9; text-decoration-color: #d2d4d9\">─</span>┨ <span style=\"font-weight: bold\">Z</span> ┠<span style=\"color: #d2d4d9; text-decoration-color: #d2d4d9\">─</span>┨ <span style=\"font-weight: bold\">Z</span> ┠<span style=\"color: #d2d4d9; text-decoration-color: #d2d4d9\">─</span>┨ <span style=\"font-weight: bold\">Z</span> ┠<span style=\"color: #d2d4d9; text-decoration-color: #d2d4d9\">─</span>┨ <span style=\"font-weight: bold\">Z</span> ┠<span style=\"color: #d2d4d9; text-decoration-color: #d2d4d9\">─</span>┨ <span style=\"font-weight: bold\">Z</span> ┠<span style=\"color: #d2d4d9; text-decoration-color: #d2d4d9\">─</span>┨ <span style=\"font-weight: bold\">Z</span> ┠<span style=\"color: #d2d4d9; text-decoration-color: #d2d4d9\">─</span>┨ <span style=\"font-weight: bold\">Z</span> ┠<span style=\"color: #d2d4d9; text-decoration-color: #d2d4d9\">─</span>┨ <span style=\"font-weight: bold\">Z</span> ┠<span style=\"color: #d2d4d9; text-decoration-color: #d2d4d9\">─</span>┨ <span style=\"font-weight: bold\">H</span> ┠<span style=\"color: #d2d4d9; text-decoration-color: #d2d4d9\">───────────────────</span><span style=\"color: #800000; text-decoration-color: #800000; font-weight: bold\">↯</span><span style=\"color: #d2d4d9; text-decoration-color: #d2d4d9\">─</span>\n",
       "      ┗━━━┛ ┗━━━┛ ┗━━━┛ ┗━━━┛ ┗━━━┛ ┗━━━┛ ┗━━━┛ ┗━━━┛ ┗━━━┛ ┗━━━┛                     \n",
       "                                                                                      \n",
       "                                    ┏━━━┓ ┏━━━┓                                       \n",
       "q0: <span style=\"color: #d2d4d9; text-decoration-color: #d2d4d9\">────</span>■<span style=\"color: #d2d4d9; text-decoration-color: #d2d4d9\">─────</span>■<span style=\"color: #d2d4d9; text-decoration-color: #d2d4d9\">─────</span>■<span style=\"color: #d2d4d9; text-decoration-color: #d2d4d9\">─────</span>■<span style=\"color: #d2d4d9; text-decoration-color: #d2d4d9\">─────</span>■<span style=\"color: #d2d4d9; text-decoration-color: #d2d4d9\">───</span>┨ <span style=\"font-weight: bold\">H</span> ┠<span style=\"color: #d2d4d9; text-decoration-color: #d2d4d9\">─</span>┨ <span style=\"font-weight: bold\">Z</span> ┠<span style=\"color: #d2d4d9; text-decoration-color: #d2d4d9\">───</span>■<span style=\"color: #d2d4d9; text-decoration-color: #d2d4d9\">─────</span>■<span style=\"color: #d2d4d9; text-decoration-color: #d2d4d9\">───────────</span>■<span style=\"color: #d2d4d9; text-decoration-color: #d2d4d9\">─────</span>■<span style=\"color: #d2d4d9; text-decoration-color: #d2d4d9\">─────────</span><span style=\"color: #800000; text-decoration-color: #800000; font-weight: bold\">↯</span><span style=\"color: #d2d4d9; text-decoration-color: #d2d4d9\">─</span>\n",
       "        ┃     ┃     ┃     ┃     ┃   ┗━━━┛ ┗━━━┛   ┃     ┃           ┃     ┃           \n",
       "        ┃     ┃     ┃     ┃     ┃   ┏━━━┓ ┏━━━┓ ┏━┻━┓   ┃           ┃     ┃           \n",
       "q1: <span style=\"color: #d2d4d9; text-decoration-color: #d2d4d9\">────</span>╂<span style=\"color: #d2d4d9; text-decoration-color: #d2d4d9\">─────</span>╂<span style=\"color: #d2d4d9; text-decoration-color: #d2d4d9\">─────</span>■<span style=\"color: #d2d4d9; text-decoration-color: #d2d4d9\">─────</span>■<span style=\"color: #d2d4d9; text-decoration-color: #d2d4d9\">─────</span>╂<span style=\"color: #d2d4d9; text-decoration-color: #d2d4d9\">───</span>┨ <span style=\"font-weight: bold\">H</span> ┠<span style=\"color: #d2d4d9; text-decoration-color: #d2d4d9\">─</span>┨ <span style=\"font-weight: bold\">Z</span> ┠<span style=\"color: #d2d4d9; text-decoration-color: #d2d4d9\">─</span>┨ <span style=\"font-weight: bold\">Z</span> ┠<span style=\"color: #d2d4d9; text-decoration-color: #d2d4d9\">───</span>╂<span style=\"color: #d2d4d9; text-decoration-color: #d2d4d9\">─────</span>■<span style=\"color: #d2d4d9; text-decoration-color: #d2d4d9\">─────</span>■<span style=\"color: #d2d4d9; text-decoration-color: #d2d4d9\">─────</span>╂<span style=\"color: #d2d4d9; text-decoration-color: #d2d4d9\">─────</span>■<span style=\"color: #d2d4d9; text-decoration-color: #d2d4d9\">───</span><span style=\"color: #800000; text-decoration-color: #800000; font-weight: bold\">↯</span><span style=\"color: #d2d4d9; text-decoration-color: #d2d4d9\">─</span>\n",
       "        ┃     ┃     ┃     ┃     ┃   ┗━━━┛ ┗━━━┛ ┗━━━┛   ┃     ┃     ┃     ┃     ┃     \n",
       "        ┃     ┃     ┃     ┃     ┃   ┏━━━┓ ┏━━━┓       ┏━┻━┓ ┏━┻━┓ ┏━┻━┓   ┃     ┃     \n",
       "q2: <span style=\"color: #d2d4d9; text-decoration-color: #d2d4d9\">────</span>■<span style=\"color: #d2d4d9; text-decoration-color: #d2d4d9\">─────</span>■<span style=\"color: #d2d4d9; text-decoration-color: #d2d4d9\">─────</span>■<span style=\"color: #d2d4d9; text-decoration-color: #d2d4d9\">─────</span>╂<span style=\"color: #d2d4d9; text-decoration-color: #d2d4d9\">─────</span>■<span style=\"color: #d2d4d9; text-decoration-color: #d2d4d9\">───</span>┨ <span style=\"font-weight: bold\">H</span> ┠<span style=\"color: #d2d4d9; text-decoration-color: #d2d4d9\">─</span>┨ <span style=\"font-weight: bold\">Z</span> ┠<span style=\"color: #d2d4d9; text-decoration-color: #d2d4d9\">───────</span>┨ <span style=\"font-weight: bold\">Z</span> ┠<span style=\"color: #d2d4d9; text-decoration-color: #d2d4d9\">─</span>┨ <span style=\"font-weight: bold\">Z</span> ┠<span style=\"color: #d2d4d9; text-decoration-color: #d2d4d9\">─</span>┨ <span style=\"font-weight: bold\">Z</span> ┠<span style=\"color: #d2d4d9; text-decoration-color: #d2d4d9\">───</span>╂<span style=\"color: #d2d4d9; text-decoration-color: #d2d4d9\">─────</span>╂<span style=\"color: #d2d4d9; text-decoration-color: #d2d4d9\">───</span><span style=\"color: #800000; text-decoration-color: #800000; font-weight: bold\">↯</span><span style=\"color: #d2d4d9; text-decoration-color: #d2d4d9\">─</span>\n",
       "        ┃     ┃     ┃     ┃     ┃   ┗━━━┛ ┗━━━┛       ┗━━━┛ ┗━━━┛ ┗━━━┛   ┃     ┃     \n",
       "      ┏━┻━┓   ┃     ┃     ┃     ┃   ┏━━━┓ ┏━━━┓                         ┏━┻━┓ ┏━┻━┓   \n",
       "q3: <span style=\"color: #d2d4d9; text-decoration-color: #d2d4d9\">──</span>┨ <span style=\"font-weight: bold\">Z</span> ┠<span style=\"color: #d2d4d9; text-decoration-color: #d2d4d9\">───</span>╂<span style=\"color: #d2d4d9; text-decoration-color: #d2d4d9\">─────</span>╂<span style=\"color: #d2d4d9; text-decoration-color: #d2d4d9\">─────</span>■<span style=\"color: #d2d4d9; text-decoration-color: #d2d4d9\">─────</span>■<span style=\"color: #d2d4d9; text-decoration-color: #d2d4d9\">───</span>┨ <span style=\"font-weight: bold\">H</span> ┠<span style=\"color: #d2d4d9; text-decoration-color: #d2d4d9\">─</span>┨ <span style=\"font-weight: bold\">Z</span> ┠<span style=\"color: #d2d4d9; text-decoration-color: #d2d4d9\">─────────────────────────</span>┨ <span style=\"font-weight: bold\">Z</span> ┠<span style=\"color: #d2d4d9; text-decoration-color: #d2d4d9\">─</span>┨ <span style=\"font-weight: bold\">Z</span> ┠<span style=\"color: #d2d4d9; text-decoration-color: #d2d4d9\">─</span><span style=\"color: #800000; text-decoration-color: #800000; font-weight: bold\">↯</span><span style=\"color: #d2d4d9; text-decoration-color: #d2d4d9\">─</span>\n",
       "      ┗━━━┛   ┃     ┃     ┃     ┃   ┗━━━┛ ┗━━━┛                         ┗━━━┛ ┗━━━┛   \n",
       "            ┏━┻━┓ ┏━┻━┓ ┏━┻━┓ ┏━┻━┓ ┏━━━┓                                             \n",
       "q4: <span style=\"color: #d2d4d9; text-decoration-color: #d2d4d9\">────────</span>┨ <span style=\"font-weight: bold\">Z</span> ┠<span style=\"color: #d2d4d9; text-decoration-color: #d2d4d9\">─</span>┨ <span style=\"font-weight: bold\">Z</span> ┠<span style=\"color: #d2d4d9; text-decoration-color: #d2d4d9\">─</span>┨ <span style=\"font-weight: bold\">Z</span> ┠<span style=\"color: #d2d4d9; text-decoration-color: #d2d4d9\">─</span>┨ <span style=\"font-weight: bold\">Z</span> ┠<span style=\"color: #d2d4d9; text-decoration-color: #d2d4d9\">─</span>┨ <span style=\"font-weight: bold\">H</span> ┠<span style=\"color: #d2d4d9; text-decoration-color: #d2d4d9\">───────────────────────────────────────────</span><span style=\"color: #800000; text-decoration-color: #800000; font-weight: bold\">↯</span><span style=\"color: #d2d4d9; text-decoration-color: #d2d4d9\">─</span>\n",
       "            ┗━━━┛ ┗━━━┛ ┗━━━┛ ┗━━━┛ ┗━━━┛                                             \n",
       "                                                                                      \n",
       "q0: <span style=\"color: #d2d4d9; text-decoration-color: #d2d4d9\">────</span>■<span style=\"color: #d2d4d9; text-decoration-color: #d2d4d9\">───────────</span>■<span style=\"color: #d2d4d9; text-decoration-color: #d2d4d9\">───────────</span>■<span style=\"color: #d2d4d9; text-decoration-color: #d2d4d9\">─────</span>■<span style=\"color: #d2d4d9; text-decoration-color: #d2d4d9\">───────────</span>■<span style=\"color: #d2d4d9; text-decoration-color: #d2d4d9\">───────────</span>■<span style=\"color: #d2d4d9; text-decoration-color: #d2d4d9\">───────────</span>■<span style=\"color: #d2d4d9; text-decoration-color: #d2d4d9\">─────────</span><span style=\"color: #800000; text-decoration-color: #800000; font-weight: bold\">↯</span><span style=\"color: #d2d4d9; text-decoration-color: #d2d4d9\">─</span>\n",
       "        ┃           ┃           ┃     ┃           ┃           ┃           ┃           \n",
       "        ┃           ┃           ┃     ┃           ┃           ┃           ┃           \n",
       "q1: <span style=\"color: #d2d4d9; text-decoration-color: #d2d4d9\">────</span>■<span style=\"color: #d2d4d9; text-decoration-color: #d2d4d9\">───────────</span>╂<span style=\"color: #d2d4d9; text-decoration-color: #d2d4d9\">─────</span>■<span style=\"color: #d2d4d9; text-decoration-color: #d2d4d9\">─────</span>■<span style=\"color: #d2d4d9; text-decoration-color: #d2d4d9\">─────</span>╂<span style=\"color: #d2d4d9; text-decoration-color: #d2d4d9\">─────</span>■<span style=\"color: #d2d4d9; text-decoration-color: #d2d4d9\">─────</span>■<span style=\"color: #d2d4d9; text-decoration-color: #d2d4d9\">───────────</span>╂<span style=\"color: #d2d4d9; text-decoration-color: #d2d4d9\">─────</span>■<span style=\"color: #d2d4d9; text-decoration-color: #d2d4d9\">─────</span>■<span style=\"color: #d2d4d9; text-decoration-color: #d2d4d9\">─────────</span><span style=\"color: #800000; text-decoration-color: #800000; font-weight: bold\">↯</span><span style=\"color: #d2d4d9; text-decoration-color: #d2d4d9\">─</span>\n",
       "        ┃           ┃     ┃     ┃     ┃     ┃     ┃           ┃     ┃     ┃           \n",
       "        ┃           ┃     ┃     ┃     ┃     ┃     ┃           ┃     ┃     ┃           \n",
       "q2: <span style=\"color: #d2d4d9; text-decoration-color: #d2d4d9\">────</span>╂<span style=\"color: #d2d4d9; text-decoration-color: #d2d4d9\">─────</span>■<span style=\"color: #d2d4d9; text-decoration-color: #d2d4d9\">─────</span>■<span style=\"color: #d2d4d9; text-decoration-color: #d2d4d9\">─────</span>■<span style=\"color: #d2d4d9; text-decoration-color: #d2d4d9\">─────</span>■<span style=\"color: #d2d4d9; text-decoration-color: #d2d4d9\">─────</span>╂<span style=\"color: #d2d4d9; text-decoration-color: #d2d4d9\">─────</span>╂<span style=\"color: #d2d4d9; text-decoration-color: #d2d4d9\">─────</span>╂<span style=\"color: #d2d4d9; text-decoration-color: #d2d4d9\">─────</span>■<span style=\"color: #d2d4d9; text-decoration-color: #d2d4d9\">─────</span>■<span style=\"color: #d2d4d9; text-decoration-color: #d2d4d9\">─────</span>■<span style=\"color: #d2d4d9; text-decoration-color: #d2d4d9\">─────</span>■<span style=\"color: #d2d4d9; text-decoration-color: #d2d4d9\">─────────</span><span style=\"color: #800000; text-decoration-color: #800000; font-weight: bold\">↯</span><span style=\"color: #d2d4d9; text-decoration-color: #d2d4d9\">─</span>\n",
       "        ┃     ┃     ┃     ┃     ┃     ┃     ┃     ┃     ┃     ┃     ┃     ┃           \n",
       "      ┏━┻━┓ ┏━┻━┓ ┏━┻━┓ ┏━┻━┓ ┏━┻━┓   ┃     ┃     ┃     ┃     ┃     ┃     ┃           \n",
       "q3: <span style=\"color: #d2d4d9; text-decoration-color: #d2d4d9\">──</span>┨ <span style=\"font-weight: bold\">Z</span> ┠<span style=\"color: #d2d4d9; text-decoration-color: #d2d4d9\">─</span>┨ <span style=\"font-weight: bold\">Z</span> ┠<span style=\"color: #d2d4d9; text-decoration-color: #d2d4d9\">─</span>┨ <span style=\"font-weight: bold\">Z</span> ┠<span style=\"color: #d2d4d9; text-decoration-color: #d2d4d9\">─</span>┨ <span style=\"font-weight: bold\">Z</span> ┠<span style=\"color: #d2d4d9; text-decoration-color: #d2d4d9\">─</span>┨ <span style=\"font-weight: bold\">Z</span> ┠<span style=\"color: #d2d4d9; text-decoration-color: #d2d4d9\">───</span>╂<span style=\"color: #d2d4d9; text-decoration-color: #d2d4d9\">─────</span>╂<span style=\"color: #d2d4d9; text-decoration-color: #d2d4d9\">─────</span>╂<span style=\"color: #d2d4d9; text-decoration-color: #d2d4d9\">─────</span>╂<span style=\"color: #d2d4d9; text-decoration-color: #d2d4d9\">─────</span>╂<span style=\"color: #d2d4d9; text-decoration-color: #d2d4d9\">─────</span>╂<span style=\"color: #d2d4d9; text-decoration-color: #d2d4d9\">─────</span>╂<span style=\"color: #d2d4d9; text-decoration-color: #d2d4d9\">─────</span>■<span style=\"color: #d2d4d9; text-decoration-color: #d2d4d9\">───</span><span style=\"color: #800000; text-decoration-color: #800000; font-weight: bold\">↯</span><span style=\"color: #d2d4d9; text-decoration-color: #d2d4d9\">─</span>\n",
       "      ┗━━━┛ ┗━━━┛ ┗━━━┛ ┗━━━┛ ┗━━━┛   ┃     ┃     ┃     ┃     ┃     ┃     ┃     ┃     \n",
       "      ┏━━━┓                         ┏━┻━┓ ┏━┻━┓ ┏━┻━┓ ┏━┻━┓ ┏━┻━┓ ┏━┻━┓ ┏━┻━┓ ┏━┻━┓   \n",
       "q4: <span style=\"color: #d2d4d9; text-decoration-color: #d2d4d9\">──</span>┨ <span style=\"font-weight: bold\">Z</span> ┠<span style=\"color: #d2d4d9; text-decoration-color: #d2d4d9\">─────────────────────────</span>┨ <span style=\"font-weight: bold\">Z</span> ┠<span style=\"color: #d2d4d9; text-decoration-color: #d2d4d9\">─</span>┨ <span style=\"font-weight: bold\">Z</span> ┠<span style=\"color: #d2d4d9; text-decoration-color: #d2d4d9\">─</span>┨ <span style=\"font-weight: bold\">Z</span> ┠<span style=\"color: #d2d4d9; text-decoration-color: #d2d4d9\">─</span>┨ <span style=\"font-weight: bold\">Z</span> ┠<span style=\"color: #d2d4d9; text-decoration-color: #d2d4d9\">─</span>┨ <span style=\"font-weight: bold\">Z</span> ┠<span style=\"color: #d2d4d9; text-decoration-color: #d2d4d9\">─</span>┨ <span style=\"font-weight: bold\">Z</span> ┠<span style=\"color: #d2d4d9; text-decoration-color: #d2d4d9\">─</span>┨ <span style=\"font-weight: bold\">Z</span> ┠<span style=\"color: #d2d4d9; text-decoration-color: #d2d4d9\">─</span>┨ <span style=\"font-weight: bold\">Z</span> ┠<span style=\"color: #d2d4d9; text-decoration-color: #d2d4d9\">─</span><span style=\"color: #800000; text-decoration-color: #800000; font-weight: bold\">↯</span><span style=\"color: #d2d4d9; text-decoration-color: #d2d4d9\">─</span>\n",
       "      ┗━━━┛                         ┗━━━┛ ┗━━━┛ ┗━━━┛ ┗━━━┛ ┗━━━┛ ┗━━━┛ ┗━━━┛ ┗━━━┛   \n",
       "                                                                                      \n",
       "                                                ┏━━━┓                                 \n",
       "q0: <span style=\"color: #d2d4d9; text-decoration-color: #d2d4d9\">────</span>■<span style=\"color: #d2d4d9; text-decoration-color: #d2d4d9\">───────────</span>■<span style=\"color: #d2d4d9; text-decoration-color: #d2d4d9\">───────────</span>■<span style=\"color: #d2d4d9; text-decoration-color: #d2d4d9\">───────────</span>■<span style=\"color: #d2d4d9; text-decoration-color: #d2d4d9\">───</span>┨ <span style=\"font-weight: bold\">H</span> ┠<span style=\"color: #d2d4d9; text-decoration-color: #d2d4d9\">───</span>                              \n",
       "        ┃           ┃           ┃           ┃   ┗━━━┛                                 \n",
       "        ┃           ┃           ┃           ┃   ┏━━━┓                                 \n",
       "q1: <span style=\"color: #d2d4d9; text-decoration-color: #d2d4d9\">────</span>╂<span style=\"color: #d2d4d9; text-decoration-color: #d2d4d9\">─────</span>■<span style=\"color: #d2d4d9; text-decoration-color: #d2d4d9\">─────</span>■<span style=\"color: #d2d4d9; text-decoration-color: #d2d4d9\">───────────</span>╂<span style=\"color: #d2d4d9; text-decoration-color: #d2d4d9\">─────</span>■<span style=\"color: #d2d4d9; text-decoration-color: #d2d4d9\">─────</span>■<span style=\"color: #d2d4d9; text-decoration-color: #d2d4d9\">───</span>┨ <span style=\"font-weight: bold\">H</span> ┠<span style=\"color: #d2d4d9; text-decoration-color: #d2d4d9\">───</span>                              \n",
       "        ┃     ┃     ┃           ┃     ┃     ┃   ┗━━━┛                                 \n",
       "        ┃     ┃     ┃           ┃     ┃     ┃   ┏━━━┓                                 \n",
       "q2: <span style=\"color: #d2d4d9; text-decoration-color: #d2d4d9\">────</span>╂<span style=\"color: #d2d4d9; text-decoration-color: #d2d4d9\">─────</span>╂<span style=\"color: #d2d4d9; text-decoration-color: #d2d4d9\">─────</span>╂<span style=\"color: #d2d4d9; text-decoration-color: #d2d4d9\">─────</span>■<span style=\"color: #d2d4d9; text-decoration-color: #d2d4d9\">─────</span>■<span style=\"color: #d2d4d9; text-decoration-color: #d2d4d9\">─────</span>■<span style=\"color: #d2d4d9; text-decoration-color: #d2d4d9\">─────</span>■<span style=\"color: #d2d4d9; text-decoration-color: #d2d4d9\">───</span>┨ <span style=\"font-weight: bold\">H</span> ┠<span style=\"color: #d2d4d9; text-decoration-color: #d2d4d9\">───</span>                              \n",
       "        ┃     ┃     ┃     ┃     ┃     ┃     ┃   ┗━━━┛                                 \n",
       "        ┃     ┃     ┃     ┃     ┃     ┃     ┃   ┏━━━┓                                 \n",
       "q3: <span style=\"color: #d2d4d9; text-decoration-color: #d2d4d9\">────</span>■<span style=\"color: #d2d4d9; text-decoration-color: #d2d4d9\">─────</span>■<span style=\"color: #d2d4d9; text-decoration-color: #d2d4d9\">─────</span>■<span style=\"color: #d2d4d9; text-decoration-color: #d2d4d9\">─────</span>■<span style=\"color: #d2d4d9; text-decoration-color: #d2d4d9\">─────</span>■<span style=\"color: #d2d4d9; text-decoration-color: #d2d4d9\">─────</span>■<span style=\"color: #d2d4d9; text-decoration-color: #d2d4d9\">─────</span>■<span style=\"color: #d2d4d9; text-decoration-color: #d2d4d9\">───</span>┨ <span style=\"font-weight: bold\">H</span> ┠<span style=\"color: #d2d4d9; text-decoration-color: #d2d4d9\">───</span>                              \n",
       "        ┃     ┃     ┃     ┃     ┃     ┃     ┃   ┗━━━┛                                 \n",
       "      ┏━┻━┓ ┏━┻━┓ ┏━┻━┓ ┏━┻━┓ ┏━┻━┓ ┏━┻━┓ ┏━┻━┓ ┏━━━┓                                 \n",
       "q4: <span style=\"color: #d2d4d9; text-decoration-color: #d2d4d9\">──</span>┨ <span style=\"font-weight: bold\">Z</span> ┠<span style=\"color: #d2d4d9; text-decoration-color: #d2d4d9\">─</span>┨ <span style=\"font-weight: bold\">Z</span> ┠<span style=\"color: #d2d4d9; text-decoration-color: #d2d4d9\">─</span>┨ <span style=\"font-weight: bold\">Z</span> ┠<span style=\"color: #d2d4d9; text-decoration-color: #d2d4d9\">─</span>┨ <span style=\"font-weight: bold\">Z</span> ┠<span style=\"color: #d2d4d9; text-decoration-color: #d2d4d9\">─</span>┨ <span style=\"font-weight: bold\">Z</span> ┠<span style=\"color: #d2d4d9; text-decoration-color: #d2d4d9\">─</span>┨ <span style=\"font-weight: bold\">Z</span> ┠<span style=\"color: #d2d4d9; text-decoration-color: #d2d4d9\">─</span>┨ <span style=\"font-weight: bold\">Z</span> ┠<span style=\"color: #d2d4d9; text-decoration-color: #d2d4d9\">─</span>┨ <span style=\"font-weight: bold\">H</span> ┠<span style=\"color: #d2d4d9; text-decoration-color: #d2d4d9\">───</span>                              \n",
       "      ┗━━━┛ ┗━━━┛ ┗━━━┛ ┗━━━┛ ┗━━━┛ ┗━━━┛ ┗━━━┛ ┗━━━┛                                 \n",
       "</pre>\n"
      ],
      "text/plain": [
       "      ┏━━━┓                                                 ┏━━━┓ ┏━━━┓               \n",
       "q0: ──┨ H ┠───■─────■─────■─────■─────■─────■─────■─────■───┨ H ┠─┨ Z ┠───■─────■───[red bold]↯[/]─\n",
       "      ┗━━━┛   ┃     ┃     ┃     ┃     ┃     ┃     ┃     ┃   ┗━━━┛ ┗━━━┛   ┃     ┃     \n",
       "      ┏━━━┓   ┃     ┃     ┃     ┃     ┃     ┃     ┃     ┃   ┏━━━┓ ┏━━━┓ ┏━┻━┓   ┃     \n",
       "q1: ──┨ H ┠───╂─────■─────■─────╂─────╂─────■─────■─────╂───┨ H ┠─┨ Z ┠─┨ Z ┠───╂───[red bold]↯[/]─\n",
       "      ┗━━━┛   ┃     ┃     ┃     ┃     ┃     ┃     ┃     ┃   ┗━━━┛ ┗━━━┛ ┗━━━┛   ┃     \n",
       "      ┏━━━┓ ┏━┻━┓ ┏━┻━┓   ┃     ┃     ┃     ┃     ┃     ┃   ┏━━━┓ ┏━━━┓       ┏━┻━┓   \n",
       "q2: ──┨ H ┠─┨ Z ┠─┨ Z ┠───╂─────■─────■─────■─────╂─────■───┨ H ┠─┨ Z ┠───────┨ Z ┠─[red bold]↯[/]─\n",
       "      ┗━━━┛ ┗━━━┛ ┗━━━┛   ┃     ┃     ┃     ┃     ┃     ┃   ┗━━━┛ ┗━━━┛       ┗━━━┛   \n",
       "      ┏━━━┓             ┏━┻━┓ ┏━┻━┓   ┃     ┃     ┃     ┃   ┏━━━┓                     \n",
       "q3: ──┨ H ┠─────────────┨ Z ┠─┨ Z ┠───╂─────╂─────■─────■───┨ H ┠───────────────────[red bold]↯[/]─\n",
       "      ┗━━━┛             ┗━━━┛ ┗━━━┛   ┃     ┃     ┃     ┃   ┗━━━┛                     \n",
       "      ┏━━━┓                         ┏━┻━┓ ┏━┻━┓ ┏━┻━┓ ┏━┻━┓ ┏━━━┓                     \n",
       "q4: ──┨ H ┠─────────────────────────┨ Z ┠─┨ Z ┠─┨ Z ┠─┨ Z ┠─┨ H ┠───────────────────[red bold]↯[/]─\n",
       "      ┗━━━┛                         ┗━━━┛ ┗━━━┛ ┗━━━┛ ┗━━━┛ ┗━━━┛                     \n",
       "                                                                                      \n",
       "q0: ──────────■─────■───────────■───────────■───────────■─────■───────────■─────────[red bold]↯[/]─\n",
       "              ┃     ┃           ┃           ┃           ┃     ┃           ┃           \n",
       "              ┃     ┃           ┃           ┃           ┃     ┃           ┃           \n",
       "q1: ────■─────■─────╂─────■─────■───────────╂─────■─────■─────╂─────■─────■─────────[red bold]↯[/]─\n",
       "        ┃     ┃     ┃     ┃     ┃           ┃     ┃     ┃     ┃     ┃     ┃           \n",
       "      ┏━┻━┓ ┏━┻━┓   ┃     ┃     ┃           ┃     ┃     ┃     ┃     ┃     ┃           \n",
       "q2: ──┨ Z ┠─┨ Z ┠───╂─────╂─────╂─────■─────■─────■─────■─────╂─────╂─────╂─────■───[red bold]↯[/]─\n",
       "      ┗━━━┛ ┗━━━┛   ┃     ┃     ┃     ┃     ┃     ┃     ┃     ┃     ┃     ┃     ┃     \n",
       "      ┏━━━┓       ┏━┻━┓ ┏━┻━┓ ┏━┻━┓ ┏━┻━┓ ┏━┻━┓ ┏━┻━┓ ┏━┻━┓   ┃     ┃     ┃     ┃     \n",
       "q3: ──┨ Z ┠───────┨ Z ┠─┨ Z ┠─┨ Z ┠─┨ Z ┠─┨ Z ┠─┨ Z ┠─┨ Z ┠───╂─────╂─────╂─────╂───[red bold]↯[/]─\n",
       "      ┗━━━┛       ┗━━━┛ ┗━━━┛ ┗━━━┛ ┗━━━┛ ┗━━━┛ ┗━━━┛ ┗━━━┛   ┃     ┃     ┃     ┃     \n",
       "      ┏━━━┓                                                 ┏━┻━┓ ┏━┻━┓ ┏━┻━┓ ┏━┻━┓   \n",
       "q4: ──┨ Z ┠─────────────────────────────────────────────────┨ Z ┠─┨ Z ┠─┨ Z ┠─┨ Z ┠─[red bold]↯[/]─\n",
       "      ┗━━━┛                                                 ┗━━━┛ ┗━━━┛ ┗━━━┛ ┗━━━┛   \n",
       "                                                                                      \n",
       "                                                                        ┏━━━┓         \n",
       "q0: ────■───────────■───────────■───────────■───────────■───────────■───┨ H ┠───■───[red bold]↯[/]─\n",
       "        ┃           ┃           ┃           ┃           ┃           ┃   ┗━━━┛   ┃     \n",
       "        ┃           ┃           ┃           ┃           ┃           ┃   ┏━━━┓   ┃     \n",
       "q1: ────╂─────■─────■───────────╂─────■─────■───────────╂─────■─────■───┨ H ┠───╂───[red bold]↯[/]─\n",
       "        ┃     ┃     ┃           ┃     ┃     ┃           ┃     ┃     ┃   ┗━━━┛   ┃     \n",
       "        ┃     ┃     ┃           ┃     ┃     ┃           ┃     ┃     ┃   ┏━━━┓ ┏━┻━┓   \n",
       "q2: ────■─────■─────■───────────╂─────╂─────╂─────■─────■─────■─────■───┨ H ┠─┨ Z ┠─[red bold]↯[/]─\n",
       "        ┃     ┃     ┃           ┃     ┃     ┃     ┃     ┃     ┃     ┃   ┗━━━┛ ┗━━━┛   \n",
       "        ┃     ┃     ┃           ┃     ┃     ┃     ┃     ┃     ┃     ┃   ┏━━━┓         \n",
       "q3: ────╂─────╂─────╂─────■─────■─────■─────■─────■─────■─────■─────■───┨ H ┠───────[red bold]↯[/]─\n",
       "        ┃     ┃     ┃     ┃     ┃     ┃     ┃     ┃     ┃     ┃     ┃   ┗━━━┛         \n",
       "      ┏━┻━┓ ┏━┻━┓ ┏━┻━┓ ┏━┻━┓ ┏━┻━┓ ┏━┻━┓ ┏━┻━┓ ┏━┻━┓ ┏━┻━┓ ┏━┻━┓ ┏━┻━┓ ┏━━━┓         \n",
       "q4: ──┨ Z ┠─┨ Z ┠─┨ Z ┠─┨ Z ┠─┨ Z ┠─┨ Z ┠─┨ Z ┠─┨ Z ┠─┨ Z ┠─┨ Z ┠─┨ Z ┠─┨ H ┠───────[red bold]↯[/]─\n",
       "      ┗━━━┛ ┗━━━┛ ┗━━━┛ ┗━━━┛ ┗━━━┛ ┗━━━┛ ┗━━━┛ ┗━━━┛ ┗━━━┛ ┗━━━┛ ┗━━━┛ ┗━━━┛         \n",
       "                                                                                      \n",
       "                                                ┏━━━┓ ┏━━━┓                           \n",
       "q0: ────■─────■─────■─────■─────■─────■─────■───┨ H ┠─┨ Z ┠───■─────■───────────■───[red bold]↯[/]─\n",
       "        ┃     ┃     ┃     ┃     ┃     ┃     ┃   ┗━━━┛ ┗━━━┛   ┃     ┃           ┃     \n",
       "        ┃     ┃     ┃     ┃     ┃     ┃     ┃   ┏━━━┓ ┏━━━┓ ┏━┻━┓   ┃           ┃     \n",
       "q1: ────■─────■─────╂─────╂─────■─────■─────╂───┨ H ┠─┨ Z ┠─┨ Z ┠───╂─────■─────■───[red bold]↯[/]─\n",
       "        ┃     ┃     ┃     ┃     ┃     ┃     ┃   ┗━━━┛ ┗━━━┛ ┗━━━┛   ┃     ┃     ┃     \n",
       "      ┏━┻━┓   ┃     ┃     ┃     ┃     ┃     ┃   ┏━━━┓ ┏━━━┓       ┏━┻━┓ ┏━┻━┓ ┏━┻━┓   \n",
       "q2: ──┨ Z ┠───╂─────■─────■─────■─────╂─────■───┨ H ┠─┨ Z ┠───────┨ Z ┠─┨ Z ┠─┨ Z ┠─[red bold]↯[/]─\n",
       "      ┗━━━┛   ┃     ┃     ┃     ┃     ┃     ┃   ┗━━━┛ ┗━━━┛       ┗━━━┛ ┗━━━┛ ┗━━━┛   \n",
       "            ┏━┻━┓ ┏━┻━┓   ┃     ┃     ┃     ┃   ┏━━━┓ ┏━━━┓                           \n",
       "q3: ────────┨ Z ┠─┨ Z ┠───╂─────╂─────■─────■───┨ H ┠─┨ Z ┠─────────────────────────[red bold]↯[/]─\n",
       "            ┗━━━┛ ┗━━━┛   ┃     ┃     ┃     ┃   ┗━━━┛ ┗━━━┛                           \n",
       "                        ┏━┻━┓ ┏━┻━┓ ┏━┻━┓ ┏━┻━┓ ┏━━━┓                                 \n",
       "q4: ────────────────────┨ Z ┠─┨ Z ┠─┨ Z ┠─┨ Z ┠─┨ H ┠───────────────────────────────[red bold]↯[/]─\n",
       "                        ┗━━━┛ ┗━━━┛ ┗━━━┛ ┗━━━┛ ┗━━━┛                                 \n",
       "                                                                                      \n",
       "q0: ────■───────────■───────────■───────────■─────■───────────■───────────■─────────[red bold]↯[/]─\n",
       "        ┃           ┃           ┃           ┃     ┃           ┃           ┃           \n",
       "        ┃           ┃           ┃           ┃     ┃           ┃           ┃           \n",
       "q1: ────╂─────■─────■───────────╂─────■─────■─────╂─────■─────■───────────╂─────■───[red bold]↯[/]─\n",
       "        ┃     ┃     ┃           ┃     ┃     ┃     ┃     ┃     ┃           ┃     ┃     \n",
       "        ┃     ┃     ┃           ┃     ┃     ┃     ┃     ┃     ┃           ┃     ┃     \n",
       "q2: ────╂─────╂─────╂─────■─────■─────■─────■─────╂─────╂─────╂─────■─────■─────■───[red bold]↯[/]─\n",
       "        ┃     ┃     ┃     ┃     ┃     ┃     ┃     ┃     ┃     ┃     ┃     ┃     ┃     \n",
       "      ┏━┻━┓ ┏━┻━┓ ┏━┻━┓ ┏━┻━┓ ┏━┻━┓ ┏━┻━┓ ┏━┻━┓   ┃     ┃     ┃     ┃     ┃     ┃     \n",
       "q3: ──┨ Z ┠─┨ Z ┠─┨ Z ┠─┨ Z ┠─┨ Z ┠─┨ Z ┠─┨ Z ┠───╂─────╂─────╂─────╂─────╂─────╂───[red bold]↯[/]─\n",
       "      ┗━━━┛ ┗━━━┛ ┗━━━┛ ┗━━━┛ ┗━━━┛ ┗━━━┛ ┗━━━┛   ┃     ┃     ┃     ┃     ┃     ┃     \n",
       "      ┏━━━┓                                     ┏━┻━┓ ┏━┻━┓ ┏━┻━┓ ┏━┻━┓ ┏━┻━┓ ┏━┻━┓   \n",
       "q4: ──┨ Z ┠─────────────────────────────────────┨ Z ┠─┨ Z ┠─┨ Z ┠─┨ Z ┠─┨ Z ┠─┨ Z ┠─[red bold]↯[/]─\n",
       "      ┗━━━┛                                     ┗━━━┛ ┗━━━┛ ┗━━━┛ ┗━━━┛ ┗━━━┛ ┗━━━┛   \n",
       "                                                                                      \n",
       "                                                            ┏━━━┓                     \n",
       "q0: ────■───────────■───────────■───────────■───────────■───┨ H ┠───■─────■─────■───[red bold]↯[/]─\n",
       "        ┃           ┃           ┃           ┃           ┃   ┗━━━┛   ┃     ┃     ┃     \n",
       "        ┃           ┃           ┃           ┃           ┃   ┏━━━┓   ┃     ┃     ┃     \n",
       "q1: ────■───────────╂─────■─────■───────────╂─────■─────■───┨ H ┠───╂─────■─────■───[red bold]↯[/]─\n",
       "        ┃           ┃     ┃     ┃           ┃     ┃     ┃   ┗━━━┛   ┃     ┃     ┃     \n",
       "        ┃           ┃     ┃     ┃           ┃     ┃     ┃   ┏━━━┓ ┏━┻━┓ ┏━┻━┓   ┃     \n",
       "q2: ────■───────────╂─────╂─────╂─────■─────■─────■─────■───┨ H ┠─┨ Z ┠─┨ Z ┠───╂───[red bold]↯[/]─\n",
       "        ┃           ┃     ┃     ┃     ┃     ┃     ┃     ┃   ┗━━━┛ ┗━━━┛ ┗━━━┛   ┃     \n",
       "        ┃           ┃     ┃     ┃     ┃     ┃     ┃     ┃   ┏━━━┓             ┏━┻━┓   \n",
       "q3: ────╂─────■─────■─────■─────■─────■─────■─────■─────■───┨ H ┠─────────────┨ Z ┠─[red bold]↯[/]─\n",
       "        ┃     ┃     ┃     ┃     ┃     ┃     ┃     ┃     ┃   ┗━━━┛             ┗━━━┛   \n",
       "      ┏━┻━┓ ┏━┻━┓ ┏━┻━┓ ┏━┻━┓ ┏━┻━┓ ┏━┻━┓ ┏━┻━┓ ┏━┻━┓ ┏━┻━┓ ┏━━━┓                     \n",
       "q4: ──┨ Z ┠─┨ Z ┠─┨ Z ┠─┨ Z ┠─┨ Z ┠─┨ Z ┠─┨ Z ┠─┨ Z ┠─┨ Z ┠─┨ H ┠───────────────────[red bold]↯[/]─\n",
       "      ┗━━━┛ ┗━━━┛ ┗━━━┛ ┗━━━┛ ┗━━━┛ ┗━━━┛ ┗━━━┛ ┗━━━┛ ┗━━━┛ ┗━━━┛                     \n",
       "                                                                                      \n",
       "                                    ┏━━━┓ ┏━━━┓                                       \n",
       "q0: ────■─────■─────■─────■─────■───┨ H ┠─┨ Z ┠───■─────■───────────■─────■─────────[red bold]↯[/]─\n",
       "        ┃     ┃     ┃     ┃     ┃   ┗━━━┛ ┗━━━┛   ┃     ┃           ┃     ┃           \n",
       "        ┃     ┃     ┃     ┃     ┃   ┏━━━┓ ┏━━━┓ ┏━┻━┓   ┃           ┃     ┃           \n",
       "q1: ────╂─────╂─────■─────■─────╂───┨ H ┠─┨ Z ┠─┨ Z ┠───╂─────■─────■─────╂─────■───[red bold]↯[/]─\n",
       "        ┃     ┃     ┃     ┃     ┃   ┗━━━┛ ┗━━━┛ ┗━━━┛   ┃     ┃     ┃     ┃     ┃     \n",
       "        ┃     ┃     ┃     ┃     ┃   ┏━━━┓ ┏━━━┓       ┏━┻━┓ ┏━┻━┓ ┏━┻━┓   ┃     ┃     \n",
       "q2: ────■─────■─────■─────╂─────■───┨ H ┠─┨ Z ┠───────┨ Z ┠─┨ Z ┠─┨ Z ┠───╂─────╂───[red bold]↯[/]─\n",
       "        ┃     ┃     ┃     ┃     ┃   ┗━━━┛ ┗━━━┛       ┗━━━┛ ┗━━━┛ ┗━━━┛   ┃     ┃     \n",
       "      ┏━┻━┓   ┃     ┃     ┃     ┃   ┏━━━┓ ┏━━━┓                         ┏━┻━┓ ┏━┻━┓   \n",
       "q3: ──┨ Z ┠───╂─────╂─────■─────■───┨ H ┠─┨ Z ┠─────────────────────────┨ Z ┠─┨ Z ┠─[red bold]↯[/]─\n",
       "      ┗━━━┛   ┃     ┃     ┃     ┃   ┗━━━┛ ┗━━━┛                         ┗━━━┛ ┗━━━┛   \n",
       "            ┏━┻━┓ ┏━┻━┓ ┏━┻━┓ ┏━┻━┓ ┏━━━┓                                             \n",
       "q4: ────────┨ Z ┠─┨ Z ┠─┨ Z ┠─┨ Z ┠─┨ H ┠───────────────────────────────────────────[red bold]↯[/]─\n",
       "            ┗━━━┛ ┗━━━┛ ┗━━━┛ ┗━━━┛ ┗━━━┛                                             \n",
       "                                                                                      \n",
       "q0: ────■───────────■───────────■─────■───────────■───────────■───────────■─────────[red bold]↯[/]─\n",
       "        ┃           ┃           ┃     ┃           ┃           ┃           ┃           \n",
       "        ┃           ┃           ┃     ┃           ┃           ┃           ┃           \n",
       "q1: ────■───────────╂─────■─────■─────╂─────■─────■───────────╂─────■─────■─────────[red bold]↯[/]─\n",
       "        ┃           ┃     ┃     ┃     ┃     ┃     ┃           ┃     ┃     ┃           \n",
       "        ┃           ┃     ┃     ┃     ┃     ┃     ┃           ┃     ┃     ┃           \n",
       "q2: ────╂─────■─────■─────■─────■─────╂─────╂─────╂─────■─────■─────■─────■─────────[red bold]↯[/]─\n",
       "        ┃     ┃     ┃     ┃     ┃     ┃     ┃     ┃     ┃     ┃     ┃     ┃           \n",
       "      ┏━┻━┓ ┏━┻━┓ ┏━┻━┓ ┏━┻━┓ ┏━┻━┓   ┃     ┃     ┃     ┃     ┃     ┃     ┃           \n",
       "q3: ──┨ Z ┠─┨ Z ┠─┨ Z ┠─┨ Z ┠─┨ Z ┠───╂─────╂─────╂─────╂─────╂─────╂─────╂─────■───[red bold]↯[/]─\n",
       "      ┗━━━┛ ┗━━━┛ ┗━━━┛ ┗━━━┛ ┗━━━┛   ┃     ┃     ┃     ┃     ┃     ┃     ┃     ┃     \n",
       "      ┏━━━┓                         ┏━┻━┓ ┏━┻━┓ ┏━┻━┓ ┏━┻━┓ ┏━┻━┓ ┏━┻━┓ ┏━┻━┓ ┏━┻━┓   \n",
       "q4: ──┨ Z ┠─────────────────────────┨ Z ┠─┨ Z ┠─┨ Z ┠─┨ Z ┠─┨ Z ┠─┨ Z ┠─┨ Z ┠─┨ Z ┠─[red bold]↯[/]─\n",
       "      ┗━━━┛                         ┗━━━┛ ┗━━━┛ ┗━━━┛ ┗━━━┛ ┗━━━┛ ┗━━━┛ ┗━━━┛ ┗━━━┛   \n",
       "                                                                                      \n",
       "                                                ┏━━━┓                                 \n",
       "q0: ────■───────────■───────────■───────────■───┨ H ┠───                              \n",
       "        ┃           ┃           ┃           ┃   ┗━━━┛                                 \n",
       "        ┃           ┃           ┃           ┃   ┏━━━┓                                 \n",
       "q1: ────╂─────■─────■───────────╂─────■─────■───┨ H ┠───                              \n",
       "        ┃     ┃     ┃           ┃     ┃     ┃   ┗━━━┛                                 \n",
       "        ┃     ┃     ┃           ┃     ┃     ┃   ┏━━━┓                                 \n",
       "q2: ────╂─────╂─────╂─────■─────■─────■─────■───┨ H ┠───                              \n",
       "        ┃     ┃     ┃     ┃     ┃     ┃     ┃   ┗━━━┛                                 \n",
       "        ┃     ┃     ┃     ┃     ┃     ┃     ┃   ┏━━━┓                                 \n",
       "q3: ────■─────■─────■─────■─────■─────■─────■───┨ H ┠───                              \n",
       "        ┃     ┃     ┃     ┃     ┃     ┃     ┃   ┗━━━┛                                 \n",
       "      ┏━┻━┓ ┏━┻━┓ ┏━┻━┓ ┏━┻━┓ ┏━┻━┓ ┏━┻━┓ ┏━┻━┓ ┏━━━┓                                 \n",
       "q4: ──┨ Z ┠─┨ Z ┠─┨ Z ┠─┨ Z ┠─┨ Z ┠─┨ Z ┠─┨ Z ┠─┨ H ┠───                              \n",
       "      ┗━━━┛ ┗━━━┛ ┗━━━┛ ┗━━━┛ ┗━━━┛ ┗━━━┛ ┗━━━┛ ┗━━━┛                                 "
      ]
     },
     "execution_count": 36,
     "metadata": {},
     "output_type": "execute_result"
    }
   ],
   "source": [
    "# pylint: disable=W0104\n",
    "n_qubits = 5                                      # Set the number of qubits to 5\n",
    "phase_inversion_qubit = [5, 11]                   # Set the target state to be phase-flipped, and flip the phases of the |5> state and |11> state here\n",
    "\n",
    "N = 2 ** (n_qubits)                               # Calculate the total number of elements in the database\n",
    "M = len(phase_inversion_qubit)                    # Calculate the total number of target states\n",
    "\n",
    "r = int(pi / 4 * sqrt(N / M))                     # Set the number of iterations of the G operator to r\n",
    "\n",
    "sim3 = Simulator('mqvector_gpu', n_qubits)            # Use the projectq simulator, named sim3\n",
    "\n",
    "circuit3 = Circuit()                              # Initialize the quantum circuit, named circuit3\n",
    "circuit3 += UN(H, n_qubits)                       # H-gate operations are performed on each qubit\n",
    "\n",
    "for i in range(r):                                # Execute the G operator r times in a loop\n",
    "    circuit3 += G(phase_inversion_qubit, n_qubits)\n",
    "\n",
    "sim3.apply_circuit(circuit3)                      # Run the built quantum circuit circuit3 by the simulator sim3\n",
    "\n",
    "circuit3                                          # Print the quantum circuit circuit3 at this time\n"
   ]
  },
  {
   "cell_type": "code",
   "execution_count": 37,
   "id": "13c8894f",
   "metadata": {},
   "outputs": [
    {
     "name": "stdout",
     "output_type": "stream",
     "text": [
      "-0.03590777¦00000⟩\n",
      "-0.03590777¦00001⟩\n",
      "-0.03590777¦00010⟩\n",
      "-0.03590777¦00011⟩\n",
      "-0.03590777¦00100⟩\n",
      "0.6932961¦00101⟩\n",
      "-0.03590777¦00110⟩\n",
      "-0.03590777¦00111⟩\n",
      "-0.03590777¦01000⟩\n",
      "-0.03590777¦01001⟩\n",
      "-0.03590777¦01010⟩\n",
      "0.6932961¦01011⟩\n",
      "-0.03590777¦01100⟩\n",
      "-0.03590777¦01101⟩\n",
      "-0.03590777¦01110⟩\n",
      "-0.03590777¦01111⟩\n",
      "-0.03590777¦10000⟩\n",
      "-0.03590777¦10001⟩\n",
      "-0.03590777¦10010⟩\n",
      "-0.03590777¦10011⟩\n",
      "-0.03590777¦10100⟩\n",
      "-0.03590777¦10101⟩\n",
      "-0.03590777¦10110⟩\n",
      "-0.03590777¦10111⟩\n",
      "-0.03590777¦11000⟩\n",
      "-0.03590777¦11001⟩\n",
      "-0.03590777¦11010⟩\n",
      "-0.03590777¦11011⟩\n",
      "-0.03590777¦11100⟩\n",
      "-0.03590777¦11101⟩\n",
      "-0.03590777¦11110⟩\n",
      "-0.03590777¦11111⟩\n"
     ]
    }
   ],
   "source": [
    "print(sim3.get_qs(True))                          # Print the final state after running the quantum circuit circuit3 in the simulator sim3\n"
   ]
  },
  {
   "cell_type": "code",
   "execution_count": 38,
   "id": "da22dc4c",
   "metadata": {},
   "outputs": [
    {
     "data": {
      "text/html": [
       "<pre style=\"white-space:pre;overflow-x:auto;line-height:normal;font-family:Menlo,'DejaVu Sans Mono',consolas,'Courier New',monospace\"></pre>\n"
      ],
      "text/plain": []
     },
     "metadata": {},
     "output_type": "display_data"
    },
    {
     "data": {
      "text/html": [
       "<pre style=\"white-space: pre;\"><span style=\"color: #808000; text-decoration-color: #808000\">shots: </span><span style=\"color: #008080; text-decoration-color: #008080; font-weight: bold\">1000</span>\n",
       "<span style=\"color: #808000; text-decoration-color: #808000\">Keys: q4 q3 q2 q1 q0│</span><span style=\"color: #008080; text-decoration-color: #008080; font-weight: bold\">0.00</span><span style=\"color: #808000; text-decoration-color: #808000\">   </span><span style=\"color: #008080; text-decoration-color: #008080; font-weight: bold\">0.124</span><span style=\"color: #808000; text-decoration-color: #808000\">       </span><span style=\"color: #008080; text-decoration-color: #008080; font-weight: bold\">0.248</span><span style=\"color: #808000; text-decoration-color: #808000\">       </span><span style=\"color: #008080; text-decoration-color: #008080; font-weight: bold\">0.372</span><span style=\"color: #808000; text-decoration-color: #808000\">       </span><span style=\"color: #008080; text-decoration-color: #008080; font-weight: bold\">0.496</span><span style=\"color: #808000; text-decoration-color: #808000\">        </span><span style=\"color: #008080; text-decoration-color: #008080; font-weight: bold\">0.62</span>\n",
       "<span style=\"color: #808000; text-decoration-color: #808000\">────────────────────┼───────────┴───────────┴───────────┴───────────┴───────────┴</span>\n",
       "<span style=\"color: #808000; text-decoration-color: #808000\">               </span><span style=\"color: #008080; text-decoration-color: #008080; font-weight: bold\">00000</span><span style=\"color: #808000; text-decoration-color: #808000\">│▒</span>\n",
       "<span style=\"color: #808000; text-decoration-color: #808000\">                    │</span>\n",
       "<span style=\"color: #808000; text-decoration-color: #808000\">               </span><span style=\"color: #008080; text-decoration-color: #008080; font-weight: bold\">00001</span><span style=\"color: #808000; text-decoration-color: #808000\">│▒</span>\n",
       "<span style=\"color: #808000; text-decoration-color: #808000\">                    │</span>\n",
       "<span style=\"color: #808000; text-decoration-color: #808000\">               </span><span style=\"color: #008080; text-decoration-color: #008080; font-weight: bold\">00011</span><span style=\"color: #808000; text-decoration-color: #808000\">│▒</span>\n",
       "<span style=\"color: #808000; text-decoration-color: #808000\">                    │</span>\n",
       "<span style=\"color: #808000; text-decoration-color: #808000\">               </span><span style=\"color: #008080; text-decoration-color: #008080; font-weight: bold\">00101</span><span style=\"color: #808000; text-decoration-color: #808000\">│▒▒▒▒▒▒▒▒▒▒▒▒▒▒▒▒▒▒▒▒▒▒▒▒▒▒▒▒▒▒▒▒▒▒▒▒▒▒▒▒▒▒▒▒▒▒</span>\n",
       "<span style=\"color: #808000; text-decoration-color: #808000\">                    │</span>\n",
       "<span style=\"color: #808000; text-decoration-color: #808000\">               </span><span style=\"color: #008080; text-decoration-color: #008080; font-weight: bold\">00110</span><span style=\"color: #808000; text-decoration-color: #808000\">│▒</span>\n",
       "<span style=\"color: #808000; text-decoration-color: #808000\">                    │</span>\n",
       "<span style=\"color: #808000; text-decoration-color: #808000\">               </span><span style=\"color: #008080; text-decoration-color: #008080; font-weight: bold\">00111</span><span style=\"color: #808000; text-decoration-color: #808000\">│▒</span>\n",
       "<span style=\"color: #808000; text-decoration-color: #808000\">                    │</span>\n",
       "<span style=\"color: #808000; text-decoration-color: #808000\">               </span><span style=\"color: #008080; text-decoration-color: #008080; font-weight: bold\">01001</span><span style=\"color: #808000; text-decoration-color: #808000\">│▒</span>\n",
       "<span style=\"color: #808000; text-decoration-color: #808000\">                    │</span>\n",
       "<span style=\"color: #808000; text-decoration-color: #808000\">               </span><span style=\"color: #008080; text-decoration-color: #008080; font-weight: bold\">01011</span><span style=\"color: #808000; text-decoration-color: #808000\">│▓▓▓▓▓▓▓▓▓▓▓▓▓▓▓▓▓▓▓▓▓▓▓▓▓▓▓▓▓▓▓▓▓▓▓▓▓▓▓▓▓▓▓▓▓▓▓▓</span>\n",
       "<span style=\"color: #808000; text-decoration-color: #808000\">                    │</span>\n",
       "<span style=\"color: #808000; text-decoration-color: #808000\">               </span><span style=\"color: #008080; text-decoration-color: #008080; font-weight: bold\">01101</span><span style=\"color: #808000; text-decoration-color: #808000\">│▒</span>\n",
       "<span style=\"color: #808000; text-decoration-color: #808000\">                    │</span>\n",
       "<span style=\"color: #808000; text-decoration-color: #808000\">               </span><span style=\"color: #008080; text-decoration-color: #008080; font-weight: bold\">10000</span><span style=\"color: #808000; text-decoration-color: #808000\">│▒</span>\n",
       "<span style=\"color: #808000; text-decoration-color: #808000\">                    │</span>\n",
       "<span style=\"color: #808000; text-decoration-color: #808000\">               </span><span style=\"color: #008080; text-decoration-color: #008080; font-weight: bold\">10001</span><span style=\"color: #808000; text-decoration-color: #808000\">│▒</span>\n",
       "<span style=\"color: #808000; text-decoration-color: #808000\">                    │</span>\n",
       "<span style=\"color: #808000; text-decoration-color: #808000\">               </span><span style=\"color: #008080; text-decoration-color: #008080; font-weight: bold\">10010</span><span style=\"color: #808000; text-decoration-color: #808000\">│▒</span>\n",
       "<span style=\"color: #808000; text-decoration-color: #808000\">                    │</span>\n",
       "<span style=\"color: #808000; text-decoration-color: #808000\">               </span><span style=\"color: #008080; text-decoration-color: #008080; font-weight: bold\">10011</span><span style=\"color: #808000; text-decoration-color: #808000\">│▒</span>\n",
       "<span style=\"color: #808000; text-decoration-color: #808000\">                    │</span>\n",
       "<span style=\"color: #808000; text-decoration-color: #808000\">               </span><span style=\"color: #008080; text-decoration-color: #008080; font-weight: bold\">10100</span><span style=\"color: #808000; text-decoration-color: #808000\">│▒</span>\n",
       "<span style=\"color: #808000; text-decoration-color: #808000\">                    │</span>\n",
       "<span style=\"color: #808000; text-decoration-color: #808000\">               </span><span style=\"color: #008080; text-decoration-color: #008080; font-weight: bold\">10101</span><span style=\"color: #808000; text-decoration-color: #808000\">│▒</span>\n",
       "<span style=\"color: #808000; text-decoration-color: #808000\">                    │</span>\n",
       "<span style=\"color: #808000; text-decoration-color: #808000\">               </span><span style=\"color: #008080; text-decoration-color: #008080; font-weight: bold\">10111</span><span style=\"color: #808000; text-decoration-color: #808000\">│▒</span>\n",
       "<span style=\"color: #808000; text-decoration-color: #808000\">                    │</span>\n",
       "<span style=\"color: #808000; text-decoration-color: #808000\">               </span><span style=\"color: #008080; text-decoration-color: #008080; font-weight: bold\">11000</span><span style=\"color: #808000; text-decoration-color: #808000\">│▒</span>\n",
       "<span style=\"color: #808000; text-decoration-color: #808000\">                    │</span>\n",
       "<span style=\"color: #808000; text-decoration-color: #808000\">               </span><span style=\"color: #008080; text-decoration-color: #008080; font-weight: bold\">11001</span><span style=\"color: #808000; text-decoration-color: #808000\">│▒</span>\n",
       "<span style=\"color: #808000; text-decoration-color: #808000\">                    │</span>\n",
       "<span style=\"color: #808000; text-decoration-color: #808000\">               </span><span style=\"color: #008080; text-decoration-color: #008080; font-weight: bold\">11010</span><span style=\"color: #808000; text-decoration-color: #808000\">│▒</span>\n",
       "<span style=\"color: #808000; text-decoration-color: #808000\">                    │</span>\n",
       "<span style=\"color: #808000; text-decoration-color: #808000\">               </span><span style=\"color: #008080; text-decoration-color: #008080; font-weight: bold\">11011</span><span style=\"color: #808000; text-decoration-color: #808000\">│▒</span>\n",
       "<span style=\"color: #808000; text-decoration-color: #808000\">                    │</span>\n",
       "<span style=\"color: #808000; text-decoration-color: #808000\">               </span><span style=\"color: #008080; text-decoration-color: #008080; font-weight: bold\">11110</span><span style=\"color: #808000; text-decoration-color: #808000\">│▒</span>\n",
       "<span style=\"color: #808000; text-decoration-color: #808000\">                    │</span>\n",
       "<span style=\"color: #808000; text-decoration-color: #808000; font-weight: bold\">{</span><span style=\"color: #008000; text-decoration-color: #008000\">'00000'</span><span style=\"color: #808000; text-decoration-color: #808000\">: </span><span style=\"color: #008080; text-decoration-color: #008080; font-weight: bold\">1</span><span style=\"color: #808000; text-decoration-color: #808000\">, </span><span style=\"color: #008000; text-decoration-color: #008000\">'00001'</span><span style=\"color: #808000; text-decoration-color: #808000\">: </span><span style=\"color: #008080; text-decoration-color: #008080; font-weight: bold\">4</span><span style=\"color: #808000; text-decoration-color: #808000\">, </span><span style=\"color: #008000; text-decoration-color: #008000\">'00011'</span><span style=\"color: #808000; text-decoration-color: #808000\">: </span><span style=\"color: #008080; text-decoration-color: #008080; font-weight: bold\">1</span><span style=\"color: #808000; text-decoration-color: #808000\">, </span><span style=\"color: #008000; text-decoration-color: #008000\">'00101'</span><span style=\"color: #808000; text-decoration-color: #808000\">: </span><span style=\"color: #008080; text-decoration-color: #008080; font-weight: bold\">474</span><span style=\"color: #808000; text-decoration-color: #808000\">, </span><span style=\"color: #008000; text-decoration-color: #008000\">'00110'</span><span style=\"color: #808000; text-decoration-color: #808000\">: </span><span style=\"color: #008080; text-decoration-color: #008080; font-weight: bold\">3</span><span style=\"color: #808000; text-decoration-color: #808000\">, </span><span style=\"color: #008000; text-decoration-color: #008000\">'00111'</span><span style=\"color: #808000; text-decoration-color: #808000\">: </span><span style=\"color: #008080; text-decoration-color: #008080; font-weight: bold\">1</span><span style=\"color: #808000; text-decoration-color: #808000\">, </span><span style=\"color: #008000; text-decoration-color: #008000\">'01001'</span><span style=\"color: #808000; text-decoration-color: #808000\">: </span><span style=\"color: #008080; text-decoration-color: #008080; font-weight: bold\">1</span><span style=\"color: #808000; text-decoration-color: #808000\">, </span>\n",
       "<span style=\"color: #008000; text-decoration-color: #008000\">'01011'</span><span style=\"color: #808000; text-decoration-color: #808000\">: </span><span style=\"color: #008080; text-decoration-color: #008080; font-weight: bold\">496</span><span style=\"color: #808000; text-decoration-color: #808000\">, </span><span style=\"color: #008000; text-decoration-color: #008000\">'01101'</span><span style=\"color: #808000; text-decoration-color: #808000\">: </span><span style=\"color: #008080; text-decoration-color: #008080; font-weight: bold\">1</span><span style=\"color: #808000; text-decoration-color: #808000\">, </span><span style=\"color: #008000; text-decoration-color: #008000\">'10000'</span><span style=\"color: #808000; text-decoration-color: #808000\">: </span><span style=\"color: #008080; text-decoration-color: #008080; font-weight: bold\">1</span><span style=\"color: #808000; text-decoration-color: #808000\">, </span><span style=\"color: #008000; text-decoration-color: #008000\">'10001'</span><span style=\"color: #808000; text-decoration-color: #808000\">: </span><span style=\"color: #008080; text-decoration-color: #008080; font-weight: bold\">2</span><span style=\"color: #808000; text-decoration-color: #808000\">, </span><span style=\"color: #008000; text-decoration-color: #008000\">'10010'</span><span style=\"color: #808000; text-decoration-color: #808000\">: </span><span style=\"color: #008080; text-decoration-color: #008080; font-weight: bold\">2</span><span style=\"color: #808000; text-decoration-color: #808000\">, </span><span style=\"color: #008000; text-decoration-color: #008000\">'10011'</span><span style=\"color: #808000; text-decoration-color: #808000\">: </span><span style=\"color: #008080; text-decoration-color: #008080; font-weight: bold\">1</span><span style=\"color: #808000; text-decoration-color: #808000\">, </span><span style=\"color: #008000; text-decoration-color: #008000\">'10100'</span><span style=\"color: #808000; text-decoration-color: #808000\">: </span><span style=\"color: #008080; text-decoration-color: #008080; font-weight: bold\">2</span><span style=\"color: #808000; text-decoration-color: #808000\">, </span>\n",
       "<span style=\"color: #008000; text-decoration-color: #008000\">'10101'</span><span style=\"color: #808000; text-decoration-color: #808000\">: </span><span style=\"color: #008080; text-decoration-color: #008080; font-weight: bold\">1</span><span style=\"color: #808000; text-decoration-color: #808000\">, </span><span style=\"color: #008000; text-decoration-color: #008000\">'10111'</span><span style=\"color: #808000; text-decoration-color: #808000\">: </span><span style=\"color: #008080; text-decoration-color: #008080; font-weight: bold\">3</span><span style=\"color: #808000; text-decoration-color: #808000\">, </span><span style=\"color: #008000; text-decoration-color: #008000\">'11000'</span><span style=\"color: #808000; text-decoration-color: #808000\">: </span><span style=\"color: #008080; text-decoration-color: #008080; font-weight: bold\">2</span><span style=\"color: #808000; text-decoration-color: #808000\">, </span><span style=\"color: #008000; text-decoration-color: #008000\">'11001'</span><span style=\"color: #808000; text-decoration-color: #808000\">: </span><span style=\"color: #008080; text-decoration-color: #008080; font-weight: bold\">1</span><span style=\"color: #808000; text-decoration-color: #808000\">, </span><span style=\"color: #008000; text-decoration-color: #008000\">'11010'</span><span style=\"color: #808000; text-decoration-color: #808000\">: </span><span style=\"color: #008080; text-decoration-color: #008080; font-weight: bold\">1</span><span style=\"color: #808000; text-decoration-color: #808000\">, </span><span style=\"color: #008000; text-decoration-color: #008000\">'11011'</span><span style=\"color: #808000; text-decoration-color: #808000\">: </span><span style=\"color: #008080; text-decoration-color: #008080; font-weight: bold\">1</span><span style=\"color: #808000; text-decoration-color: #808000\">, </span><span style=\"color: #008000; text-decoration-color: #008000\">'11110'</span><span style=\"color: #808000; text-decoration-color: #808000\">: </span><span style=\"color: #008080; text-decoration-color: #008080; font-weight: bold\">1</span><span style=\"color: #808000; text-decoration-color: #808000; font-weight: bold\">}</span>\n",
       "</pre>\n"
      ],
      "text/plain": [
       "shots: 1000\n",
       "Keys: q4 q3 q2 q1 q0│0.00   0.124       0.248       0.372       0.496        0.62\n",
       "────────────────────┼───────────┴───────────┴───────────┴───────────┴───────────┴\n",
       "               00000│▒\n",
       "                    │\n",
       "               00001│▒\n",
       "                    │\n",
       "               00011│▒\n",
       "                    │\n",
       "               00101│▒▒▒▒▒▒▒▒▒▒▒▒▒▒▒▒▒▒▒▒▒▒▒▒▒▒▒▒▒▒▒▒▒▒▒▒▒▒▒▒▒▒▒▒▒▒\n",
       "                    │\n",
       "               00110│▒\n",
       "                    │\n",
       "               00111│▒\n",
       "                    │\n",
       "               01001│▒\n",
       "                    │\n",
       "               01011│▓▓▓▓▓▓▓▓▓▓▓▓▓▓▓▓▓▓▓▓▓▓▓▓▓▓▓▓▓▓▓▓▓▓▓▓▓▓▓▓▓▓▓▓▓▓▓▓\n",
       "                    │\n",
       "               01101│▒\n",
       "                    │\n",
       "               10000│▒\n",
       "                    │\n",
       "               10001│▒\n",
       "                    │\n",
       "               10010│▒\n",
       "                    │\n",
       "               10011│▒\n",
       "                    │\n",
       "               10100│▒\n",
       "                    │\n",
       "               10101│▒\n",
       "                    │\n",
       "               10111│▒\n",
       "                    │\n",
       "               11000│▒\n",
       "                    │\n",
       "               11001│▒\n",
       "                    │\n",
       "               11010│▒\n",
       "                    │\n",
       "               11011│▒\n",
       "                    │\n",
       "               11110│▒\n",
       "                    │\n",
       "{'00000': 1, '00001': 4, '00011': 1, '00101': 474, '00110': 3, '00111': 1, '01001': 1, '01011': 496, '01101': 1, '10000': 1, '10001': 2, '10010': 2, '10011': 1, '10100': 2, '10101': 1, '10111': 3, '11000': 2, '11001': 1, '11010': 1, '11011': 1, '11110': 1}"
      ]
     },
     "execution_count": 38,
     "metadata": {},
     "output_type": "execute_result"
    }
   ],
   "source": [
    "\n",
    "# pylint: disable=W0104\n",
    "sim3.reset()                                      # Reset the quantum state maintained by the simulator sim3 so that the initialized quantum state is |00000>\n",
    "\n",
    "circuit3 += UN(Measure(), circuit3.n_qubits)      # Add a measurement gate to each qubit in the quantum circuit circuit3\n",
    "\n",
    "result1 = sim3.sampling(circuit3, shots=1000)     # The quantum circuit circuit3 is sampled 1000 times by the simulator sim3\n",
    "result1                                           # print sampling results\n"
   ]
  }
 ],
 "metadata": {
  "kernelspec": {
   "display_name": "mindquantum",
   "language": "python",
   "name": "python3"
  },
  "language_info": {
   "codemirror_mode": {
    "name": "ipython",
    "version": 3
   },
   "file_extension": ".py",
   "mimetype": "text/x-python",
   "name": "python",
   "nbconvert_exporter": "python",
   "pygments_lexer": "ipython3",
   "version": "3.11.13"
  }
 },
 "nbformat": 4,
 "nbformat_minor": 5
}
