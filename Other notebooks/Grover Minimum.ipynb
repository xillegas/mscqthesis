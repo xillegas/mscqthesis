{
 "cells": [
  {
   "cell_type": "markdown",
   "metadata": {},
   "source": [
    "# Grover's Algorithm for Finding Minimum Value in an Unsorted Array\n",
    "\n",
    "This code is a Jupyter Notebook implementing the Grover's algorithm for searching an unsorted array of numbers. \n",
    "\n",
    "1. The first cell imports necessary libraries, including NumPy and Qiskit.\n",
    "2. The second cell defines two functions: `find_min` and `grover_search`. The `find_min` function uses the `grover_search` function to find the minimum value in an unsorted array. The `grover_search` function implements Grover's algorithm, which is a quantum algorithm for searching an unsorted array.\n",
    "3. The third cell creates an unsorted array of 16 numbers and shuffles it. It then calls the `find_min` function with this array and 64 iterations to find the minimum value.\n",
    "\n",
    "Grover's algorithm is a quantum algorithm that can search an unsorted array in O(sqrt(N)) time, where N is the size of the array. This is much faster than classical algorithms for searching an unsorted array, which have a time complexity of O(N).\n",
    "\n",
    "In this code, the `grover_search` function uses Qiskit's implementation of Grover's algorithm to find the index of the minimum value in the array. The function first creates an oracle circuit that marks the indices of the elements in the array that are less than or equal to a given threshold. It then applies the Grover operator to this oracle circuit, which amplifies the probability of finding the minimum value. Finally, it measures the output of the quantum circuit and returns the index of the minimum value.\n",
    "\n",
    "Overall, this code demonstrates how to implement Grover's algorithm using Qiskit and Python."
   ]
  },
  {
   "cell_type": "code",
   "execution_count": 2,
   "metadata": {},
   "outputs": [],
   "source": [
    "import numpy as np\n",
    "from qiskit import QuantumCircuit, Aer, execute\n",
    "from qiskit.circuit.library import GroverOperator\n",
    "import random"
   ]
  },
  {
   "cell_type": "code",
   "execution_count": 4,
   "metadata": {},
   "outputs": [],
   "source": [
    "# numbers = unsorted array of numbers\n",
    "def find_min(numbers, iterations):\n",
    "    n_items = len(numbers)\n",
    "    threshold = numbers[random.randint(0, n_items-1)] # Choosing a random threshold value\n",
    "    candidate_indices = [i for i in range(n_items) if numbers[i] <= threshold] # Marking elements of numbers that are <= threshold\n",
    "    for _ in range(iterations):\n",
    "        new_threshold = numbers[grover_search(candidate_indices, n_items)] # Grover search to find element smaller than current threshold\n",
    "        if new_threshold < threshold:\n",
    "            threshold = new_threshold\n",
    "            candidate_indices = [idx for idx in candidate_indices if numbers[idx] <= threshold]\n",
    "    return threshold\n",
    "\n",
    "def grover_search(candidate_indices, n_items):\n",
    "    n_qubits = int(np.ceil(np.log2(n_items)))\n",
    "    oracle = np.identity(2**n_qubits)\n",
    "    for idx in candidate_indices:\n",
    "        oracle[idx, idx] = -1 # Building oracle\n",
    "    oracle_circuit = QuantumCircuit(n_qubits)\n",
    "    oracle_circuit.unitary(oracle, range(n_qubits))\n",
    "    grover_op = GroverOperator(oracle_circuit, insert_barriers=True)\n",
    "    grover_circuit = QuantumCircuit(n_qubits, n_qubits)\n",
    "    grover_circuit.h(range(n_qubits)) # Initializing equal superposition\n",
    "    n_grover_iterations = int(np.sqrt(n_items))\n",
    "    for _ in range(n_grover_iterations):\n",
    "        grover_circuit = grover_circuit.compose(grover_op)\n",
    "    grover_circuit.measure(range(n_qubits), range(n_qubits))\n",
    "    backend = Aer.get_backend(\"qasm_simulator\")\n",
    "    grover_circuit.decompose().draw()\n",
    "    job = execute(grover_circuit, backend)\n",
    "    result = int(list(job.result().get_counts().keys())[0], 2)\n",
    "    return result"
   ]
  },
  {
   "cell_type": "code",
   "execution_count": 8,
   "metadata": {},
   "outputs": [
    {
     "name": "stdout",
     "output_type": "stream",
     "text": [
      "[12, 2, 3, 6, 5, 4, 10, 1, 15, 13, 11, 8, 9, 14, 10, 7]\n"
     ]
    },
    {
     "data": {
      "text/plain": [
       "2"
      ]
     },
     "execution_count": 8,
     "metadata": {},
     "output_type": "execute_result"
    }
   ],
   "source": [
    "unsorted_numbers = list(range(16))\n",
    "unsorted_numbers.reverse()\n",
    "unsorted_numbers.remove(0)  # Remove zero to avoid trivial case\n",
    "unsorted_numbers.append(10)  # Append a number to ensure the list is not empty\n",
    "random.shuffle(unsorted_numbers)  # Shuffle the list to create an unsorted array\n",
    "print(unsorted_numbers)\n",
    "find_min(unsorted_numbers, 64)"
   ]
  },
  {
   "cell_type": "code",
   "execution_count": null,
   "metadata": {},
   "outputs": [],
   "source": []
  },
  {
   "cell_type": "code",
   "execution_count": null,
   "metadata": {},
   "outputs": [],
   "source": []
  }
 ],
 "metadata": {
  "kernelspec": {
   "display_name": "qiskit",
   "language": "python",
   "name": "python3"
  },
  "language_info": {
   "codemirror_mode": {
    "name": "ipython",
    "version": 3
   },
   "file_extension": ".py",
   "mimetype": "text/x-python",
   "name": "python",
   "nbconvert_exporter": "python",
   "pygments_lexer": "ipython3",
   "version": "3.10.4"
  }
 },
 "nbformat": 4,
 "nbformat_minor": 4
}
