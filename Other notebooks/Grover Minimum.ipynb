{
 "cells": [
  {
   "cell_type": "code",
   "execution_count": 1,
   "metadata": {},
   "outputs": [],
   "source": [
    "import numpy as np\n",
    "from qiskit import *\n",
    "from qiskit.circuit.library import GroverOperator\n",
    "import random"
   ]
  },
  {
   "cell_type": "code",
   "execution_count": 2,
   "metadata": {},
   "outputs": [],
   "source": [
    "#nums = unsorted array of numbers\n",
    "def find_min(nums, iters):\n",
    "    N = len(nums)\n",
    "    t = nums[random.randint(0, N-1)] #Choosing a random threshhold value\n",
    "    targets = [i for i in range(N) if nums[i]<=t ] #Marking elements of nums that are <= threshhold\n",
    "    for i in range(iters):\n",
    "        new_t = nums[grover_search(targets, N)] #Grover search to find element smaller than current threshhold\n",
    "        if new_t<t:\n",
    "            t=new_t\n",
    "            targets = [target for target in targets if nums[target]<=t]\n",
    "    return t\n",
    "def grover_search(targets, N):\n",
    "    d = int(np.ceil(np.log2(N)))\n",
    "    oracle = np.identity(2**d)\n",
    "    for target in targets:\n",
    "        oracle[target, target] = -1 #Building oracle\n",
    "    oc = QuantumCircuit(d)\n",
    "    oc.unitary(oracle, range(d))\n",
    "    grover_op = GroverOperator(oc, insert_barriers=True)\n",
    "    qc = QuantumCircuit(d, d)\n",
    "    qc.h(range(d)) #Initializing equal superposition\n",
    "    r = int(np.sqrt(N))\n",
    "    for i in range(r):\n",
    "        qc = qc.compose(grover_op) \n",
    "    qc.measure(range(d), range(d))\n",
    "    backend = Aer.get_backend(\"qasm_simulator\")\n",
    "    qc.decompose().draw()\n",
    "    job = execute(qc, backend)\n",
    "    result = int(list(job.result().get_counts().keys())[0], 2)\n",
    "    return result"
   ]
  },
  {
   "cell_type": "code",
   "execution_count": 5,
   "metadata": {},
   "outputs": [
    {
     "name": "stdout",
     "output_type": "stream",
     "text": [
      "[9, 15, 12, 8, 14, 1, 2, 10, 7, 13, 11, 0, 5, 4, 6, 3]\n"
     ]
    },
    {
     "data": {
      "text/plain": [
       "0"
      ]
     },
     "execution_count": 5,
     "metadata": {},
     "output_type": "execute_result"
    }
   ],
   "source": [
    "m = list(range(16))\n",
    "m.reverse()\n",
    "random.shuffle(m)  # Shuffle the list to create an unsorted array\n",
    "print(m)\n",
    "find_min(m, 64)"
   ]
  },
  {
   "cell_type": "code",
   "execution_count": null,
   "metadata": {},
   "outputs": [],
   "source": []
  },
  {
   "cell_type": "code",
   "execution_count": null,
   "metadata": {},
   "outputs": [],
   "source": []
  }
 ],
 "metadata": {
  "kernelspec": {
   "display_name": "qiskit",
   "language": "python",
   "name": "python3"
  },
  "language_info": {
   "codemirror_mode": {
    "name": "ipython",
    "version": 3
   },
   "file_extension": ".py",
   "mimetype": "text/x-python",
   "name": "python",
   "nbconvert_exporter": "python",
   "pygments_lexer": "ipython3",
   "version": "3.10.4"
  }
 },
 "nbformat": 4,
 "nbformat_minor": 4
}
